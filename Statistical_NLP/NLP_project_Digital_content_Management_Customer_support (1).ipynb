{
 "cells": [
  {
   "cell_type": "markdown",
   "id": "fb6a24a9",
   "metadata": {},
   "source": [
    "## Part -1 : Digital content management using NLP"
   ]
  },
  {
   "cell_type": "markdown",
   "id": "71f80db4",
   "metadata": {
    "id": "1iqtrlA5lU6l"
   },
   "source": [
    "##### DOMAIN: Digital content management\n",
    "##### CONTEXT: Classification is probably the most popular task that you would deal with in real life. Text in the form of blogs, posts, articles,  etc. is written every second. It is a challenge to predict the information about the writer without knowing about him/her. We are going to create a classifier that predicts multiple features of the author of a given text. We have designed it as a Multi label classification problem.\n",
    "##### DATA DESCRIPTION: Over 600,000 posts from more than 19 thousand bloggers The Blog Authorship Corpus consists of the collected posts of 19,320 bloggers gathered from blogger.com in August 2004. The corpus incorporates a total of 681,288 posts and over 140 million words - or approximately 35 posts and 7250 words per person. Each blog is presented as a separate file, the name of which indicates a blogger id# and the blogger’s self-provided gender, age, industry, and astrological sign. (All are labelled for gender and age but for many, industry and/or sign is marked as unknown.) All bloggers included in the corpus fall into one of three age groups:\n",
    "\t8240 \"10s\" blogs (ages 13-17), \n",
    "\t8086 \"20s\" blogs(ages 23-27) and \n",
    "\t2994 \"30s\" blogs (ages 33-47)\n",
    "\n",
    "\tFor each age group, there is an equal number of male and female bloggers. Each blog in the corpus includes at least 200 occurrences of common English words. All formatting has been stripped with two exceptions. Individual posts within a single blogger are separated by the date of the following post and links within a post are denoted by the label url link. \n",
    "\t\n",
    "\tLink to dataset: https://www.kaggle.com/rtatman/blog-authorship-corpus\n",
    "##### PROJECT OBJECTIVE: The need is to build a NLP classifier which can use input text parameters to determine the label/s of the blog.\n",
    "\n",
    "Steps and tasks:\n",
    "\t1. Import and analyse the data set.\n",
    "\t2. Perform data pre-processing on the data:\n",
    "\t\t• Data cleansing by removing unwanted characters, spaces, stop words etc. Convert text to lowercase.\n",
    "\t\t• Target/label merger and transformation\n",
    "\t\t• Train and test split\n",
    "\t\t• Vectorisation, etc.\n",
    "\t3. Design, train, tune and test the best text classifier.\n",
    "\t4. Display and explain detail the classification report\n",
    "\t5. Print the true vs predicted labels for any 5 entries from the dataset.\n",
    "\n",
    "Hint: The aim here Is to import the text, process it such a way that it can be taken as an inout to the ML/NN classifiers. Be analytical and experimental here in trying new \n",
    "approaches to design the best model."
   ]
  },
  {
   "cell_type": "code",
   "execution_count": null,
   "id": "efbc60e5",
   "metadata": {
    "colab": {
     "base_uri": "https://localhost:8080/"
    },
    "id": "ZeAMUDrGmcYs",
    "outputId": "6506dbbc-0395-4699-8b58-5012632e17d4"
   },
   "outputs": [
    {
     "name": "stdout",
     "output_type": "stream",
     "text": [
      "Mounted at /content/drive\n"
     ]
    }
   ],
   "source": [
    "from google.colab import drive\n",
    "drive.mount('/content/drive',  force_remount=True)"
   ]
  },
  {
   "cell_type": "markdown",
   "id": "d57ee030",
   "metadata": {
    "id": "jYpZqX_NmznU"
   },
   "source": [
    "\n",
    "### Task #1 :: Import and analyse the data set."
   ]
  },
  {
   "cell_type": "markdown",
   "id": "a7f4e566",
   "metadata": {
    "id": "FLhYZToUDXse"
   },
   "source": [
    "The data set provided is around 800 MB and there are many text records to be processed. This data may not fit into memory and processing will take more time and needs some mechanism to process the data parallely. There are several ways to handle data which doesn't fit to memory.\n",
    "\n",
    "Modin is a python library that can be used to handle large datasets using parallelisation.  Dask is one more framework which can be used in this use case. Here modin is using dask as underlying framework.\n",
    "\n",
    "Note: There are several other ways like using python pool which brings in some kind of parallelism but here we need to take care of releasing the utilized back. In Pandas release memory back is not working as expected. We shall see the same in this notebook and we would add appropriate explanation and **comment** the code.\n"
   ]
  },
  {
   "cell_type": "code",
   "execution_count": null,
   "id": "88d60434",
   "metadata": {
    "colab": {
     "base_uri": "https://localhost:8080/"
    },
    "id": "F8KOFG0yDW7q",
    "outputId": "fcc11736-1c08-41fe-9772-c3dbe681044c"
   },
   "outputs": [
    {
     "name": "stdout",
     "output_type": "stream",
     "text": [
      "Requirement already satisfied: modin[dask] in /usr/local/lib/python3.7/dist-packages (0.11.2)\n",
      "Requirement already satisfied: pandas==1.3.4 in /usr/local/lib/python3.7/dist-packages (from modin[dask]) (1.3.4)\n",
      "Requirement already satisfied: packaging in /usr/local/lib/python3.7/dist-packages (from modin[dask]) (21.0)\n",
      "Requirement already satisfied: numpy>=1.16.5 in /usr/local/lib/python3.7/dist-packages (from modin[dask]) (1.19.5)\n",
      "Requirement already satisfied: dask>=2.22.0 in /usr/local/lib/python3.7/dist-packages (from modin[dask]) (2021.10.0)\n",
      "Requirement already satisfied: distributed>=2.22.0 in /usr/local/lib/python3.7/dist-packages (from modin[dask]) (2021.10.0)\n",
      "Requirement already satisfied: python-dateutil>=2.7.3 in /usr/local/lib/python3.7/dist-packages (from pandas==1.3.4->modin[dask]) (2.8.2)\n",
      "Requirement already satisfied: pytz>=2017.3 in /usr/local/lib/python3.7/dist-packages (from pandas==1.3.4->modin[dask]) (2018.9)\n",
      "Requirement already satisfied: fsspec>=0.6.0 in /usr/local/lib/python3.7/dist-packages (from dask>=2.22.0->modin[dask]) (2021.10.1)\n",
      "Requirement already satisfied: partd>=0.3.10 in /usr/local/lib/python3.7/dist-packages (from dask>=2.22.0->modin[dask]) (1.2.0)\n",
      "Requirement already satisfied: pyyaml in /usr/local/lib/python3.7/dist-packages (from dask>=2.22.0->modin[dask]) (3.13)\n",
      "Requirement already satisfied: cloudpickle>=1.1.1 in /usr/local/lib/python3.7/dist-packages (from dask>=2.22.0->modin[dask]) (2.0.0)\n",
      "Requirement already satisfied: toolz>=0.8.2 in /usr/local/lib/python3.7/dist-packages (from dask>=2.22.0->modin[dask]) (0.11.1)\n",
      "Requirement already satisfied: click>=6.6 in /usr/local/lib/python3.7/dist-packages (from distributed>=2.22.0->modin[dask]) (7.1.2)\n",
      "Requirement already satisfied: sortedcontainers!=2.0.0,!=2.0.1 in /usr/local/lib/python3.7/dist-packages (from distributed>=2.22.0->modin[dask]) (2.4.0)\n",
      "Requirement already satisfied: zict>=0.1.3 in /usr/local/lib/python3.7/dist-packages (from distributed>=2.22.0->modin[dask]) (2.0.0)\n",
      "Requirement already satisfied: setuptools in /usr/local/lib/python3.7/dist-packages (from distributed>=2.22.0->modin[dask]) (57.4.0)\n",
      "Requirement already satisfied: psutil>=5.0 in /usr/local/lib/python3.7/dist-packages (from distributed>=2.22.0->modin[dask]) (5.4.8)\n",
      "Requirement already satisfied: tornado>=5 in /usr/local/lib/python3.7/dist-packages (from distributed>=2.22.0->modin[dask]) (5.1.1)\n",
      "Requirement already satisfied: msgpack>=0.6.0 in /usr/local/lib/python3.7/dist-packages (from distributed>=2.22.0->modin[dask]) (1.0.2)\n",
      "Requirement already satisfied: tblib>=1.6.0 in /usr/local/lib/python3.7/dist-packages (from distributed>=2.22.0->modin[dask]) (1.7.0)\n",
      "Requirement already satisfied: jinja2 in /usr/local/lib/python3.7/dist-packages (from distributed>=2.22.0->modin[dask]) (2.11.3)\n",
      "Requirement already satisfied: pyparsing>=2.0.2 in /usr/local/lib/python3.7/dist-packages (from packaging->modin[dask]) (2.4.7)\n",
      "Requirement already satisfied: locket in /usr/local/lib/python3.7/dist-packages (from partd>=0.3.10->dask>=2.22.0->modin[dask]) (0.2.1)\n",
      "Requirement already satisfied: six>=1.5 in /usr/local/lib/python3.7/dist-packages (from python-dateutil>=2.7.3->pandas==1.3.4->modin[dask]) (1.15.0)\n",
      "Requirement already satisfied: heapdict in /usr/local/lib/python3.7/dist-packages (from zict>=0.1.3->distributed>=2.22.0->modin[dask]) (1.0.1)\n",
      "Requirement already satisfied: MarkupSafe>=0.23 in /usr/local/lib/python3.7/dist-packages (from jinja2->distributed>=2.22.0->modin[dask]) (2.0.1)\n",
      "Requirement already satisfied: dateparser in /usr/local/lib/python3.7/dist-packages (1.1.0)\n",
      "Requirement already satisfied: tzlocal in /usr/local/lib/python3.7/dist-packages (from dateparser) (1.5.1)\n",
      "Requirement already satisfied: pytz in /usr/local/lib/python3.7/dist-packages (from dateparser) (2018.9)\n",
      "Requirement already satisfied: python-dateutil in /usr/local/lib/python3.7/dist-packages (from dateparser) (2.8.2)\n",
      "Requirement already satisfied: regex!=2019.02.19,!=2021.8.27 in /usr/local/lib/python3.7/dist-packages (from dateparser) (2019.12.20)\n",
      "Requirement already satisfied: six>=1.5 in /usr/local/lib/python3.7/dist-packages (from python-dateutil->dateparser) (1.15.0)\n"
     ]
    }
   ],
   "source": [
    "## Uncomment if starting new runtime/instance in colab\n",
    "!pip install modin[dask]\n",
    "!pip install dateparser\n",
    "!pip install emoji --quiet"
   ]
  },
  {
   "cell_type": "code",
   "execution_count": null,
   "id": "93825c9d",
   "metadata": {
    "colab": {
     "base_uri": "https://localhost:8080/"
    },
    "id": "YX026Dks-2BB",
    "outputId": "0a18beb1-8016-42ac-d6c2-e98a8094541f"
   },
   "outputs": [
    {
     "name": "stdout",
     "output_type": "stream",
     "text": [
      "Requirement already satisfied: ipython-autotime in /usr/local/lib/python3.7/dist-packages (0.3.1)\n",
      "Requirement already satisfied: ipython in /usr/local/lib/python3.7/dist-packages (from ipython-autotime) (5.5.0)\n",
      "Requirement already satisfied: pexpect in /usr/local/lib/python3.7/dist-packages (from ipython->ipython-autotime) (4.8.0)\n",
      "Requirement already satisfied: pickleshare in /usr/local/lib/python3.7/dist-packages (from ipython->ipython-autotime) (0.7.5)\n",
      "Requirement already satisfied: traitlets>=4.2 in /usr/local/lib/python3.7/dist-packages (from ipython->ipython-autotime) (5.1.0)\n",
      "Requirement already satisfied: prompt-toolkit<2.0.0,>=1.0.4 in /usr/local/lib/python3.7/dist-packages (from ipython->ipython-autotime) (1.0.18)\n",
      "Requirement already satisfied: setuptools>=18.5 in /usr/local/lib/python3.7/dist-packages (from ipython->ipython-autotime) (57.4.0)\n",
      "Requirement already satisfied: decorator in /usr/local/lib/python3.7/dist-packages (from ipython->ipython-autotime) (4.4.2)\n",
      "Requirement already satisfied: simplegeneric>0.8 in /usr/local/lib/python3.7/dist-packages (from ipython->ipython-autotime) (0.8.1)\n",
      "Requirement already satisfied: pygments in /usr/local/lib/python3.7/dist-packages (from ipython->ipython-autotime) (2.6.1)\n",
      "Requirement already satisfied: six>=1.9.0 in /usr/local/lib/python3.7/dist-packages (from prompt-toolkit<2.0.0,>=1.0.4->ipython->ipython-autotime) (1.15.0)\n",
      "Requirement already satisfied: wcwidth in /usr/local/lib/python3.7/dist-packages (from prompt-toolkit<2.0.0,>=1.0.4->ipython->ipython-autotime) (0.2.5)\n",
      "Requirement already satisfied: ptyprocess>=0.5 in /usr/local/lib/python3.7/dist-packages (from pexpect->ipython->ipython-autotime) (0.7.0)\n",
      "time: 212 µs (started: 2021-10-31 10:53:29 +00:00)\n"
     ]
    }
   ],
   "source": [
    "!pip install ipython-autotime\n",
    "%load_ext autotime"
   ]
  },
  {
   "cell_type": "code",
   "execution_count": null,
   "id": "e3cf9d9b",
   "metadata": {
    "colab": {
     "base_uri": "https://localhost:8080/"
    },
    "id": "cl07sFMrm6QW",
    "outputId": "650633bb-a9e0-4bed-f5be-05cb6b59e168"
   },
   "outputs": [
    {
     "name": "stdout",
     "output_type": "stream",
     "text": [
      "[nltk_data] Downloading package stopwords to /root/nltk_data...\n",
      "[nltk_data]   Package stopwords is already up-to-date!\n",
      "[nltk_data] Downloading package words to /root/nltk_data...\n",
      "[nltk_data]   Package words is already up-to-date!\n",
      "[nltk_data] Downloading package wordnet to /root/nltk_data...\n",
      "[nltk_data]   Package wordnet is already up-to-date!\n",
      "[nltk_data] Downloading package punkt to /root/nltk_data...\n",
      "[nltk_data]   Package punkt is already up-to-date!\n",
      "[nltk_data] Downloading package averaged_perceptron_tagger to\n",
      "[nltk_data]     /root/nltk_data...\n",
      "[nltk_data]   Package averaged_perceptron_tagger is already up-to-\n",
      "[nltk_data]       date!\n"
     ]
    },
    {
     "data": {
      "text/plain": [
       "True"
      ]
     },
     "execution_count": 23,
     "metadata": {},
     "output_type": "execute_result"
    },
    {
     "name": "stdout",
     "output_type": "stream",
     "text": [
      "time: 30.1 ms (started: 2021-10-31 10:53:58 +00:00)\n"
     ]
    }
   ],
   "source": [
    "### instead of using pandas we are using modin and hence commenting pandas import statement\n",
    "\n",
    "# import pandas as pd\n",
    "import modin.pandas as pd\n",
    "import os\n",
    "import numpy as np\n",
    "os.environ[\"MODIN_ENGINE\"] = \"dask\"  # Modin will use Dask\n",
    "\n",
    "from nltk import WordNetLemmatizer\n",
    "import re\n",
    "import unicodedata\n",
    "import emoji\n",
    "from nltk.corpus import stopwords\n",
    "import nltk \n",
    "nltk.download('stopwords')\n",
    "nltk.download('words')\n",
    "nltk.download('wordnet')\n",
    "from nltk import pos_tag\n",
    "from nltk.stem import WordNetLemmatizer\n",
    "nltk.download('punkt')\n",
    "nltk.download('averaged_perceptron_tagger')"
   ]
  },
  {
   "cell_type": "code",
   "execution_count": null,
   "id": "7283d73b",
   "metadata": {
    "colab": {
     "base_uri": "https://localhost:8080/"
    },
    "id": "YHQ6YhG3m6TO",
    "outputId": "0a7cdf76-6898-4200-d510-f5672f5d56ca"
   },
   "outputs": [
    {
     "name": "stdout",
     "output_type": "stream",
     "text": [
      "time: 10.5 s (started: 2021-10-31 10:53:59 +00:00)\n"
     ]
    }
   ],
   "source": [
    "blog_df = pd.read_table('/content/drive/MyDrive/MachineLearning/NLP/Project/Week3Project/blogtext_1.csv', header='infer', sep=',')"
   ]
  },
  {
   "cell_type": "code",
   "execution_count": null,
   "id": "4d93b298",
   "metadata": {
    "colab": {
     "base_uri": "https://localhost:8080/"
    },
    "id": "GFCZHQ0hyUdY",
    "outputId": "3153e408-ad63-4428-8434-d7d94feef08c"
   },
   "outputs": [
    {
     "name": "stdout",
     "output_type": "stream",
     "text": [
      "time: 1.43 ms (started: 2021-10-31 10:54:09 +00:00)\n"
     ]
    }
   ],
   "source": [
    "### considering entire dataset\n",
    "blog_df = blog_df\n",
    "\n",
    "#considering only subset of data - for testing the flow\n",
    "# blog_df = blog_df.iloc[0:20000]"
   ]
  },
  {
   "cell_type": "markdown",
   "id": "406e78b5",
   "metadata": {
    "id": "R49tMMmBnPNs"
   },
   "source": [
    "  Checking the basic information on dataframe which is created from the blog dataset"
   ]
  },
  {
   "cell_type": "code",
   "execution_count": null,
   "id": "d9db6368",
   "metadata": {
    "colab": {
     "base_uri": "https://localhost:8080/"
    },
    "id": "TaiuPX25m6WN",
    "outputId": "0632088a-7083-4b2c-ff8c-a3bdd76b6ae5"
   },
   "outputs": [
    {
     "name": "stderr",
     "output_type": "stream",
     "text": [
      "UserWarning: Distributing <class 'int'> object. This may take some time.\n"
     ]
    },
    {
     "name": "stdout",
     "output_type": "stream",
     "text": [
      "<class 'modin.pandas.dataframe.DataFrame'>\n",
      "RangeIndex: 681284 entries, 0 to 681283\n",
      "Data columns (total 7 columns):\n",
      " #   Column  Non-Null Count   Dtype \n",
      "---  ------  ---------------  ----- \n",
      " 0   id      681284 non-null  int64\n",
      " 1   gender  681284 non-null  object\n",
      " 2   age     681284 non-null  int64\n",
      " 3   topic   681284 non-null  object\n",
      " 4   sign    681284 non-null  object\n",
      " 5   date    681284 non-null  object\n",
      " 6   text    681284 non-null  object\n",
      "dtypes: object(5), int64(2)\n",
      "memory usage: 36.4 MB\n",
      "time: 3.19 s (started: 2021-10-31 10:54:09 +00:00)\n"
     ]
    }
   ],
   "source": [
    "blog_df.info()"
   ]
  },
  {
   "cell_type": "markdown",
   "id": "dce9e5a7",
   "metadata": {
    "id": "fxPMcd-rnb0x"
   },
   "source": [
    "  There are 681284 blog in the dataset. Id column is of int datatype and looks like it can be ignored from analysis. Gender, topic and sign are of object data type and needs to be looked into as it is required to predict the lable/s. Text column is out input column which needs to be processed.\n"
   ]
  },
  {
   "cell_type": "markdown",
   "id": "d0cfd7e1",
   "metadata": {
    "id": "thTAKjoOojFb"
   },
   "source": [
    "  Lets check few sample data."
   ]
  },
  {
   "cell_type": "code",
   "execution_count": null,
   "id": "42317e16",
   "metadata": {
    "colab": {
     "base_uri": "https://localhost:8080/",
     "height": 381
    },
    "id": "X_bYjcplm6Y6",
    "outputId": "d3be95b7-89bf-46ca-c45d-1dba6b215d4e"
   },
   "outputs": [
    {
     "data": {
      "text/html": [
       "<div>\n",
       "<style scoped>\n",
       "    .dataframe tbody tr th:only-of-type {\n",
       "        vertical-align: middle;\n",
       "    }\n",
       "\n",
       "    .dataframe tbody tr th {\n",
       "        vertical-align: top;\n",
       "    }\n",
       "\n",
       "    .dataframe thead th {\n",
       "        text-align: right;\n",
       "    }\n",
       "</style>\n",
       "<table border=\"1\" class=\"dataframe\">\n",
       "  <thead>\n",
       "    <tr style=\"text-align: right;\">\n",
       "      <th></th>\n",
       "      <th>id</th>\n",
       "      <th>gender</th>\n",
       "      <th>age</th>\n",
       "      <th>topic</th>\n",
       "      <th>sign</th>\n",
       "      <th>date</th>\n",
       "      <th>text</th>\n",
       "    </tr>\n",
       "  </thead>\n",
       "  <tbody>\n",
       "    <tr>\n",
       "      <th>622701</th>\n",
       "      <td>1651222</td>\n",
       "      <td>female</td>\n",
       "      <td>38</td>\n",
       "      <td>indUnk</td>\n",
       "      <td>Virgo</td>\n",
       "      <td>22,December,2002</td>\n",
       "      <td>Damn, Joe Strummer is dead.</td>\n",
       "    </tr>\n",
       "    <tr>\n",
       "      <th>122873</th>\n",
       "      <td>3294192</td>\n",
       "      <td>male</td>\n",
       "      <td>16</td>\n",
       "      <td>Student</td>\n",
       "      <td>Sagittarius</td>\n",
       "      <td>09,June,2004</td>\n",
       "      <td>Check this shit, it is amazin...</td>\n",
       "    </tr>\n",
       "    <tr>\n",
       "      <th>385785</th>\n",
       "      <td>3393874</td>\n",
       "      <td>female</td>\n",
       "      <td>24</td>\n",
       "      <td>Communications-Media</td>\n",
       "      <td>Libra</td>\n",
       "      <td>18,June,2004</td>\n",
       "      <td>Yesterday, I drove around the area ...</td>\n",
       "    </tr>\n",
       "    <tr>\n",
       "      <th>326292</th>\n",
       "      <td>861706</td>\n",
       "      <td>male</td>\n",
       "      <td>24</td>\n",
       "      <td>indUnk</td>\n",
       "      <td>Sagittarius</td>\n",
       "      <td>17,October,2003</td>\n",
       "      <td>Looks like I have another fan may...</td>\n",
       "    </tr>\n",
       "    <tr>\n",
       "      <th>64941</th>\n",
       "      <td>2539230</td>\n",
       "      <td>female</td>\n",
       "      <td>16</td>\n",
       "      <td>Student</td>\n",
       "      <td>Cancer</td>\n",
       "      <td>02,June,2004</td>\n",
       "      <td>Omg dude we had the worst thundestorm e...</td>\n",
       "    </tr>\n",
       "    <tr>\n",
       "      <th>124474</th>\n",
       "      <td>1304830</td>\n",
       "      <td>female</td>\n",
       "      <td>14</td>\n",
       "      <td>Education</td>\n",
       "      <td>Libra</td>\n",
       "      <td>25,January,2004</td>\n",
       "      <td>who knows... Mitch, who are u?</td>\n",
       "    </tr>\n",
       "    <tr>\n",
       "      <th>431567</th>\n",
       "      <td>183163</td>\n",
       "      <td>male</td>\n",
       "      <td>27</td>\n",
       "      <td>Arts</td>\n",
       "      <td>Sagittarius</td>\n",
       "      <td>18,June,2004</td>\n",
       "      <td>yesterday, i woke up to the s...</td>\n",
       "    </tr>\n",
       "    <tr>\n",
       "      <th>588338</th>\n",
       "      <td>1078410</td>\n",
       "      <td>male</td>\n",
       "      <td>16</td>\n",
       "      <td>indUnk</td>\n",
       "      <td>Cancer</td>\n",
       "      <td>05,January,2004</td>\n",
       "      <td>urlLink Phantom unveiling at CES -...</td>\n",
       "    </tr>\n",
       "    <tr>\n",
       "      <th>28864</th>\n",
       "      <td>3737788</td>\n",
       "      <td>female</td>\n",
       "      <td>24</td>\n",
       "      <td>Publishing</td>\n",
       "      <td>Pisces</td>\n",
       "      <td>27,Junho,2004</td>\n",
       "      <td>Feeling   molto  relaxed  today, after ...</td>\n",
       "    </tr>\n",
       "    <tr>\n",
       "      <th>436999</th>\n",
       "      <td>3690862</td>\n",
       "      <td>female</td>\n",
       "      <td>24</td>\n",
       "      <td>Publishing</td>\n",
       "      <td>Sagittarius</td>\n",
       "      <td>19,June,2004</td>\n",
       "      <td>Bubble Bong Collective:     (Heheh suck...</td>\n",
       "    </tr>\n",
       "  </tbody>\n",
       "</table>\n",
       "</div>"
      ],
      "text/plain": [
       "             id  ...                                               text\n",
       "622701  1651222  ...              Damn, Joe Strummer is dead.          \n",
       "122873  3294192  ...                   Check this shit, it is amazin...\n",
       "385785  3393874  ...             Yesterday, I drove around the area ...\n",
       "326292   861706  ...               Looks like I have another fan may...\n",
       "64941   2539230  ...         Omg dude we had the worst thundestorm e...\n",
       "124474  1304830  ...            who knows... Mitch, who are u?         \n",
       "431567   183163  ...                   yesterday, i woke up to the s...\n",
       "588338  1078410  ...              urlLink Phantom unveiling at CES -...\n",
       "28864   3737788  ...         Feeling   molto  relaxed  today, after ...\n",
       "436999  3690862  ...         Bubble Bong Collective:     (Heheh suck...\n",
       "\n",
       "[10 rows x 7 columns]"
      ]
     },
     "execution_count": 27,
     "metadata": {},
     "output_type": "execute_result"
    },
    {
     "name": "stdout",
     "output_type": "stream",
     "text": [
      "time: 842 ms (started: 2021-10-31 10:54:13 +00:00)\n"
     ]
    }
   ],
   "source": [
    "blog_df.sample(10)"
   ]
  },
  {
   "cell_type": "markdown",
   "id": "f1f764d6",
   "metadata": {
    "id": "1W9i1gb5on5m"
   },
   "source": [
    "  As we can observe in the above dataframe, id column can be ignored. Gender is a text column and may be a binary representation of male and female. Age represents the age of bloggeer, as given in data description, there are range and which can be grouped to have better visualization. Topic column shows that on which topic the blog is written upon. sign seems to be star sign of the blogger. Date column is the date when blog was posted. This date column can be ignore from the label."
   ]
  },
  {
   "cell_type": "code",
   "execution_count": null,
   "id": "f7e01555",
   "metadata": {
    "colab": {
     "base_uri": "https://localhost:8080/"
    },
    "id": "QMuPbw2ByO4P",
    "outputId": "e7ec55dc-ce53-495a-e086-8873b0563504"
   },
   "outputs": [
    {
     "data": {
      "text/plain": [
       "(681284, 7)"
      ]
     },
     "execution_count": 28,
     "metadata": {},
     "output_type": "execute_result"
    },
    {
     "name": "stdout",
     "output_type": "stream",
     "text": [
      "time: 4.96 ms (started: 2021-10-31 10:54:14 +00:00)\n"
     ]
    }
   ],
   "source": [
    "blog_df.shape"
   ]
  },
  {
   "cell_type": "markdown",
   "id": "1cd5f6f2",
   "metadata": {
    "id": "PZrmuaVepQpB"
   },
   "source": [
    "Shape of dataset shows that there are 681284 rows and 7 columns"
   ]
  },
  {
   "cell_type": "markdown",
   "id": "38a0414c",
   "metadata": {
    "id": "Cv0NA6RPpW8A"
   },
   "source": [
    "Lets check for any null values in the dataframe"
   ]
  },
  {
   "cell_type": "code",
   "execution_count": null,
   "id": "95736cac",
   "metadata": {
    "colab": {
     "base_uri": "https://localhost:8080/"
    },
    "id": "zQg9s_GBs5Py",
    "outputId": "ad263f30-699f-4249-9d94-929305ad0e78"
   },
   "outputs": [
    {
     "name": "stdout",
     "output_type": "stream",
     "text": [
      "There are no Null values in the dataframe.\n",
      "time: 354 ms (started: 2021-10-31 10:54:14 +00:00)\n"
     ]
    }
   ],
   "source": [
    "if not blog_df.isnull().values.any():\n",
    "  print(\"There are no Null values in the dataframe.\")\n",
    "else:\n",
    "  print(\"There are null values observed\")"
   ]
  },
  {
   "cell_type": "markdown",
   "id": "d0c3f682",
   "metadata": {
    "id": "c7DffLDAp0D9"
   },
   "source": [
    "Lets check for unique values in the data."
   ]
  },
  {
   "cell_type": "code",
   "execution_count": null,
   "id": "60523fa8",
   "metadata": {
    "colab": {
     "base_uri": "https://localhost:8080/"
    },
    "id": "4tFkXcbRs9qM",
    "outputId": "45e84c42-2343-417f-8fbe-771996aa5a9a"
   },
   "outputs": [
    {
     "name": "stdout",
     "output_type": "stream",
     "text": [
      "Unique columns in gender\n",
      "['male' 'female']\n",
      "\n",
      "Unique columns in topic\n",
      "['Student' 'InvestmentBanking' 'indUnk' 'Non-Profit' 'Banking' 'Education'\n",
      " 'Engineering' 'Science' 'Communications-Media' 'BusinessServices'\n",
      " 'Sports-Recreation' 'Arts' 'Internet' 'Museums-Libraries' 'Accounting'\n",
      " 'Technology' 'Law' 'Consulting' 'Automotive' 'Religion' 'Fashion'\n",
      " 'Publishing' 'Marketing' 'LawEnforcement-Security' 'HumanResources'\n",
      " 'Telecommunications' 'Military' 'Government' 'Transportation'\n",
      " 'Architecture' 'Advertising' 'Agriculture' 'Biotech' 'RealEstate'\n",
      " 'Manufacturing' 'Construction' 'Chemicals' 'Maritime' 'Tourism'\n",
      " 'Environment']\n",
      "\n",
      "Unique columns in sign\n",
      "['Leo' 'Aquarius' 'Aries' 'Capricorn' 'Gemini' 'Cancer' 'Sagittarius'\n",
      " 'Scorpio' 'Libra' 'Virgo' 'Taurus' 'Pisces']\n",
      "\n",
      "time: 1.46 s (started: 2021-10-31 10:54:14 +00:00)\n"
     ]
    }
   ],
   "source": [
    "listOfColumns = ['gender', 'topic', 'sign']\n",
    "for i in listOfColumns:\n",
    "  print(\"Unique columns in {}\".format(i))\n",
    "  print(blog_df[i].unique())\n",
    "  print()"
   ]
  },
  {
   "cell_type": "code",
   "execution_count": null,
   "id": "1b33bfd9",
   "metadata": {
    "colab": {
     "base_uri": "https://localhost:8080/"
    },
    "id": "wr_b-hpM1SEL",
    "outputId": "cedbeed9-835c-43d8-e039-aea37173da11"
   },
   "outputs": [
    {
     "name": "stdout",
     "output_type": "stream",
     "text": [
      "time: 1.52 ms (started: 2021-10-31 10:54:15 +00:00)\n"
     ]
    }
   ],
   "source": [
    "blog_df_for_analysis = blog_df.copy()"
   ]
  },
  {
   "cell_type": "code",
   "execution_count": null,
   "id": "249aec76",
   "metadata": {
    "colab": {
     "base_uri": "https://localhost:8080/"
    },
    "id": "JpWjaL5ErzdL",
    "outputId": "898f7e06-f523-4828-c5ae-6c91c4d0524b"
   },
   "outputs": [
    {
     "name": "stdout",
     "output_type": "stream",
     "text": [
      "2002-06-04\n",
      "1970-01-01\n",
      "1970-01-01\n",
      "1970-01-01\n",
      "time: 142 ms (started: 2021-10-31 10:54:15 +00:00)\n"
     ]
    }
   ],
   "source": [
    "from datetime import datetime\n",
    "import pytz\n",
    "import dateparser\n",
    "\n",
    "def date_to_milliseconds(date_str):\n",
    "    \"\"\"Convert UTC date to milliseconds\n",
    "\n",
    "    If using offset strings add \"UTC\" to date string e.g. \"now UTC\", \"11 hours ago UTC\"\n",
    "\n",
    "    See dateparse docs for formats http://dateparser.readthedocs.io/en/latest/\n",
    "\n",
    "    :param date_str: date in readable format, i.e. \"January 01, 2018\", \"11 hours ago UTC\", \"now UTC\"\n",
    "    :type date_str: str\n",
    "    \"\"\"\n",
    "    try:\n",
    "      if (len(date_str.strip()) == 0):\n",
    "        return \"1970-01-01\"\n",
    "      else:\n",
    "        # get epoch value in UTC\n",
    "        epoch = datetime.utcfromtimestamp(0).replace(tzinfo=pytz.utc) \n",
    "        # parse our date string\n",
    "        d = dateparser.parse(date_str)\n",
    "        # if the date is not timezone aware apply UTC timezone\n",
    "        if d.tzinfo is None or d.tzinfo.utcoffset(d) is None: \n",
    "          d = d.replace(tzinfo=pytz.utc)\n",
    "        return d.strftime('%Y-%m-%d')\n",
    "    except:\n",
    "      return \"1970-01-01\"\n",
    "      \n",
    "\n",
    "print(date_to_milliseconds(\"04,Juni,2002\"))\n",
    "print(date_to_milliseconds(\"\"))\n",
    "print(date_to_milliseconds(\"abcd\"))\n",
    "print(date_to_milliseconds(\"!@#!@#\"))"
   ]
  },
  {
   "cell_type": "code",
   "execution_count": null,
   "id": "70a68b40",
   "metadata": {
    "colab": {
     "base_uri": "https://localhost:8080/"
    },
    "id": "zvjfZzc4tDKX",
    "outputId": "56d5a95d-a597-4e50-d50c-585f3b8e65a5"
   },
   "outputs": [
    {
     "name": "stdout",
     "output_type": "stream",
     "text": [
      "time: 1.34 s (started: 2021-10-31 10:54:16 +00:00)\n"
     ]
    }
   ],
   "source": [
    "blog_df_for_analysis['date'] = blog_df_for_analysis.date.apply(date_to_milliseconds)"
   ]
  },
  {
   "cell_type": "code",
   "execution_count": null,
   "id": "b65957b4",
   "metadata": {
    "colab": {
     "base_uri": "https://localhost:8080/"
    },
    "id": "D362Buy-iAQ1",
    "outputId": "cde41cfd-019e-4f20-ca89-54c2d479317a"
   },
   "outputs": [
    {
     "name": "stdout",
     "output_type": "stream",
     "text": [
      "time: 1.83 ms (started: 2021-10-31 10:54:17 +00:00)\n"
     ]
    }
   ],
   "source": [
    "# blog_df_for_analysis.info()"
   ]
  },
  {
   "cell_type": "markdown",
   "id": "de13f645",
   "metadata": {
    "id": "aXaFRElne2qi"
   },
   "source": [
    "    Below cell is commented, it is having the date conversion function call where in different date are converted to a uniform format. This is used for EDA. The function is not used since we are using modin instead of pandas. Modin provides required multi processing. This cell is retained as an exmaple of splitting pandas dataframe and processing them parallely."
   ]
  },
  {
   "cell_type": "code",
   "execution_count": null,
   "id": "ddbf1ef5",
   "metadata": {
    "colab": {
     "base_uri": "https://localhost:8080/"
    },
    "id": "8ZmwJiBoe1yh",
    "outputId": "3d0b43ae-ee91-4ab8-ceda-a7b838b8676b"
   },
   "outputs": [
    {
     "name": "stdout",
     "output_type": "stream",
     "text": [
      "time: 5.46 ms (started: 2021-10-31 10:54:17 +00:00)\n"
     ]
    }
   ],
   "source": [
    "#Below cell contained processing pandas dataframe by splitting them in rows. This is not required as we are using modin[dask].\n",
    "# from multiprocessing import Pool\n",
    "\n",
    "# def data_convertor(inputDf):\n",
    "#   inputDf['Converted_date'] = inputDf.date.apply(date_to_milliseconds)  \n",
    "#   return inputDf\n",
    "\n",
    "# from more_itertools import sliced\n",
    "# CHUNK_SIZE = 1000\n",
    "\n",
    "# index_slices = sliced(range(len(blog_df_for_analysis)), CHUNK_SIZE)\n",
    "\n",
    "# # NewBlof_df = pd.DataFrame()\n",
    "# listOdDf = []\n",
    "# for index_slice in index_slices:\n",
    "#   chunk = blog_df_for_analysis.iloc[index_slice][['date']]\n",
    "#   listOdDf.append(chunk)\n",
    "#   # print(chunk.shape)\n",
    "\n",
    "# with Pool(processes=6) as pool:\n",
    "#   date_result = pool.map(data_convertor, listOdDf) #text.split())\n",
    "\n",
    "# converted_date_blog_df = pd.concat(date_result)\n",
    "# blog_df_for_analysis['Converted_date'] = pd.to_datetime(converted_date_blog_df['Converted_date'], format='%Y-%m-%d')"
   ]
  },
  {
   "cell_type": "markdown",
   "id": "2a6b0bcf",
   "metadata": {},
   "source": [
    "    We shall check the dataset based on date. we shall preprocess the date column which will aid us for producing graphical analysis."
   ]
  },
  {
   "cell_type": "code",
   "execution_count": null,
   "id": "1f76bfcb",
   "metadata": {
    "colab": {
     "base_uri": "https://localhost:8080/",
     "height": 420
    },
    "id": "_GasQ28wEMvs",
    "outputId": "1df3691e-beaa-44a7-f416-ec3d535f757f"
   },
   "outputs": [
    {
     "name": "stderr",
     "output_type": "stream",
     "text": [
      "UserWarning: sort_values defaulting to pandas implementation.\n",
      "To request implementation, send an email to feature_requests@modin.org.\n"
     ]
    },
    {
     "data": {
      "image/png": "[encoded data removed]",
      "text/plain": [
       "<Figure size 720x360 with 1 Axes>"
      ]
     },
     "metadata": {
      "needs_background": "light"
     },
     "output_type": "display_data"
    },
    {
     "name": "stdout",
     "output_type": "stream",
     "text": [
      "time: 12min 56s (started: 2021-10-31 10:54:17 +00:00)\n"
     ]
    }
   ],
   "source": [
    "blog_df_for_analysis['date'] = pd.to_datetime(blog_df_for_analysis['date'], format='%Y-%m-%d')\n",
    "blog_df_for_analysis.date.dt.strftime('%Y').value_counts().plot(kind=\"bar\",figsize=(10, 5), title=\"Year VS Number Of blogs\", xlabel = \"year\", ylabel = \"number Of Blogs\");"
   ]
  },
  {
   "cell_type": "markdown",
   "id": "934b65a1",
   "metadata": {},
   "source": [
    "    The above graphs showe number of blogs written by users based on dates."
   ]
  },
  {
   "cell_type": "code",
   "execution_count": null,
   "id": "a18222a2",
   "metadata": {
    "colab": {
     "base_uri": "https://localhost:8080/",
     "height": 351
    },
    "id": "N1d2Li2rKHAD",
    "outputId": "cf726d6b-40f0-42e0-9556-87d3d22ddf3c"
   },
   "outputs": [
    {
     "name": "stderr",
     "output_type": "stream",
     "text": [
      "UserWarning: `crosstab` defaulting to pandas implementation.\n",
      "UserWarning: Distributing <class 'pandas.core.frame.DataFrame'> object. This may take some time.\n"
     ]
    },
    {
     "data": {
      "image/png": "[encoded data removed]",
      "text/plain": [
       "<Figure size 432x288 with 1 Axes>"
      ]
     },
     "metadata": {
      "needs_background": "light"
     },
     "output_type": "display_data"
    },
    {
     "name": "stdout",
     "output_type": "stream",
     "text": [
      "time: 5.26 s (started: 2021-10-31 11:07:14 +00:00)\n"
     ]
    }
   ],
   "source": [
    "pd.crosstab(blog_df_for_analysis.date.dt.strftime('%Y'),blog_df_for_analysis['gender']).plot.bar();"
   ]
  },
  {
   "cell_type": "markdown",
   "id": "9d6f88f3",
   "metadata": {},
   "source": [
    "    The above graph shows the number of graphs based on gender with year on X-Axis"
   ]
  },
  {
   "cell_type": "code",
   "execution_count": null,
   "id": "f03e8669",
   "metadata": {
    "colab": {
     "base_uri": "https://localhost:8080/",
     "height": 338
    },
    "id": "xsR2qs_ZKYLs",
    "outputId": "490e1c0e-e101-46b8-ecc9-e20511e06c13"
   },
   "outputs": [
    {
     "name": "stderr",
     "output_type": "stream",
     "text": [
      "UserWarning: `crosstab` defaulting to pandas implementation.\n",
      "UserWarning: Distributing <class 'pandas.core.frame.DataFrame'> object. This may take some time.\n"
     ]
    },
    {
     "data": {
      "image/png": "[encoded data removed]",
      "text/plain": [
       "<Figure size 432x288 with 1 Axes>"
      ]
     },
     "metadata": {
      "needs_background": "light"
     },
     "output_type": "display_data"
    },
    {
     "name": "stdout",
     "output_type": "stream",
     "text": [
      "time: 4.05 s (started: 2021-10-31 11:07:19 +00:00)\n"
     ]
    }
   ],
   "source": [
    "pd.crosstab(blog_df_for_analysis.date.dt.strftime('%m'),blog_df_for_analysis['gender']).plot.bar();"
   ]
  },
  {
   "cell_type": "markdown",
   "id": "2d06eade",
   "metadata": {},
   "source": [
    "        The above graph shows the number of graphs based on gender with month on X-Axis"
   ]
  },
  {
   "cell_type": "code",
   "execution_count": null,
   "id": "a792aa55",
   "metadata": {
    "colab": {
     "base_uri": "https://localhost:8080/",
     "height": 389
    },
    "id": "ZkOaSiy6Fsqh",
    "outputId": "99455065-7799-4afa-c2cf-a06732c703d7"
   },
   "outputs": [
    {
     "name": "stderr",
     "output_type": "stream",
     "text": [
      "UserWarning: sort_values defaulting to pandas implementation.\n"
     ]
    },
    {
     "data": {
      "image/png": "[encoded data removed]",
      "text/plain": [
       "<Figure size 720x360 with 1 Axes>"
      ]
     },
     "metadata": {
      "needs_background": "light"
     },
     "output_type": "display_data"
    },
    {
     "name": "stdout",
     "output_type": "stream",
     "text": [
      "time: 5.1 s (started: 2021-10-31 11:07:23 +00:00)\n"
     ]
    }
   ],
   "source": [
    "blog_df_for_analysis.date.dt.strftime('%m').value_counts().plot(kind=\"bar\",figsize=(10, 5), title=\"Month VS Number Of blogs\", xlabel = \"Month\", ylabel = \"number Of Blogs\");"
   ]
  },
  {
   "cell_type": "markdown",
   "id": "2c7e7188",
   "metadata": {},
   "source": [
    "    Plotting graph of month vs number of blogs. It looks like we are having more number of blogs written in the july month."
   ]
  },
  {
   "cell_type": "code",
   "execution_count": null,
   "id": "8dfa8368",
   "metadata": {
    "colab": {
     "base_uri": "https://localhost:8080/",
     "height": 389
    },
    "id": "q4E-P2vEvBma",
    "outputId": "d577502e-ffe5-47cc-e9f7-77d3a7190fff"
   },
   "outputs": [
    {
     "name": "stderr",
     "output_type": "stream",
     "text": [
      "UserWarning: sort_values defaulting to pandas implementation.\n"
     ]
    },
    {
     "data": {
      "image/png": "[encoded data removed]",
      "text/plain": [
       "<Figure size 720x360 with 1 Axes>"
      ]
     },
     "metadata": {
      "needs_background": "light"
     },
     "output_type": "display_data"
    },
    {
     "name": "stdout",
     "output_type": "stream",
     "text": [
      "time: 3.3 s (started: 2021-10-31 11:07:28 +00:00)\n"
     ]
    }
   ],
   "source": [
    "blog_df_for_analysis.age.value_counts().plot(kind=\"bar\",figsize=(10, 5), title=\"Age Vs Number of blogs\", xlabel = \"Age\", ylabel = \"number Of Blogs\");"
   ]
  },
  {
   "cell_type": "markdown",
   "id": "9bf66b31",
   "metadata": {},
   "source": [
    "    By Above graph we can say that more number of young people are fond of blogging."
   ]
  },
  {
   "cell_type": "code",
   "execution_count": null,
   "id": "a4303a52",
   "metadata": {
    "colab": {
     "base_uri": "https://localhost:8080/",
     "height": 411
    },
    "id": "fZV6E9pivgGj",
    "outputId": "d0fedafb-f292-4489-c5e5-649802b8df59"
   },
   "outputs": [
    {
     "name": "stderr",
     "output_type": "stream",
     "text": [
      "UserWarning: sort_values defaulting to pandas implementation.\n"
     ]
    },
    {
     "data": {
      "image/png": "[encoded data removed]",
      "text/plain": [
       "<Figure size 720x360 with 1 Axes>"
      ]
     },
     "metadata": {
      "needs_background": "light"
     },
     "output_type": "display_data"
    },
    {
     "name": "stdout",
     "output_type": "stream",
     "text": [
      "time: 3.11 s (started: 2021-10-31 11:07:31 +00:00)\n"
     ]
    }
   ],
   "source": [
    "blog_df_for_analysis.gender.value_counts().plot(kind=\"bar\",figsize=(10, 5), title=\"Gender Vs Number of blogs\", xlabel = \"Gender\", ylabel = \"number Of Blogs\");"
   ]
  },
  {
   "cell_type": "markdown",
   "id": "b272a556",
   "metadata": {},
   "source": [
    "    Both genders are having same interest in writing the blogs"
   ]
  },
  {
   "cell_type": "code",
   "execution_count": null,
   "id": "25cd9dc8",
   "metadata": {
    "colab": {
     "base_uri": "https://localhost:8080/"
    },
    "id": "hVF7pNGcxSVL",
    "outputId": "b7a07f7a-821f-485b-f6f4-b0128a76d7f5"
   },
   "outputs": [
    {
     "name": "stdout",
     "output_type": "stream",
     "text": [
      " Unique values in sign column ::  ['Leo' 'Aquarius' 'Aries' 'Capricorn' 'Gemini' 'Cancer' 'Sagittarius'\n",
      " 'Scorpio' 'Libra' 'Virgo' 'Taurus' 'Pisces']\n",
      "\n",
      " Unique values in topic column ::  ['Student' 'InvestmentBanking' 'indUnk' 'Non-Profit' 'Banking' 'Education'\n",
      " 'Engineering' 'Science' 'Communications-Media' 'BusinessServices'\n",
      " 'Sports-Recreation' 'Arts' 'Internet' 'Museums-Libraries' 'Accounting'\n",
      " 'Technology' 'Law' 'Consulting' 'Automotive' 'Religion' 'Fashion'\n",
      " 'Publishing' 'Marketing' 'LawEnforcement-Security' 'HumanResources'\n",
      " 'Telecommunications' 'Military' 'Government' 'Transportation'\n",
      " 'Architecture' 'Advertising' 'Agriculture' 'Biotech' 'RealEstate'\n",
      " 'Manufacturing' 'Construction' 'Chemicals' 'Maritime' 'Tourism'\n",
      " 'Environment']\n",
      "\n",
      " Unique values in gender column ::  ['male' 'female']\n",
      "time: 4.45 s (started: 2021-10-31 11:07:34 +00:00)\n"
     ]
    }
   ],
   "source": [
    "print(\" Unique values in sign column :: \" , blog_df_for_analysis.sign.unique())\n",
    "print()\n",
    "print(\" Unique values in topic column :: \", blog_df_for_analysis.topic.unique())\n",
    "print()\n",
    "print(\" Unique values in gender column :: \", blog_df_for_analysis.gender.unique())"
   ]
  },
  {
   "cell_type": "code",
   "execution_count": null,
   "id": "8e9078dc",
   "metadata": {
    "colab": {
     "base_uri": "https://localhost:8080/",
     "height": 442
    },
    "id": "xpJKKW3AyiGt",
    "outputId": "e199b8da-25c6-4371-9799-d42a9dd13541"
   },
   "outputs": [
    {
     "data": {
      "text/html": [
       "<div>\n",
       "<style scoped>\n",
       "    .dataframe tbody tr th:only-of-type {\n",
       "        vertical-align: middle;\n",
       "    }\n",
       "\n",
       "    .dataframe tbody tr th {\n",
       "        vertical-align: top;\n",
       "    }\n",
       "\n",
       "    .dataframe thead th {\n",
       "        text-align: right;\n",
       "    }\n",
       "</style>\n",
       "<table border=\"1\" class=\"dataframe\">\n",
       "  <thead>\n",
       "    <tr style=\"text-align: right;\">\n",
       "      <th></th>\n",
       "      <th>id</th>\n",
       "      <th>gender</th>\n",
       "      <th>age</th>\n",
       "      <th>topic</th>\n",
       "      <th>sign</th>\n",
       "      <th>date</th>\n",
       "      <th>text</th>\n",
       "    </tr>\n",
       "  </thead>\n",
       "  <tbody>\n",
       "    <tr>\n",
       "      <th>0</th>\n",
       "      <td>2059027</td>\n",
       "      <td>male</td>\n",
       "      <td>15</td>\n",
       "      <td>Student</td>\n",
       "      <td>Leo</td>\n",
       "      <td>14,May,2004</td>\n",
       "      <td>Info has been found (+/- 100 pages,...</td>\n",
       "    </tr>\n",
       "    <tr>\n",
       "      <th>1</th>\n",
       "      <td>2059027</td>\n",
       "      <td>male</td>\n",
       "      <td>15</td>\n",
       "      <td>Student</td>\n",
       "      <td>Leo</td>\n",
       "      <td>13,May,2004</td>\n",
       "      <td>These are the team members:   Drewe...</td>\n",
       "    </tr>\n",
       "    <tr>\n",
       "      <th>2</th>\n",
       "      <td>2059027</td>\n",
       "      <td>male</td>\n",
       "      <td>15</td>\n",
       "      <td>Student</td>\n",
       "      <td>Leo</td>\n",
       "      <td>12,May,2004</td>\n",
       "      <td>In het kader van kernfusie op aarde...</td>\n",
       "    </tr>\n",
       "    <tr>\n",
       "      <th>3</th>\n",
       "      <td>2059027</td>\n",
       "      <td>male</td>\n",
       "      <td>15</td>\n",
       "      <td>Student</td>\n",
       "      <td>Leo</td>\n",
       "      <td>12,May,2004</td>\n",
       "      <td>testing!!!  testing!!!</td>\n",
       "    </tr>\n",
       "    <tr>\n",
       "      <th>4</th>\n",
       "      <td>3581210</td>\n",
       "      <td>male</td>\n",
       "      <td>33</td>\n",
       "      <td>InvestmentBanking</td>\n",
       "      <td>Aquarius</td>\n",
       "      <td>11,June,2004</td>\n",
       "      <td>Thanks to Yahoo!'s Toolbar I can ...</td>\n",
       "    </tr>\n",
       "    <tr>\n",
       "      <th>...</th>\n",
       "      <td>...</td>\n",
       "      <td>...</td>\n",
       "      <td>...</td>\n",
       "      <td>...</td>\n",
       "      <td>...</td>\n",
       "      <td>...</td>\n",
       "      <td>...</td>\n",
       "    </tr>\n",
       "    <tr>\n",
       "      <th>681279</th>\n",
       "      <td>1713845</td>\n",
       "      <td>male</td>\n",
       "      <td>23</td>\n",
       "      <td>Student</td>\n",
       "      <td>Taurus</td>\n",
       "      <td>01,July,2004</td>\n",
       "      <td>Dear Susan,  I could write some really ...</td>\n",
       "    </tr>\n",
       "    <tr>\n",
       "      <th>681280</th>\n",
       "      <td>1713845</td>\n",
       "      <td>male</td>\n",
       "      <td>23</td>\n",
       "      <td>Student</td>\n",
       "      <td>Taurus</td>\n",
       "      <td>01,July,2004</td>\n",
       "      <td>Dear Susan,  'I have the second yeast i...</td>\n",
       "    </tr>\n",
       "    <tr>\n",
       "      <th>681281</th>\n",
       "      <td>1713845</td>\n",
       "      <td>male</td>\n",
       "      <td>23</td>\n",
       "      <td>Student</td>\n",
       "      <td>Taurus</td>\n",
       "      <td>01,July,2004</td>\n",
       "      <td>Dear Susan,  Your 'boyfriend' is fuckin...</td>\n",
       "    </tr>\n",
       "    <tr>\n",
       "      <th>681282</th>\n",
       "      <td>1713845</td>\n",
       "      <td>male</td>\n",
       "      <td>23</td>\n",
       "      <td>Student</td>\n",
       "      <td>Taurus</td>\n",
       "      <td>01,July,2004</td>\n",
       "      <td>Dear Susan:    Just to clarify, I am as...</td>\n",
       "    </tr>\n",
       "    <tr>\n",
       "      <th>681283</th>\n",
       "      <td>1713845</td>\n",
       "      <td>male</td>\n",
       "      <td>23</td>\n",
       "      <td>Student</td>\n",
       "      <td>Taurus</td>\n",
       "      <td>01,July,2004</td>\n",
       "      <td>Hey everybody...and Susan,  You might a...</td>\n",
       "    </tr>\n",
       "  </tbody>\n",
       "</table>\n",
       "<p>681284 rows x 7 columns</p>\n",
       "</div>"
      ],
      "text/plain": [
       "             id  ...                                               text\n",
       "0       2059027  ...             Info has been found (+/- 100 pages,...\n",
       "1       2059027  ...             These are the team members:   Drewe...\n",
       "2       2059027  ...             In het kader van kernfusie op aarde...\n",
       "3       2059027  ...                   testing!!!  testing!!!          \n",
       "4       3581210  ...               Thanks to Yahoo!'s Toolbar I can ...\n",
       "...         ...  ...                                                ...\n",
       "681279  1713845  ...         Dear Susan,  I could write some really ...\n",
       "681280  1713845  ...         Dear Susan,  'I have the second yeast i...\n",
       "681281  1713845  ...         Dear Susan,  Your 'boyfriend' is fuckin...\n",
       "681282  1713845  ...         Dear Susan:    Just to clarify, I am as...\n",
       "681283  1713845  ...         Hey everybody...and Susan,  You might a...\n",
       "\n",
       "[681284 rows x 7 columns]"
      ]
     },
     "execution_count": 43,
     "metadata": {},
     "output_type": "execute_result"
    },
    {
     "name": "stdout",
     "output_type": "stream",
     "text": [
      "time: 680 ms (started: 2021-10-31 11:07:39 +00:00)\n"
     ]
    }
   ],
   "source": [
    "blog_df"
   ]
  },
  {
   "cell_type": "code",
   "execution_count": null,
   "id": "47da2868",
   "metadata": {
    "colab": {
     "base_uri": "https://localhost:8080/",
     "height": 320
    },
    "id": "tG-_WeTIynbw",
    "outputId": "b1c57ff0-f5c4-424c-fb64-05ed3aaa7227"
   },
   "outputs": [
    {
     "name": "stderr",
     "output_type": "stream",
     "text": [
      "UserWarning: `Series.hist_series` defaulting to pandas implementation.\n"
     ]
    },
    {
     "data": {
      "text/plain": [
       "<matplotlib.axes._subplots.AxesSubplot at 0x7f226b818390>"
      ]
     },
     "execution_count": 44,
     "metadata": {},
     "output_type": "execute_result"
    },
    {
     "data": {
      "image/png": "[encoded data removed]",
      "text/plain": [
       "<Figure size 432x288 with 1 Axes>"
      ]
     },
     "metadata": {
      "needs_background": "light"
     },
     "output_type": "display_data"
    },
    {
     "name": "stdout",
     "output_type": "stream",
     "text": [
      "time: 1.31 s (started: 2021-10-31 11:07:40 +00:00)\n"
     ]
    }
   ],
   "source": [
    "lens = blog_df_for_analysis.text.str.len()\n",
    "lens.hist(bins = np.arange(0,5000,50))"
   ]
  },
  {
   "cell_type": "markdown",
   "id": "00c515c2",
   "metadata": {},
   "source": [
    "    The above graphs shows the most blogs are having around 250 words. There are very less number of blogs which are having more than 4000 words. If we plot number of words v/s topic column that would give insight into the serious topic on which people have written lenghty blogs."
   ]
  },
  {
   "cell_type": "code",
   "execution_count": null,
   "id": "3d316edb",
   "metadata": {
    "colab": {
     "base_uri": "https://localhost:8080/"
    },
    "id": "UhNmPbWQj_PO",
    "outputId": "bbaced29-9bba-4027-9cb7-ff45e4834d3f"
   },
   "outputs": [
    {
     "name": "stdout",
     "output_type": "stream",
     "text": [
      "Number of missing comments in comment text:\n"
     ]
    },
    {
     "data": {
      "text/plain": [
       "0"
      ]
     },
     "execution_count": 45,
     "metadata": {},
     "output_type": "execute_result"
    },
    {
     "name": "stdout",
     "output_type": "stream",
     "text": [
      "time: 378 ms (started: 2021-10-31 11:07:41 +00:00)\n"
     ]
    }
   ],
   "source": [
    "print('Number of missing comments in comment text:')\n",
    "blog_df_for_analysis['text'].isnull().sum()"
   ]
  },
  {
   "cell_type": "markdown",
   "id": "626aaf1b",
   "metadata": {
    "id": "kPQsHI0WypGX"
   },
   "source": [
    "## Perform data pre-processing on the data:\n"
   ]
  },
  {
   "cell_type": "markdown",
   "id": "c674f78d",
   "metadata": {
    "id": "QTss2vjPAKV5"
   },
   "source": [
    "### Data cleansing by removing unwanted characters, spaces, stop words etc. Convert text to lowercase"
   ]
  },
  {
   "cell_type": "markdown",
   "id": "0d020efa",
   "metadata": {
    "id": "wYjUeQseJz-4"
   },
   "source": [
    "    Next 2 cells has few function implementation which aids for data cleansing."
   ]
  },
  {
   "cell_type": "code",
   "execution_count": null,
   "id": "3e1604b5",
   "metadata": {
    "colab": {
     "base_uri": "https://localhost:8080/"
    },
    "id": "AsJjiZ9lX1lx",
    "outputId": "eb202eb1-e508-4a9a-ba43-f726e59041ff"
   },
   "outputs": [
    {
     "name": "stdout",
     "output_type": "stream",
     "text": [
      "           Info has been found (+/- 100 pages, and 4.5 MB of .pdf files) Now i have to wait untill our team leader has processed it and learns html.         \n",
      "info have be find ( +/- 100 page , and 4.5 mb of .pdf file ) now i have to wait untill our team leader have process it and learn html .\n",
      "time: 3.6 s (started: 2021-10-31 11:07:41 +00:00)\n"
     ]
    }
   ],
   "source": [
    "wnl = WordNetLemmatizer()\n",
    "\n",
    "from nltk import sent_tokenize, word_tokenize\n",
    "\n",
    "def penn2morphy(penntag):\n",
    "    \"\"\" Converts Penn Treebank tags to WordNet. \"\"\"\n",
    "    morphy_tag = {'NN':'n', 'JJ':'a',\n",
    "                  'VB':'v', 'RB':'r'}\n",
    "    try:\n",
    "        return morphy_tag[penntag[:2]]\n",
    "    except:\n",
    "        return 'n' \n",
    "    \n",
    "def lemmatize_sent(text): \n",
    "    # Text input is string, returns lowercased strings.\n",
    "    return [wnl.lemmatize(word.lower(), pos=penn2morphy(tag)) \n",
    "            for word, tag in pos_tag(word_tokenize(text))]\n",
    "\n",
    "print((blog_df.text[0]))\n",
    "print(' '.join(lemmatize_sent(blog_df.text[0])))"
   ]
  },
  {
   "cell_type": "code",
   "execution_count": null,
   "id": "0e6adfbc",
   "metadata": {
    "colab": {
     "base_uri": "https://localhost:8080/"
    },
    "id": "-xdMepTjytEP",
    "outputId": "b043f3e3-c696-466d-8ee1-03a8808bd937"
   },
   "outputs": [
    {
     "name": "stdout",
     "output_type": "stream",
     "text": [
      "time: 314 ms (started: 2021-10-31 11:07:45 +00:00)\n"
     ]
    }
   ],
   "source": [
    "from nltk.stem import WordNetLemmatizer #word stemmer class\n",
    "lemma = WordNetLemmatizer()\n",
    "words = set(nltk.corpus.words.words())\n",
    "\n",
    "class CleanUpData():\n",
    "  '''CleanUpData has few function to clean up input string\n",
    "  It has a function \n",
    "    1) To remove space\n",
    "    2) To remove special characters\n",
    "    3) To remove accented characters    \n",
    "    '''\n",
    "\n",
    "  def remove_non_english_words(blog):\n",
    "    return \" \".join(w for w in nltk.wordpunct_tokenize(blog) if w.lower() in words or not w.isalpha())\n",
    "\n",
    "  def penn2morphy(penntag):\n",
    "    \"\"\" Converts Penn Treebank tags to WordNet. \"\"\"\n",
    "    morphy_tag = {'NN':'n', 'JJ':'a',\n",
    "                  'VB':'v', 'RB':'r'}\n",
    "    try:\n",
    "        return morphy_tag[penntag[:2]]\n",
    "    except:\n",
    "        return 'n' \n",
    "    \n",
    "  def lemmatize_sent(text):\n",
    "    # Text input is string, returns lowercased strings.\n",
    "    return \" \".join([wnl.lemmatize(word.lower(), pos=penn2morphy(tag)) for word, tag in pos_tag(word_tokenize(text))])\n",
    "\n",
    "  def worker_wrapperr(arg):\n",
    "    word, pos = arg\n",
    "    wnl = WordNetLemmatizer()\n",
    "    return wnl.lemmatize(word, pos)\n",
    "\n",
    "  #Below code is only required if we are not using modin. This use pool function.\n",
    "  def lemmed(text, cores=6):\n",
    "    # tweak cores as needed\n",
    "    argg = [(word.lower(), penn2morphy(tag)) for word, tag in pos_tag(word_tokenize(text))]\n",
    "    with Pool(processes=cores) as pool:\n",
    "        wnl = WordNetLemmatizer()\n",
    "        result = pool.map(CleanUpData.worker_wrapperr,  argg) #text.split())\n",
    "    return result\n",
    "\n",
    "  def remove_special_characters(text, remove_digits=False):\n",
    "    #Using regex\n",
    "    pattern = r'[^a-zA-z0-9\\s]' if not remove_digits else r'[^a-zA-z\\s]'\n",
    "    text = re.sub(pattern, '', text)\n",
    "    return text\n",
    "\n",
    "  def clean_text(text):\n",
    "    text = text.lower()\n",
    "    text = re.sub(r\"what's\", \"what is \", text)\n",
    "    text = re.sub(r\"\\'s\", \" \", text)\n",
    "    text = re.sub(r\"\\'ve\", \" have \", text)\n",
    "    text = re.sub(r\"can't\", \"can not \", text)\n",
    "    text = re.sub(r\"n't\", \" not \", text)\n",
    "    text = re.sub(r\"i'm\", \"i am \", text)\n",
    "    text = re.sub(r\"\\'re\", \" are \", text)\n",
    "    text = re.sub(r\"\\'d\", \" would \", text)\n",
    "    text = re.sub(r\"\\'ll\", \" will \", text)\n",
    "    text = re.sub(r\"\\'scuse\", \" excuse \", text)\n",
    "    text = re.sub('\\W', ' ', text)\n",
    "    text = re.sub('\\s+', ' ', text)\n",
    "    text = text.strip(' ')\n",
    "    return text\n",
    "\n",
    "  def remove_accented_chars(text):\n",
    "    text = unicodedata.normalize('NFKD', text).encode('ascii', 'ignore').decode('utf-8', 'ignore')\n",
    "    return text\n",
    "\n",
    "  def remove_emojis(text):\n",
    "    return emoji.demojize(blog_df.text[1].replace(':',''))\n",
    "\n",
    "  def remove_stop_words(text):\n",
    "    listOfWords = text.split(' ')\n",
    "    # print(listOfWords)\n",
    "    stop_words = set(stopwords.words('english'))\n",
    "    rtext = ''\n",
    "    for word in text.split(' '):\n",
    "      # print(word)\n",
    "      if(word not in stop_words):\n",
    "        rtext = rtext + ' ' + word\n",
    "    return rtext"
   ]
  },
  {
   "cell_type": "markdown",
   "id": "08876665",
   "metadata": {
    "id": "ZYp8FjHjJBeJ"
   },
   "source": [
    "  Lets check the function which are written to cleanse the text in the dataframe. This would give us some idea on how cleansing work on the text data"
   ]
  },
  {
   "cell_type": "code",
   "execution_count": null,
   "id": "e63fb58c",
   "metadata": {
    "colab": {
     "base_uri": "https://localhost:8080/"
    },
    "id": "IA_-4mqE5S1b",
    "outputId": "fea847f8-18b2-4528-9c91-13bd0a32c994"
   },
   "outputs": [
    {
     "name": "stdout",
     "output_type": "stream",
     "text": [
      "Original Text ::                   i can't wait for things to get moving, i want out of here. im lookin forward to uni although it means another 3 years in england. it should be so much fun from my experiences of it so far and my brother's experiences. after uni though it will be another year i guess before i can move, as i'll need to work for 'bout that long to get some money. will be quite lonely i imagine as every1 will have moved on by then. i wana work in a pub, duno why, not any pub, not a big pub, i'd love to work the fox n hound by jill's - it's small n friendly, i think thats what attracks me to bein a barmaid - every1 thinks its somit to look down on but what's so bad bein surrounded by people in a friendly (if smoky :s) atmosphere? mayb im naive... also hav a job lined up with jill i hope :) i love the sound of what she plans to do and she says she'll employ me :) ur pretty much self-employed to be honest so it should happen n im into herbal homeopathic stuff so sounds good for me. after that id love to work in italy or canada. i cant speak italian so that leaves canada lol. although i don't have enough points for a visa :( i hav a friend who's gona help me as he's canadian (thats gota help!) and if i end up workin for a whole year before i go then that shld give me more points, plus im gona try learn french alongside my psychology degree, i wana speak french newas but now i hav a goal for it and will give me more points the better at it i am. the biggest problem is probably death - i.e. getting in a plane... ive been thinkin bout takin a flight course to help me feel more prepared for flying, but i don't see how im gona erase the knowledge that it could crash - and if it does it's the worst possible thing to be in that crashes. i dont wana die. if i do, i dont wana die like that. but then more than not wanting to die, i wana live, i know wot i mean... which brings me onto the fact that i realy should start jogging again. i wana b able to do the 10mile fun run next year to raise money for something that keeps catching my eye, i seem to read about it in magazines n papers all the time, n things through the door, it breaks my heart, if there's nethin i can do i wana do it. not because im such a great person just because ive seen the effects.... newas...will b a new years resolution lol im pathetic camp america should be cool too, wish it was this summer though as im gona b bored outa my brain n probs comit suicide for somit fun to do...talkin of which my mum thinks im on drugs, seriously do i come across as that abnormal n screwed? i guess we just have different views on what's normal, what emotions n behaviour are acceptable, whats good for us etc. o well arrivedechi x      \n",
      "Accented chars removed ::                   i can't wait for things to get moving, i want out of here. im lookin forward to uni although it means another 3 years in england. it should be so much fun from my experiences of it so far and my brother's experiences. after uni though it will be another year i guess before i can move, as i'll need to work for 'bout that long to get some money. will be quite lonely i imagine as every1 will have moved on by then. i wana work in a pub, duno why, not any pub, not a big pub, i'd love to work the fox n hound by jill's - it's small n friendly, i think thats what attracks me to bein a barmaid - every1 thinks its somit to look down on but what's so bad bein surrounded by people in a friendly (if smoky :s) atmosphere? mayb im naive... also hav a job lined up with jill i hope :) i love the sound of what she plans to do and she says she'll employ me :) ur pretty much self-employed to be honest so it should happen n im into herbal homeopathic stuff so sounds good for me. after that id love to work in italy or canada. i cant speak italian so that leaves canada lol. although i don't have enough points for a visa :( i hav a friend who's gona help me as he's canadian (thats gota help!) and if i end up workin for a whole year before i go then that shld give me more points, plus im gona try learn french alongside my psychology degree, i wana speak french newas but now i hav a goal for it and will give me more points the better at it i am. the biggest problem is probably death - i.e. getting in a plane... ive been thinkin bout takin a flight course to help me feel more prepared for flying, but i don't see how im gona erase the knowledge that it could crash - and if it does it's the worst possible thing to be in that crashes. i dont wana die. if i do, i dont wana die like that. but then more than not wanting to die, i wana live, i know wot i mean... which brings me onto the fact that i realy should start jogging again. i wana b able to do the 10mile fun run next year to raise money for something that keeps catching my eye, i seem to read about it in magazines n papers all the time, n things through the door, it breaks my heart, if there's nethin i can do i wana do it. not because im such a great person just because ive seen the effects.... newas...will b a new years resolution lol im pathetic camp america should be cool too, wish it was this summer though as im gona b bored outa my brain n probs comit suicide for somit fun to do...talkin of which my mum thinks im on drugs, seriously do i come across as that abnormal n screwed? i guess we just have different views on what's normal, what emotions n behaviour are acceptable, whats good for us etc. o well arrivedechi x      \n",
      "Upon removing Special chars ::                  i cant wait for things to get moving i want out of here im lookin forward to uni although it means another 3 years in england it should be so much fun from my experiences of it so far and my brothers experiences after uni though it will be another year i guess before i can move as ill need to work for bout that long to get some money will be quite lonely i imagine as every1 will have moved on by then i wana work in a pub duno why not any pub not a big pub id love to work the fox n hound by jills  its small n friendly i think thats what attracks me to bein a barmaid  every1 thinks its somit to look down on but whats so bad bein surrounded by people in a friendly if smoky s atmosphere mayb im naive also hav a job lined up with jill i hope  i love the sound of what she plans to do and she says shell employ me  ur pretty much selfemployed to be honest so it should happen n im into herbal homeopathic stuff so sounds good for me after that id love to work in italy or canada i cant speak italian so that leaves canada lol although i dont have enough points for a visa  i hav a friend whos gona help me as hes canadian thats gota help and if i end up workin for a whole year before i go then that shld give me more points plus im gona try learn french alongside my psychology degree i wana speak french newas but now i hav a goal for it and will give me more points the better at it i am the biggest problem is probably death  ie getting in a plane ive been thinkin bout takin a flight course to help me feel more prepared for flying but i dont see how im gona erase the knowledge that it could crash  and if it does its the worst possible thing to be in that crashes i dont wana die if i do i dont wana die like that but then more than not wanting to die i wana live i know wot i mean which brings me onto the fact that i realy should start jogging again i wana b able to do the 10mile fun run next year to raise money for something that keeps catching my eye i seem to read about it in magazines n papers all the time n things through the door it breaks my heart if theres nethin i can do i wana do it not because im such a great person just because ive seen the effects newaswill b a new years resolution lol im pathetic camp america should be cool too wish it was this summer though as im gona b bored outa my brain n probs comit suicide for somit fun to dotalkin of which my mum thinks im on drugs seriously do i come across as that abnormal n screwed i guess we just have different views on whats normal what emotions n behaviour are acceptable whats good for us etc o well arrivedechi x      \n",
      "Upon removing emojis ::            These are the team members   Drewes van der Laag           urlLink mail  Ruiyu Xie                     urlLink mail  Bryan Aaldering (me)          urlLink mail          \n",
      "Upon removing stopwords ::                   can't wait things get moving, want here. im lookin forward uni although means another 3 years england. much fun experiences far brother's experiences. uni though another year guess move, i'll need work 'bout long get money. quite lonely imagine every1 moved then. wana work pub, duno why, pub, big pub, i'd love work fox n hound jill's - small n friendly, think thats attracks bein barmaid - every1 thinks somit look what's bad bein surrounded people friendly (if smoky :s) atmosphere? mayb im naive... also hav job lined jill hope :) love sound plans says she'll employ :) ur pretty much self-employed honest happen n im herbal homeopathic stuff sounds good me. id love work italy canada. cant speak italian leaves canada lol. although enough points visa :( hav friend who's gona help he's canadian (thats gota help!) end workin whole year go shld give points, plus im gona try learn french alongside psychology degree, wana speak french newas hav goal give points better am. biggest problem probably death - i.e. getting plane... ive thinkin bout takin flight course help feel prepared flying, see im gona erase knowledge could crash - worst possible thing crashes. dont wana die. do, dont wana die like that. wanting die, wana live, know wot mean... brings onto fact realy start jogging again. wana b able 10mile fun run next year raise money something keeps catching eye, seem read magazines n papers time, n things door, breaks heart, there's nethin wana it. im great person ive seen effects.... newas...will b new years resolution lol im pathetic camp america cool too, wish summer though im gona b bored outa brain n probs comit suicide somit fun do...talkin mum thinks im drugs, seriously come across abnormal n screwed? guess different views what's normal, emotions n behaviour acceptable, whats good us etc. well arrivedechi x      \n",
      "Removing non english text ::  i can ' t wait for to get moving , i want out of here . forward to although it another 3 in . it should be so much fun from my of it so far and my brother ' s . after though it will be another year i guess before i can move , as i ' need to work for ' bout that long to get some money . will be quite lonely i imagine as every1 will have on by then . i work in a pub , why , not any pub , not a big pub , i ' d love to work the fox n hound by ' s - it ' s small n friendly , i think thats what me to a barmaid - every1 its to look down on but what ' s so bad surrounded by people in a friendly ( if smoky : s ) atmosphere ? naive ... also a job lined up with i hope :) i love the sound of what she to do and she she ' employ me :) ur pretty much self - employed to be honest so it should happen n into herbal homeopathic stuff so good for me . after that id love to work in or canada . i cant speak so that leaves canada . although i don ' t have enough for a visa :( i a friend who ' s help me as he ' s ( thats help !) and if i end up for a whole year before i go then that give me more , plus try learn alongside my psychology degree , i speak but now i a goal for it and will give me more the better at it i am . the biggest problem is probably death - i . e . getting in a plane ... been bout takin a flight course to help me feel more prepared for flying , but i don ' t see how erase the knowledge that it could crash - and if it does it ' s the worst possible thing to be in that . i dont die . if i do , i dont die like that . but then more than not wanting to die , i live , i know wot i mean ... which me onto the fact that i should start again . i b able to do the 10mile fun run next year to raise money for something that catching my eye , i seem to read about it in n all the time , n through the door , it my heart , if there ' s i can do i do it . not because such a great person just because seen the effects .... ... will b a new resolution pathetic camp should be cool too , wish it was this summer though as b my brain n suicide for fun to do ... of which my mum on , seriously do i come across as that abnormal n screwed ? i guess we just have different on what ' s normal , what n behaviour are acceptable , whats good for us . o well x\n",
      "lemmatize_sent ::  i ca n't wait for thing to get move , i want out of here . im lookin forward to uni although it mean another 3 year in england . it should be so much fun from my experience of it so far and my brother 's experience . after uni though it will be another year i guess before i can move , a i 'll need to work for 'bout that long to get some money . will be quite lonely i imagine a every1 will have move on by then . i wana work in a pub , duno why , not any pub , not a big pub , i 'd love to work the fox n hound by jill 's - it 's small n friendly , i think thats what attracks me to bein a barmaid - every1 think it somit to look down on but what 's so bad bein surround by people in a friendly ( if smoky : s ) atmosphere ? mayb im naive ... also hav a job line up with jill i hope : ) i love the sound of what she plan to do and she say she 'll employ me : ) ur pretty much self-employed to be honest so it should happen n im into herbal homeopathic stuff so sounds good for me . after that id love to work in italy or canada . i cant speak italian so that leave canada lol . although i do n't have enough point for a visa : ( i hav a friend who 's gona help me a he 's canadian ( thats gota help ! ) and if i end up workin for a whole year before i go then that shld give me more point , plus im gona try learn french alongside my psychology degree , i wana speak french newas but now i hav a goal for it and will give me more point the good at it i be . the big problem be probably death - i.e . get in a plane ... ive be thinkin bout takin a flight course to help me feel more prepared for fly , but i do n't see how im gona erase the knowledge that it could crash - and if it do it 's the bad possible thing to be in that crash . i dont wana die . if i do , i dont wana die like that . but then more than not want to die , i wana live , i know wot i mean ... which bring me onto the fact that i realy should start jog again . i wana b able to do the 10mile fun run next year to raise money for something that keep catch my eye , i seem to read about it in magazine n paper all the time , n thing through the door , it break my heart , if there 's nethin i can do i wana do it . not because im such a great person just because ive see the effect ... . newas ... will b a new year resolution lol im pathetic camp america should be cool too , wish it be this summer though a im gona b bore outa my brain n probs comit suicide for somit fun to do ... talkin of which my mum think im on drug , seriously do i come across a that abnormal n screw ? i guess we just have different view on what 's normal , what emotions n behaviour be acceptable , whats good for u etc . o well arrivedechi x\n",
      "lemmed :  i ca n't wait for thing to get move , i want out of here . im lookin forward to uni although it mean another 3 year in england . it should be so much fun from my experience of it so far and my brother 's experience . after uni though it will be another year i guess before i can move , a i 'll need to work for 'bout that long to get some money . will be quite lonely i imagine a every1 will have move on by then . i wana work in a pub , duno why , not any pub , not a big pub , i 'd love to work the fox n hound by jill 's - it 's small n friendly , i think thats what attracks me to bein a barmaid - every1 think it somit to look down on but what 's so bad bein surround by people in a friendly ( if smoky : s ) atmosphere ? mayb im naive ... also hav a job line up with jill i hope : ) i love the sound of what she plan to do and she say she 'll employ me : ) ur pretty much self-employed to be honest so it should happen n im into herbal homeopathic stuff so sounds good for me . after that id love to work in italy or canada . i cant speak italian so that leave canada lol . although i do n't have enough point for a visa : ( i hav a friend who 's gona help me a he 's canadian ( thats gota help ! ) and if i end up workin for a whole year before i go then that shld give me more point , plus im gona try learn french alongside my psychology degree , i wana speak french newas but now i hav a goal for it and will give me more point the good at it i be . the big problem be probably death - i.e . get in a plane ... ive be thinkin bout takin a flight course to help me feel more prepared for fly , but i do n't see how im gona erase the knowledge that it could crash - and if it do it 's the bad possible thing to be in that crash . i dont wana die . if i do , i dont wana die like that . but then more than not want to die , i wana live , i know wot i mean ... which bring me onto the fact that i realy should start jog again . i wana b able to do the 10mile fun run next year to raise money for something that keep catch my eye , i seem to read about it in magazine n paper all the time , n thing through the door , it break my heart , if there 's nethin i can do i wana do it . not because im such a great person just because ive see the effect ... . newas ... will b a new year resolution lol im pathetic camp america should be cool too , wish it be this summer though a im gona b bore outa my brain n probs comit suicide for somit fun to do ... talkin of which my mum think im on drug , seriously do i come across a that abnormal n screw ? i guess we just have different view on what 's normal , what emotions n behaviour be acceptable , whats good for u etc . o well arrivedechi x\n",
      "time: 819 ms (started: 2021-10-31 11:07:45 +00:00)\n"
     ]
    }
   ],
   "source": [
    "ilocat = 100\n",
    "print(\"Original Text :: \" , blog_df.text[ilocat])\n",
    "print(\"Accented chars removed :: \", CleanUpData.remove_accented_chars(blog_df.text[ilocat]))\n",
    "print(\"Upon removing Special chars ::\", CleanUpData.remove_special_characters(blog_df.text[ilocat]))\n",
    "print(\"Upon removing emojis ::\", CleanUpData.remove_emojis(blog_df.text[ilocat]))\n",
    "print(\"Upon removing stopwords ::\", CleanUpData.remove_stop_words(blog_df.text[ilocat]))\n",
    "print(\"Removing non english text :: \", CleanUpData.remove_non_english_words(blog_df.text[ilocat]))\n",
    "print(\"lemmatize_sent :: \" , CleanUpData.lemmatize_sent(blog_df.text[ilocat]))\n",
    "print(\"lemmed : \" , CleanUpData.lemmatize_sent(blog_df.text[ilocat]))"
   ]
  },
  {
   "cell_type": "markdown",
   "id": "db141cae",
   "metadata": {
    "id": "b72bQ7zRJx6I"
   },
   "source": [
    "    Below function bind all the function used for cleaning text data."
   ]
  },
  {
   "cell_type": "code",
   "execution_count": null,
   "id": "9fefe506",
   "metadata": {
    "colab": {
     "base_uri": "https://localhost:8080/"
    },
    "id": "Px_bA5yZXZYt",
    "outputId": "786d3560-f57f-4cdf-acb0-f51febb053e4"
   },
   "outputs": [
    {
     "name": "stdout",
     "output_type": "stream",
     "text": [
      "time: 5.71 ms (started: 2021-10-31 11:07:46 +00:00)\n"
     ]
    }
   ],
   "source": [
    "def text_cleaner(inputDataFrame):\n",
    "    inputDataFrame['text'] = inputDataFrame.text.apply(CleanUpData.remove_special_characters)\n",
    "    inputDataFrame['text'] = inputDataFrame.text.apply(CleanUpData.remove_accented_chars)\n",
    "    inputDataFrame['text'] = inputDataFrame.text.apply(CleanUpData.remove_stop_words)\n",
    "    inputDataFrame['text'] = inputDataFrame.text.apply(CleanUpData.remove_non_english_words)\n",
    "    inputDataFrame['text'] = inputDataFrame.text.apply(CleanUpData.lemmatize_sent)\n",
    "    inputDataFrame['text'] = inputDataFrame.text.apply(CleanUpData.clean_text)\n",
    "    return inputDataFrame"
   ]
  },
  {
   "cell_type": "code",
   "execution_count": null,
   "id": "6a0bb10a",
   "metadata": {
    "colab": {
     "base_uri": "https://localhost:8080/"
    },
    "id": "XyNrAncC47y1",
    "outputId": "4d24b96f-bb5d-4622-c171-d9e72ba56d3b"
   },
   "outputs": [
    {
     "name": "stdout",
     "output_type": "stream",
     "text": [
      "time: 40min 14s (started: 2021-10-31 11:07:46 +00:00)\n"
     ]
    }
   ],
   "source": [
    "blog_df['Cleaned_text'] = text_cleaner(blog_df['text'].to_frame())"
   ]
  },
  {
   "cell_type": "markdown",
   "id": "634bd171",
   "metadata": {
    "id": "G5Xi3AyEL4_z"
   },
   "source": [
    "  Label Encoding on the individual labels which will be used for tfidf vecorizer."
   ]
  },
  {
   "cell_type": "code",
   "execution_count": null,
   "id": "e480d6a0",
   "metadata": {
    "colab": {
     "base_uri": "https://localhost:8080/",
     "height": 669
    },
    "id": "ibw6618nYWNB",
    "outputId": "a8b1ba16-9fcf-4d3a-8d6e-0806cce71f2d"
   },
   "outputs": [
    {
     "name": "stderr",
     "output_type": "stream",
     "text": [
      "UserWarning: User-defined function verification is still under development in Modin. The function provided is not verified.\n"
     ]
    },
    {
     "data": {
      "text/html": [
       "<div>\n",
       "<style scoped>\n",
       "    .dataframe tbody tr th:only-of-type {\n",
       "        vertical-align: middle;\n",
       "    }\n",
       "\n",
       "    .dataframe tbody tr th {\n",
       "        vertical-align: top;\n",
       "    }\n",
       "\n",
       "    .dataframe thead th {\n",
       "        text-align: right;\n",
       "    }\n",
       "</style>\n",
       "<table border=\"1\" class=\"dataframe\">\n",
       "  <thead>\n",
       "    <tr style=\"text-align: right;\">\n",
       "      <th></th>\n",
       "      <th>id</th>\n",
       "      <th>gender</th>\n",
       "      <th>age</th>\n",
       "      <th>topic</th>\n",
       "      <th>sign</th>\n",
       "      <th>date</th>\n",
       "      <th>text</th>\n",
       "      <th>Cleaned_text</th>\n",
       "      <th>gender_le</th>\n",
       "      <th>topic_le</th>\n",
       "      <th>sign_le</th>\n",
       "    </tr>\n",
       "  </thead>\n",
       "  <tbody>\n",
       "    <tr>\n",
       "      <th>0</th>\n",
       "      <td>2059027</td>\n",
       "      <td>male</td>\n",
       "      <td>15</td>\n",
       "      <td>Student</td>\n",
       "      <td>Leo</td>\n",
       "      <td>14,May,2004</td>\n",
       "      <td>Info has been found (+/- 100 pages,...</td>\n",
       "      <td>find 100 45 now wait untill team leader</td>\n",
       "      <td>1</td>\n",
       "      <td>34</td>\n",
       "      <td>5</td>\n",
       "    </tr>\n",
       "    <tr>\n",
       "      <th>1</th>\n",
       "      <td>2059027</td>\n",
       "      <td>male</td>\n",
       "      <td>15</td>\n",
       "      <td>Student</td>\n",
       "      <td>Leo</td>\n",
       "      <td>13,May,2004</td>\n",
       "      <td>These are the team members:   Drewe...</td>\n",
       "      <td>these team van mail mail mail</td>\n",
       "      <td>1</td>\n",
       "      <td>34</td>\n",
       "      <td>5</td>\n",
       "    </tr>\n",
       "    <tr>\n",
       "      <th>2</th>\n",
       "      <td>2059027</td>\n",
       "      <td>male</td>\n",
       "      <td>15</td>\n",
       "      <td>Student</td>\n",
       "      <td>Leo</td>\n",
       "      <td>12,May,2004</td>\n",
       "      <td>In het kader van kernfusie op aarde...</td>\n",
       "      <td>in het van how build from subject how to build...</td>\n",
       "      <td>1</td>\n",
       "      <td>34</td>\n",
       "      <td>5</td>\n",
       "    </tr>\n",
       "    <tr>\n",
       "      <th>3</th>\n",
       "      <td>2059027</td>\n",
       "      <td>male</td>\n",
       "      <td>15</td>\n",
       "      <td>Student</td>\n",
       "      <td>Leo</td>\n",
       "      <td>12,May,2004</td>\n",
       "      <td>testing!!!  testing!!!</td>\n",
       "      <td>test test</td>\n",
       "      <td>1</td>\n",
       "      <td>34</td>\n",
       "      <td>5</td>\n",
       "    </tr>\n",
       "    <tr>\n",
       "      <th>4</th>\n",
       "      <td>3581210</td>\n",
       "      <td>male</td>\n",
       "      <td>33</td>\n",
       "      <td>InvestmentBanking</td>\n",
       "      <td>Aquarius</td>\n",
       "      <td>11,June,2004</td>\n",
       "      <td>Thanks to Yahoo!'s Toolbar I can ...</td>\n",
       "      <td>thanks i capture i show cool link pop audio vi...</td>\n",
       "      <td>1</td>\n",
       "      <td>20</td>\n",
       "      <td>0</td>\n",
       "    </tr>\n",
       "    <tr>\n",
       "      <th>...</th>\n",
       "      <td>...</td>\n",
       "      <td>...</td>\n",
       "      <td>...</td>\n",
       "      <td>...</td>\n",
       "      <td>...</td>\n",
       "      <td>...</td>\n",
       "      <td>...</td>\n",
       "      <td>...</td>\n",
       "      <td>...</td>\n",
       "      <td>...</td>\n",
       "      <td>...</td>\n",
       "    </tr>\n",
       "    <tr>\n",
       "      <th>681279</th>\n",
       "      <td>1713845</td>\n",
       "      <td>male</td>\n",
       "      <td>23</td>\n",
       "      <td>Student</td>\n",
       "      <td>Taurus</td>\n",
       "      <td>01,July,2004</td>\n",
       "      <td>Dear Susan,  I could write some really ...</td>\n",
       "      <td>dear i could write really bitter diatribe dise...</td>\n",
       "      <td>1</td>\n",
       "      <td>34</td>\n",
       "      <td>10</td>\n",
       "    </tr>\n",
       "    <tr>\n",
       "      <th>681280</th>\n",
       "      <td>1713845</td>\n",
       "      <td>male</td>\n",
       "      <td>23</td>\n",
       "      <td>Student</td>\n",
       "      <td>Taurus</td>\n",
       "      <td>01,July,2004</td>\n",
       "      <td>Dear Susan,  'I have the second yeast i...</td>\n",
       "      <td>dear i second yeast infection past two straigh...</td>\n",
       "      <td>1</td>\n",
       "      <td>34</td>\n",
       "      <td>10</td>\n",
       "    </tr>\n",
       "    <tr>\n",
       "      <th>681281</th>\n",
       "      <td>1713845</td>\n",
       "      <td>male</td>\n",
       "      <td>23</td>\n",
       "      <td>Student</td>\n",
       "      <td>Taurus</td>\n",
       "      <td>01,July,2004</td>\n",
       "      <td>Dear Susan,  Your 'boyfriend' is fuckin...</td>\n",
       "      <td>dear your bald good luck</td>\n",
       "      <td>1</td>\n",
       "      <td>34</td>\n",
       "      <td>10</td>\n",
       "    </tr>\n",
       "    <tr>\n",
       "      <th>681282</th>\n",
       "      <td>1713845</td>\n",
       "      <td>male</td>\n",
       "      <td>23</td>\n",
       "      <td>Student</td>\n",
       "      <td>Taurus</td>\n",
       "      <td>01,July,2004</td>\n",
       "      <td>Dear Susan:    Just to clarify, I am as...</td>\n",
       "      <td>dear just clarify i leave house why piss floor...</td>\n",
       "      <td>1</td>\n",
       "      <td>34</td>\n",
       "      <td>10</td>\n",
       "    </tr>\n",
       "    <tr>\n",
       "      <th>681283</th>\n",
       "      <td>1713845</td>\n",
       "      <td>male</td>\n",
       "      <td>23</td>\n",
       "      <td>Student</td>\n",
       "      <td>Taurus</td>\n",
       "      <td>01,July,2004</td>\n",
       "      <td>Hey everybody...and Susan,  You might a...</td>\n",
       "      <td>hey you might already know my weird al i get t...</td>\n",
       "      <td>1</td>\n",
       "      <td>34</td>\n",
       "      <td>10</td>\n",
       "    </tr>\n",
       "  </tbody>\n",
       "</table>\n",
       "<p>681284 rows x 11 columns</p>\n",
       "</div>"
      ],
      "text/plain": [
       "             id gender  age  ... gender_le topic_le sign_le\n",
       "0       2059027   male   15  ...         1       34       5\n",
       "1       2059027   male   15  ...         1       34       5\n",
       "2       2059027   male   15  ...         1       34       5\n",
       "3       2059027   male   15  ...         1       34       5\n",
       "4       3581210   male   33  ...         1       20       0\n",
       "...         ...    ...  ...  ...       ...      ...     ...\n",
       "681279  1713845   male   23  ...         1       34      10\n",
       "681280  1713845   male   23  ...         1       34      10\n",
       "681281  1713845   male   23  ...         1       34      10\n",
       "681282  1713845   male   23  ...         1       34      10\n",
       "681283  1713845   male   23  ...         1       34      10\n",
       "\n",
       "[681284 rows x 11 columns]"
      ]
     },
     "execution_count": 51,
     "metadata": {},
     "output_type": "execute_result"
    },
    {
     "name": "stdout",
     "output_type": "stream",
     "text": [
      "time: 34.7 s (started: 2021-10-31 11:48:01 +00:00)\n"
     ]
    }
   ],
   "source": [
    "from sklearn import preprocessing\n",
    "le = preprocessing.LabelEncoder()\n",
    "# df[['gender', 'topic', 'sign']] = df[['gender', 'topic', 'sign']].apply(le.fit_transform)\n",
    "blog_df['gender_le'] = blog_df[['gender']].apply(le.fit_transform)\n",
    "blog_df['topic_le'] = blog_df[['topic']].apply(le.fit_transform)\n",
    "blog_df['sign_le'] = blog_df[['sign']].apply(le.fit_transform)\n",
    "\n",
    "categories = ['gender_le', 'sign_le' , 'topic_le',  'age']\n",
    "blog_df"
   ]
  },
  {
   "cell_type": "code",
   "execution_count": null,
   "id": "42f2be22",
   "metadata": {
    "colab": {
     "base_uri": "https://localhost:8080/"
    },
    "id": "a94J45jZK7Ug",
    "outputId": "2f22d77e-1ce0-4498-a827-3c34d3e2165c"
   },
   "outputs": [
    {
     "name": "stdout",
     "output_type": "stream",
     "text": [
      "time: 1.9 ms (started: 2021-10-31 11:48:36 +00:00)\n"
     ]
    }
   ],
   "source": [
    "#Below piece of code is replaced by using Modin \n",
    "# from more_itertools import sliced\n",
    "# CHUNK_SIZE = 100\n",
    "\n",
    "# index_slices = sliced(range(len(blog_df)), CHUNK_SIZE)\n",
    "\n",
    "# listOdDf = []\n",
    "# for index_slice in index_slices:\n",
    "#   chunk = blog_df.iloc[index_slice]\n",
    "#   listOdDf.append(chunk)\n",
    "\n",
    "# with Pool(processes=6) as pool:\n",
    "#   result = pool.map(review_cleaner, listOdDf) "
   ]
  },
  {
   "cell_type": "markdown",
   "id": "ae7759c4",
   "metadata": {
    "id": "gtNR8qFdNOGt"
   },
   "source": [
    "    Check few records in dataframe, This manual checking would help to understand the data preprocessing."
   ]
  },
  {
   "cell_type": "code",
   "execution_count": null,
   "id": "df83e654",
   "metadata": {
    "colab": {
     "base_uri": "https://localhost:8080/"
    },
    "id": "bKD354n-NYcn",
    "outputId": "44581a1d-e93a-4710-909d-23091a81c2cf"
   },
   "outputs": [
    {
     "name": "stdout",
     "output_type": "stream",
     "text": [
      "             Last night was pretty fun...mostly because of the company I kept.  I recently met a couple of finance-types here in Yeouido (which isn't too hard to do, as it's referred to as Korea's Wall Street) who spoke pretty good English (which is a rarity here not only in Yeouido but everywhere in Korea).  They had studied outside Korea and deal with international business...but still my brutal Canadian accent made it pretty tough for them to figure out what I was saying sometimes.  There was one time that their accent got in the way, though.  When we went to the restaurant the guy (Junseok, the gal is named Hye-Kyung) asked: 'Do you like deok?'  I wrote it just as I heard it.  I thought he meant dog (they eat that here) so I called his bluff and said, 'Sure, let's go! What kind of dog?' 'Oh no, deok, deok!' 'Ya, dog?' 'No, deok,' he said again. Then I figured out that he meant 'duck' and said, 'Oh, &#50724;&#47532; (oh-ri), duck! Not &#44060; (gay), dog! Why didn't you just speak Korean?  I know &#50724;&#47532; and &#44060;!'  The food was great, then we went to the obligatory 이차 (ee-cha, thanks Hye-Kyung for the correction) or second round.  Koreans can never just go to one place to eat and drink.  Usually we will wander the streets and go out to three, four or five places. A couple of weeks ago in Hongdae (university bar district here) we went to 4 places: the &#49328;&#45209;&#51648; (san-nak-ji, living octopus) restaurant, Old Rock (cool bar), a &#45432;&#47000;&#48169; (noraebang, Korean word for karaoke) and finally clubnb (or noise basement) until the wee hours of the morning.  (Personally I prefer the Kangnam version of clubnb, but since we were in Hongdae we went to that one.)  The coolest thing here about bar-hopping/pub-crawling is there is almost never a lineup and very rarely a cover (just in the clubs, never in bars).  I think this is because people are always moving.  In Canada if you get in a bar you never, never leave until you go home...which means those who want to get in have to lineup.  Also, if a Korean is asked to wait (for anything, especially after a few drinks) they will just balk and leave...and no bar-owner would like that.  Maybe that's why Koreans in general are moving around more and Canadians are so sedate (relatively...if you've lived in both places you know what I mean).   Update:  looks like everyone wants to be on my blog...for some reason.  Here are the pics of my gracious hosts of the evening.   urlLink    Junseok, who works in International Business and has an MBA...he's trying to come up with a fitting Western name for himself, if you have one to suggest just leave a comment, please.   urlLink    Hae-Kyung, who works with him.  She too has an MBA (and from my wife's alma mater of Ewha Women's University, no less).  Hae-Kyung is really good at English and is quite bright...and single (men, take note). She thinks her face looks like the moon, or 달덩이 (Daldeong-ee) as they say here, I guess so...         \n",
      "last night pretty company i keep i recently meet couple hard wall street speak pretty good rarity everywhere they study outside deal international still brutal accent make pretty tough figure i say sometimes there one time accent get way though when go restaurant guy gal do like i write i i think meant dog eat i bluff say sure go what kind dog oh ya dog no say then i figure meant duck say oh 5072447532 duck not 44060 gay dog why didnt speak i know 5072447532 44060 the food great go obligatory thanks correction second round never go one place eat drink usually wander street go three four five a couple ago university bar district go 4 493284520951648 living octopus restaurant old rock cool bar 454324700048169 word karaoke finally noise basement wee morning personally i prefer version since go one the thing almost never rarely cover never i think people always move in canada get bar never never leave go want get also wait anything especially balk would like maybe thats general move around sedate youve live know i mean update like everyone reason here gracious even works international business try come fitting western name one suggest leave comment please work she alma mater university less really good quite single men take note she face like moon say i guess\n",
      "time: 347 ms (started: 2021-10-31 11:48:36 +00:00)\n"
     ]
    }
   ],
   "source": [
    "print(blog_df.text[12])\n",
    "print(blog_df.Cleaned_text[12])"
   ]
  },
  {
   "cell_type": "markdown",
   "id": "e89e58fc",
   "metadata": {
    "id": "mR2RIn7KAYa9"
   },
   "source": [
    "### Target/label merger and transformation"
   ]
  },
  {
   "cell_type": "code",
   "execution_count": null,
   "id": "4f58d0fd",
   "metadata": {
    "colab": {
     "base_uri": "https://localhost:8080/"
    },
    "id": "KlESRMFqAY2T",
    "outputId": "9f404b8f-dbf1-4c8e-dbd5-fa595dba2eec"
   },
   "outputs": [
    {
     "name": "stderr",
     "output_type": "stream",
     "text": [
      "UserWarning: User-defined function verification is still under development in Modin. The function provided is not verified.\n"
     ]
    },
    {
     "name": "stdout",
     "output_type": "stream",
     "text": [
      "time: 28.9 s (started: 2021-10-31 11:48:36 +00:00)\n"
     ]
    }
   ],
   "source": [
    "blog_df['label_four_column'] = blog_df.apply(lambda col : [col['gender'],col['age'],col['topic'],col['sign']], axis=1)\n",
    "blog_df['label_three_column'] = blog_df.apply(lambda col : [col['gender'],col['topic'],col['sign']], axis=1)"
   ]
  },
  {
   "cell_type": "markdown",
   "id": "b8bad67d",
   "metadata": {
    "id": "w3L6eNCRAg46"
   },
   "source": [
    "### Train and test split\n",
    "\n",
    "  There will be 2 types of approachs\n",
    "\n",
    "  Approach #1: Application of algorithm on text VS single label [gender, age, topic, sign] separately. \n",
    "              In this approach, there will be 2 types of vecotrization technique tried - TFIDF and count vectorizer.\n",
    "\n",
    "  Approach #2: Application of algorithm on text VS merged labels.\n",
    "\n",
    "  Appropriate marking are done for these approaches in this notebook."
   ]
  },
  {
   "cell_type": "markdown",
   "id": "20dff626",
   "metadata": {
    "id": "6EUbBgEUHF5o"
   },
   "source": [
    "  Approach #1: Application of algorithm on text VS single label [gender, age, topic, sign] separately. The code for same are in cells below. At first we shall look into count vectorizer technique."
   ]
  },
  {
   "cell_type": "code",
   "execution_count": null,
   "id": "cf3f19af",
   "metadata": {
    "colab": {
     "base_uri": "https://localhost:8080/"
    },
    "id": "tLK3G647AEYZ",
    "outputId": "862e84be-5b35-4d9e-ebdd-d2a759100f40"
   },
   "outputs": [
    {
     "name": "stdout",
     "output_type": "stream",
     "text": [
      "(510963,)\n",
      "(510963,)\n",
      "(170321,)\n",
      "(170321,)\n",
      "time: 17.9 s (started: 2021-10-31 11:49:05 +00:00)\n"
     ]
    }
   ],
   "source": [
    "from sklearn.model_selection import train_test_split\n",
    "# split X and y into training and testing sets\n",
    "blog_topic_train, blog_topic_test, y_topic_train, y_topic_test = train_test_split(blog_df.Cleaned_text, blog_df.topic, random_state=2)\n",
    "\n",
    "#Traing data\n",
    "print(blog_topic_train.shape)\n",
    "print(y_topic_train.shape)\n",
    "\n",
    "#Test Data\n",
    "print(blog_topic_test.shape)\n",
    "print(y_topic_test.shape)"
   ]
  },
  {
   "cell_type": "markdown",
   "id": "e1219388",
   "metadata": {
    "id": "3ZdA51nkBF_3"
   },
   "source": [
    "### Vectorisation"
   ]
  },
  {
   "cell_type": "code",
   "execution_count": null,
   "id": "6d30f7ca",
   "metadata": {
    "colab": {
     "base_uri": "https://localhost:8080/"
    },
    "id": "LmaWsxXQNy0F",
    "outputId": "632d70b4-110c-4c8d-b01d-9556de4fca96"
   },
   "outputs": [
    {
     "name": "stdout",
     "output_type": "stream",
     "text": [
      "time: 2.83 ms (started: 2021-10-31 11:49:23 +00:00)\n"
     ]
    }
   ],
   "source": [
    "from sklearn.feature_extraction.text import CountVectorizer\n",
    "\n",
    "#we can restrict the number of features using below method\n",
    "# cvect = CountVectorizer(min_df=2, max_df=0.5, max_features=300)\n",
    "\n",
    "#CountVectorizer (with the default parameters)\n",
    "cvect = CountVectorizer()"
   ]
  },
  {
   "cell_type": "code",
   "execution_count": null,
   "id": "20e70bb8",
   "metadata": {
    "colab": {
     "base_uri": "https://localhost:8080/"
    },
    "id": "PIJqUBtYOG_e",
    "outputId": "0b94586f-7b0a-4a2d-b762-a64cb06320c4"
   },
   "outputs": [
    {
     "data": {
      "text/plain": [
       "CountVectorizer(analyzer='word', binary=False, decode_error='strict',\n",
       "                dtype=<class 'numpy.int64'>, encoding='utf-8', input='content',\n",
       "                lowercase=True, max_df=1.0, max_features=None, min_df=1,\n",
       "                ngram_range=(1, 1), preprocessor=None, stop_words=None,\n",
       "                strip_accents=None, token_pattern='(?u)\\\\b\\\\w\\\\w+\\\\b',\n",
       "                tokenizer=None, vocabulary=None)"
      ]
     },
     "execution_count": 57,
     "metadata": {},
     "output_type": "execute_result"
    },
    {
     "name": "stdout",
     "output_type": "stream",
     "text": [
      "time: 49.4 s (started: 2021-10-31 11:49:23 +00:00)\n"
     ]
    }
   ],
   "source": [
    "#CountVectorize the blog data\n",
    "cvect.fit(blog_topic_train)"
   ]
  },
  {
   "cell_type": "code",
   "execution_count": null,
   "id": "ce56a13a",
   "metadata": {
    "colab": {
     "base_uri": "https://localhost:8080/"
    },
    "id": "CzjFKy9GOMGm",
    "outputId": "18efccf1-e261-42b1-94e3-1bbd2b7a4aea"
   },
   "outputs": [
    {
     "name": "stdout",
     "output_type": "stream",
     "text": [
      "160634\n",
      "time: 1.19 ms (started: 2021-10-31 11:50:13 +00:00)\n"
     ]
    }
   ],
   "source": [
    "#Check the vocablury size\n",
    "print(len(cvect.vocabulary_))"
   ]
  },
  {
   "cell_type": "code",
   "execution_count": null,
   "id": "50aac62e",
   "metadata": {
    "colab": {
     "base_uri": "https://localhost:8080/"
    },
    "id": "mhRyphT2OMga",
    "outputId": "a33cdfb3-1dc1-45b6-e9e8-850604fd5cd8"
   },
   "outputs": [
    {
     "data": {
      "text/plain": [
       "{'thats': 147555,\n",
       " 'sure': 145340,\n",
       " 'come': 79613,\n",
       " 'place': 127347,\n",
       " 'read': 133166,\n",
       " 'let': 112515,\n",
       " 'introduce': 108122,\n",
       " 'first': 91849,\n",
       " 'year': 159771,\n",
       " '2000': 23215,\n",
       " 'computer': 79973,\n",
       " 'science': 137813,\n",
       " 'graduate': 95726,\n",
       " 'fast': 90967,\n",
       " 'institute': 107649,\n",
       " 'topper': 149294,\n",
       " 'share': 139424,\n",
       " '378': 37269,\n",
       " 'two': 150784,\n",
       " 'batch': 72096,\n",
       " 'after': 66994,\n",
       " 'graduation': 95729,\n",
       " 'one': 122851,\n",
       " 'prestigious': 130460,\n",
       " 'clear': 78832,\n",
       " 'exam': 89662,\n",
       " '91': 61285,\n",
       " 'select': 138543,\n",
       " 'application': 69239,\n",
       " 'server': 139003,\n",
       " 'commerce': 79716,\n",
       " 'suite': 144916,\n",
       " 'training': 149640,\n",
       " 'conduct': 80132,\n",
       " 'train': 149631,\n",
       " 'back': 71349,\n",
       " 'company': 79809,\n",
       " 'day': 83236,\n",
       " 'later': 111940,\n",
       " '2001': 23356,\n",
       " 'hire': 98468,\n",
       " 'write': 158579,\n",
       " 'transaction': 149683,\n",
       " 'engine': 88611,\n",
       " 'specialize': 142432,\n",
       " 'banking': 71806,\n",
       " 'domain': 86057,\n",
       " 'upon': 154092,\n",
       " 'completion': 79891,\n",
       " 'project': 130917,\n",
       " 'give': 94970,\n",
       " '50': 44856,\n",
       " 'increment': 106812,\n",
       " 'pay': 125593,\n",
       " 'well': 157050,\n",
       " 'promotion': 130976,\n",
       " 'work': 158312,\n",
       " 'next': 120354,\n",
       " 'half': 97013,\n",
       " 'various': 154898,\n",
       " 'almost': 67789,\n",
       " 'always': 67952,\n",
       " 'set': 139047,\n",
       " 'follow': 92490,\n",
       " 'three': 148214,\n",
       " 'experience': 89969,\n",
       " 'try': 150341,\n",
       " 'move': 118394,\n",
       " 'abroad': 66083,\n",
       " 'high': 98315,\n",
       " 'education': 87791,\n",
       " 'what': 157245,\n",
       " 'ill': 105987,\n",
       " 'cover': 81356,\n",
       " 'behind': 72577,\n",
       " 'the': 147567,\n",
       " 'people': 125988,\n",
       " 'like': 112883,\n",
       " 'ie': 105829,\n",
       " 'want': 156435,\n",
       " 'create': 81683,\n",
       " 'difference': 84880,\n",
       " 'knowledge': 110941,\n",
       " 'spirit': 142682,\n",
       " 'path': 125457,\n",
       " 'base': 72012,\n",
       " 'if': 105848,\n",
       " 'believer': 72635,\n",
       " 'surely': 145344,\n",
       " 'benefit': 72746,\n",
       " 'series': 138963,\n",
       " 'relate': 134090,\n",
       " 'sorry': 142086,\n",
       " 'havent': 97514,\n",
       " 'much': 118699,\n",
       " 'probably': 130714,\n",
       " 'speak': 142405,\n",
       " 'panto': 125009,\n",
       " 'every': 89479,\n",
       " 'night': 120500,\n",
       " 'week': 156932,\n",
       " 'till': 148521,\n",
       " '11pm': 10386,\n",
       " 'time': 148555,\n",
       " 'get': 94748,\n",
       " 'home': 98755,\n",
       " 'so': 141544,\n",
       " 'bet': 72898,\n",
       " 'reason': 133283,\n",
       " 'actually': 66499,\n",
       " 'watch': 156624,\n",
       " 'last': 111861,\n",
       " 'scenery': 137674,\n",
       " 'hilarious': 98369,\n",
       " 'dame': 82917,\n",
       " 'brilliant': 74931,\n",
       " 'end': 88498,\n",
       " 'they': 147928,\n",
       " 'sing': 140373,\n",
       " 'song': 141943,\n",
       " 'cat': 77005,\n",
       " 'tune': 150529,\n",
       " 'robin': 135647,\n",
       " 'hood': 98905,\n",
       " 'different': 84883,\n",
       " 'say': 137454,\n",
       " 'right': 135240,\n",
       " 'wrong': 158614,\n",
       " 'music': 118963,\n",
       " 'really': 133237,\n",
       " 'funny': 93680,\n",
       " 'also': 67876,\n",
       " 'audience': 70449,\n",
       " 'sit': 140493,\n",
       " 'bloke': 73752,\n",
       " 'totally': 149410,\n",
       " 'stood': 143944,\n",
       " 'thew': 147924,\n",
       " 'everyone': 89523,\n",
       " 'even': 89422,\n",
       " 'laugh': 111994,\n",
       " 'usually': 154483,\n",
       " 'doesnt': 85960,\n",
       " 'theyre': 147939,\n",
       " 'suppose': 145301,\n",
       " 'other': 123435,\n",
       " 'usual': 154479,\n",
       " 'princess': 130623,\n",
       " 'turn': 150589,\n",
       " 'cue': 82167,\n",
       " 'generally': 94582,\n",
       " 'good': 95447,\n",
       " 'wail': 156284,\n",
       " 'make': 114974,\n",
       " 'new': 120287,\n",
       " 'rather': 132989,\n",
       " 'nice': 120427,\n",
       " 'party': 125317,\n",
       " 'weekend': 156954,\n",
       " 'cant': 76537,\n",
       " 'wait': 156307,\n",
       " 'hah': 96900,\n",
       " 'ha': 96805,\n",
       " 'and': 68397,\n",
       " 'ahem': 67284,\n",
       " 'are': 69492,\n",
       " 'dont': 86128,\n",
       " 'mind': 117153,\n",
       " '20': 23213,\n",
       " 'yell': 159845,\n",
       " 'from': 93418,\n",
       " 'hell': 97938,\n",
       " 'awful': 70806,\n",
       " 'today': 148940,\n",
       " 'where': 157332,\n",
       " 'begin': 72544,\n",
       " 'tell': 147066,\n",
       " 'think': 148021,\n",
       " 'cosmic': 81104,\n",
       " 'joke': 109585,\n",
       " 'butt': 75648,\n",
       " 'stupid': 144432,\n",
       " 'bitch': 73366,\n",
       " 'middle': 116923,\n",
       " 'road': 135603,\n",
       " 'past': 125395,\n",
       " 'driven': 86587,\n",
       " 'away': 70773,\n",
       " 'house': 99156,\n",
       " 'she': 139476,\n",
       " 'there': 147834,\n",
       " 'car': 76649,\n",
       " 'side': 140105,\n",
       " 'perfectly': 126109,\n",
       " 'gap': 94249,\n",
       " 'go': 95236,\n",
       " 'order': 123217,\n",
       " 'man': 115124,\n",
       " 'slap': 140843,\n",
       " 'bus': 75541,\n",
       " 'drive': 86581,\n",
       " 'this': 148072,\n",
       " 'incident': 106665,\n",
       " 'irritable': 108489,\n",
       " 'rest': 134724,\n",
       " 'something': 141896,\n",
       " 'small': 141156,\n",
       " 'bug': 75293,\n",
       " 'must': 119004,\n",
       " 'period': 126150,\n",
       " 'soon': 142005,\n",
       " 'customer': 82389,\n",
       " 'ignorant': 105905,\n",
       " 'wretch': 158554,\n",
       " 'we': 156791,\n",
       " 'keep': 110340,\n",
       " 'eye': 90242,\n",
       " 'west': 157157,\n",
       " 'patience': 125487,\n",
       " 'woman': 158136,\n",
       " 'horrible': 99005,\n",
       " 'mad': 114764,\n",
       " 'guy': 96508,\n",
       " 'manger': 115212,\n",
       " 'be': 72243,\n",
       " 'manager': 115161,\n",
       " 'feck': 91197,\n",
       " 'head': 97628,\n",
       " 'swing': 145694,\n",
       " 'round': 136011,\n",
       " 'point': 127825,\n",
       " 'view': 155311,\n",
       " 'leave': 112231,\n",
       " 'happy': 97253,\n",
       " 'chap': 77693,\n",
       " 'bum': 75391,\n",
       " 'ah': 67256,\n",
       " 'excitement': 89745,\n",
       " 'tomorrow': 149103,\n",
       " 'find': 91708,\n",
       " 'plan': 127398,\n",
       " 'weight': 157002,\n",
       " 'morning': 118178,\n",
       " 'lose': 113834,\n",
       " '72': 53809,\n",
       " '16': 16662,\n",
       " '12': 10551,\n",
       " 'stone': 143926,\n",
       " 'bit': 73362,\n",
       " 'less': 112498,\n",
       " 'still': 143806,\n",
       " 'pretty': 130507,\n",
       " 'know': 110913,\n",
       " 'wont': 158197,\n",
       " 'continue': 80605,\n",
       " 'peachy': 125708,\n",
       " 'slow': 141074,\n",
       " 'likely': 112961,\n",
       " 'remarkably': 134211,\n",
       " 'long': 113690,\n",
       " '125': 12069,\n",
       " '275': 30342,\n",
       " 'hope': 98949,\n",
       " 'calorie': 76332,\n",
       " 'far': 90891,\n",
       " 'nothing': 121579,\n",
       " '17020': 17802,\n",
       " 'leek': 112289,\n",
       " 'cauliflower': 77136,\n",
       " 'cucumber': 82160,\n",
       " 'garlic': 94295,\n",
       " 'red': 133609,\n",
       " 'grapefruit': 95818,\n",
       " '13616': 13737,\n",
       " 'tomato': 149082,\n",
       " 'zucchini': 160599,\n",
       " 'mandarin': 115179,\n",
       " '5987': 48057,\n",
       " '13474': 13609,\n",
       " 'celery': 77304,\n",
       " 'root': 135885,\n",
       " 'spinach': 142650,\n",
       " 'onion': 122904,\n",
       " '02': 803,\n",
       " 'cream': 81669,\n",
       " 'cheese': 77905,\n",
       " 'freeze': 93211,\n",
       " 'green': 95946,\n",
       " 'decent': 83644,\n",
       " 'aim': 67329,\n",
       " '200': 23214,\n",
       " 'problem': 130725,\n",
       " 'part': 125261,\n",
       " 'main': 114936,\n",
       " 'course': 81305,\n",
       " '7316': 54514,\n",
       " 'add': 66586,\n",
       " 'dessert': 84435,\n",
       " 'open': 123023,\n",
       " 'discussion': 85306,\n",
       " 'might': 116989,\n",
       " 'indulge': 107007,\n",
       " 'water': 156649,\n",
       " 'melon': 116359,\n",
       " 'choose': 78246,\n",
       " 'serve': 139002,\n",
       " 'size': 140540,\n",
       " 'would': 158462,\n",
       " '400': 39491,\n",
       " 'weighed': 156998,\n",
       " 'peel': 125802,\n",
       " '6760': 51786,\n",
       " '14076': 14339,\n",
       " 'altogether': 67926,\n",
       " 'though': 148159,\n",
       " 'yummy': 160262,\n",
       " '650': 51249,\n",
       " 'extra': 90160,\n",
       " 'final': 91685,\n",
       " 'total': 149394,\n",
       " '14726': 14893,\n",
       " 'see': 138431,\n",
       " 'could': 81181,\n",
       " 'buy': 75697,\n",
       " '240': 28286,\n",
       " '7900': 56100,\n",
       " 'maybe': 115927,\n",
       " 'weigh': 156996,\n",
       " '66': 51552,\n",
       " 'huge': 105000,\n",
       " 'freezer': 93212,\n",
       " '100': 4126,\n",
       " 'bag': 71562,\n",
       " '4130': 40359,\n",
       " '12096': 10973,\n",
       " 'sound': 142144,\n",
       " 'confuse': 80247,\n",
       " 'someone': 141884,\n",
       " 'whenever': 157327,\n",
       " 'eat': 87439,\n",
       " 'drink': 86567,\n",
       " 'big': 73092,\n",
       " 'glass': 95029,\n",
       " 'table': 146236,\n",
       " 'prepare': 130308,\n",
       " 'food': 92526,\n",
       " 'possible': 128303,\n",
       " 'never': 120281,\n",
       " 'voluntarily': 155697,\n",
       " '7pm': 56657,\n",
       " 'front': 93430,\n",
       " 'structure': 144304,\n",
       " 'anyway': 69036,\n",
       " 'figure': 91603,\n",
       " 'math': 115749,\n",
       " '62193': 50202,\n",
       " 'midnight': 116943,\n",
       " '8885': 59877,\n",
       " 'per': 126034,\n",
       " 'damn': 82927,\n",
       " 'thing': 147981,\n",
       " 'nbsp200': 119774,\n",
       " 'twist': 150764,\n",
       " 'reverse': 134976,\n",
       " 'version': 155146,\n",
       " '2468': 28584,\n",
       " 'way': 156724,\n",
       " 'average': 70705,\n",
       " 'daily': 82873,\n",
       " 'intake': 107727,\n",
       " 'gulp': 96414,\n",
       " '11429': 9246,\n",
       " '3001500': 33609,\n",
       " '171': 17872,\n",
       " 'o_onbspat': 122162,\n",
       " 'moment': 117786,\n",
       " 'deal': 83491,\n",
       " 'mess': 116590,\n",
       " 'body': 74040,\n",
       " 'suddenly': 144836,\n",
       " '14286': 14525,\n",
       " 'nonexistent': 121057,\n",
       " 'metabolism': 116621,\n",
       " 'differently': 84890,\n",
       " 'consult': 80512,\n",
       " 'yesterday': 159918,\n",
       " 'goal': 95256,\n",
       " 'loss': 113842,\n",
       " 'tend': 147157,\n",
       " 'start': 143461,\n",
       " 'healthy': 97697,\n",
       " 'diet': 84865,\n",
       " 'constantly': 80467,\n",
       " 'accord': 66288,\n",
       " 'need': 120045,\n",
       " 'sense': 138795,\n",
       " 'world': 158373,\n",
       " 'trouble': 150211,\n",
       " 'maintain': 114944,\n",
       " 'vary': 154909,\n",
       " 'quite': 132293,\n",
       " 'depend': 84200,\n",
       " 'calculator': 76248,\n",
       " 'use': 154440,\n",
       " 'found': 92939,\n",
       " 'id': 105713,\n",
       " 'burn': 75497,\n",
       " '13058': 13169,\n",
       " 'bed': 72408,\n",
       " 'site': 140496,\n",
       " 'rely': 134192,\n",
       " '131200': 13305,\n",
       " '1300': 13062,\n",
       " 'consider': 80413,\n",
       " 'personally': 126307,\n",
       " 'obviously': 122336,\n",
       " 'nearly': 119982,\n",
       " 'handy': 97178,\n",
       " 'count': 81192,\n",
       " 'deficit': 83830,\n",
       " 'certain': 77447,\n",
       " 'take': 146358,\n",
       " '150': 15402,\n",
       " 'mean': 116101,\n",
       " '1150': 9501,\n",
       " 'rate': 132979,\n",
       " 'pound': 129715,\n",
       " '25': 28959,\n",
       " 'certainly': 77448,\n",
       " 'impossible': 106403,\n",
       " 'reach': 133148,\n",
       " 'look': 113746,\n",
       " 'length': 112436,\n",
       " 'post': 128308,\n",
       " 'return': 134902,\n",
       " 'result': 134771,\n",
       " 'ramble': 132818,\n",
       " 'occasional': 122345,\n",
       " 'reader': 133174,\n",
       " 'lady': 111554,\n",
       " 'muffin': 118756,\n",
       " 'love': 113919,\n",
       " 'o_o': 122157,\n",
       " 'up': 153975,\n",
       " 'dollar': 86033,\n",
       " 'now': 121668,\n",
       " 'here': 98076,\n",
       " 'my': 119084,\n",
       " 'dream': 86482,\n",
       " 'pot': 129642,\n",
       " '280': 30595,\n",
       " 'million': 117102,\n",
       " 'raise': 132780,\n",
       " 'hand': 97106,\n",
       " 'completely': 79885,\n",
       " 'sum': 144958,\n",
       " 'money': 117854,\n",
       " 'collection': 79446,\n",
       " 'around': 69663,\n",
       " 'office': 122513,\n",
       " 'breath': 74814,\n",
       " 'lucky': 114115,\n",
       " 'late': 111895,\n",
       " 'idea': 105738,\n",
       " 'purchase': 131684,\n",
       " 'waterfront': 156659,\n",
       " 'property': 131031,\n",
       " 'town': 149500,\n",
       " 'revamp': 134935,\n",
       " 'city': 78604,\n",
       " 'then': 147737,\n",
       " 'remove': 134268,\n",
       " 'toxic': 149521,\n",
       " 'since': 140346,\n",
       " 'ancient': 68389,\n",
       " 'local': 113507,\n",
       " 'emperor': 88368,\n",
       " 'tribute': 149992,\n",
       " 'build': 75315,\n",
       " 'western': 157164,\n",
       " 'early': 87326,\n",
       " 'century': 77410,\n",
       " 'ad': 66521,\n",
       " 'didnt': 84840,\n",
       " 'attempt': 70360,\n",
       " 'govern': 95594,\n",
       " 'area': 69499,\n",
       " '18th': 19876,\n",
       " 'fifty': 91577,\n",
       " 'ago': 67198,\n",
       " 'live': 113361,\n",
       " 'outnumber': 123621,\n",
       " 'link': 113127,\n",
       " 'rat': 132975,\n",
       " 'travel': 149849,\n",
       " 'not': 121538,\n",
       " 'orientation': 123285,\n",
       " 'fat': 90988,\n",
       " 'granny': 95799,\n",
       " 'phone': 126676,\n",
       " 'schedule': 137699,\n",
       " 'dare': 83047,\n",
       " 'screw': 138011,\n",
       " 'reserve': 134595,\n",
       " 'park': 125205,\n",
       " 'them': 147700,\n",
       " 'crave': 81572,\n",
       " 'via': 155246,\n",
       " 'feel': 91223,\n",
       " 'least': 112213,\n",
       " 'extend': 90105,\n",
       " 'spot': 142858,\n",
       " 'parking': 125215,\n",
       " 'locker': 113532,\n",
       " 'second': 138333,\n",
       " 'consecutive': 80384,\n",
       " 'complete': 79882,\n",
       " 'game': 94171,\n",
       " '132': 13375,\n",
       " 'romp': 135799,\n",
       " 'it': 108646,\n",
       " 'offense': 122498,\n",
       " 'alive': 67634,\n",
       " 'wish': 157948,\n",
       " '10': 4125,\n",
       " 'spread': 142889,\n",
       " 'some': 141856,\n",
       " 'ready': 133196,\n",
       " 'concede': 80003,\n",
       " 'central': 77385,\n",
       " 'talk': 146400,\n",
       " 'wild': 157690,\n",
       " 'card': 76713,\n",
       " 'shoot': 139767,\n",
       " 'anything': 69029,\n",
       " 'happen': 97227,\n",
       " 'plus': 127690,\n",
       " 'beat': 72337,\n",
       " 'knew': 110863,\n",
       " 'help': 97974,\n",
       " 'st': 143209,\n",
       " 'skid': 140668,\n",
       " 'law': 112051,\n",
       " 'regardless': 133885,\n",
       " 'elsewhere': 88188,\n",
       " 'win': 157755,\n",
       " 'no': 120679,\n",
       " 'close': 78985,\n",
       " 'run': 136370,\n",
       " 'men': 116414,\n",
       " 'third': 148057,\n",
       " 'little': 113333,\n",
       " 'league': 112175,\n",
       " 'form': 92783,\n",
       " 'immortal': 106211,\n",
       " 'harry': 97372,\n",
       " 'crossword': 81914,\n",
       " 'puzzle': 131805,\n",
       " 'addict': 66597,\n",
       " 'without': 158015,\n",
       " 'mother': 118278,\n",
       " 'book': 74194,\n",
       " 'movie': 118403,\n",
       " 'bad': 71515,\n",
       " 'yet': 159949,\n",
       " 'addiction': 66600,\n",
       " 'crack': 81473,\n",
       " 'except': 89701,\n",
       " 'difficult': 84894,\n",
       " 'free': 93161,\n",
       " 'doe': 85951,\n",
       " 'anyone': 69022,\n",
       " 'cake': 76214,\n",
       " 'garbage': 94266,\n",
       " 'badly': 71544,\n",
       " 'drawn': 86470,\n",
       " 'boy': 74557,\n",
       " 'smith': 141251,\n",
       " 'queen': 132152,\n",
       " 'her': 98044,\n",
       " 'space': 142288,\n",
       " 'holiday': 98717,\n",
       " 'jeff': 109252,\n",
       " 'gemma': 94547,\n",
       " 'air': 67346,\n",
       " 'flaming': 92033,\n",
       " 'phantom': 126560,\n",
       " 'planet': 127411,\n",
       " 'nick': 120448,\n",
       " 'drake': 86426,\n",
       " 'star': 143403,\n",
       " 'sam': 137074,\n",
       " 'imperial': 106309,\n",
       " 'teen': 146991,\n",
       " 'aptly': 69351,\n",
       " 'that': 147516,\n",
       " 'radio': 132654,\n",
       " 'list': 113256,\n",
       " 'sufficient': 144863,\n",
       " 'enough': 88703,\n",
       " 'comment': 79706,\n",
       " 'recommend': 133491,\n",
       " 'hint': 98436,\n",
       " 'top': 149240,\n",
       " 'when': 157319,\n",
       " 'rich': 135163,\n",
       " 'famous': 90829,\n",
       " 'school': 137750,\n",
       " 'matching': 115722,\n",
       " 'imagine': 106090,\n",
       " 'seven': 139085,\n",
       " 'extent': 90123,\n",
       " 'whole': 157526,\n",
       " 'group': 96148,\n",
       " 'felt': 91278,\n",
       " 'tired': 148762,\n",
       " 'baby': 71305,\n",
       " 'biology': 73255,\n",
       " 'test': 147334,\n",
       " 'swear': 145587,\n",
       " 'spend': 142532,\n",
       " 'damned': 82937,\n",
       " 'fell': 91261,\n",
       " 'asleep': 69930,\n",
       " 'section': 138378,\n",
       " 'study': 144366,\n",
       " 'guide': 96361,\n",
       " 'blah': 73507,\n",
       " 'class': 78730,\n",
       " 'favorite': 91086,\n",
       " 'fun': 93607,\n",
       " 'teacher': 146836,\n",
       " 'genius': 94627,\n",
       " 'answer': 68724,\n",
       " 'everything': 89530,\n",
       " 'pop': 128125,\n",
       " 'quiz': 132304,\n",
       " 'correctly': 81027,\n",
       " 'name': 119491,\n",
       " 'homer': 98802,\n",
       " 'deliver': 83997,\n",
       " 'telegram': 147033,\n",
       " 'once': 122841,\n",
       " 'entire': 88784,\n",
       " 'yes': 159885,\n",
       " 'ceramic': 77419,\n",
       " 'finish': 91749,\n",
       " 'glaze': 95047,\n",
       " 'algebra': 67578,\n",
       " 'pow': 129750,\n",
       " 'drama': 86428,\n",
       " 'nobody': 120783,\n",
       " 'history': 98505,\n",
       " 'went': 157128,\n",
       " 'nectar': 120039,\n",
       " 'afterschool': 67028,\n",
       " 'practice': 129910,\n",
       " 'ask': 69920,\n",
       " 'oh': 122594,\n",
       " 'bring': 74941,\n",
       " 'conversation': 80723,\n",
       " 'female': 91285,\n",
       " 'foot': 92555,\n",
       " 'pick': 126915,\n",
       " 'shot': 139834,\n",
       " 'attention': 70368,\n",
       " 'dead': 83451,\n",
       " 'double': 86222,\n",
       " 'seriously': 138975,\n",
       " 'em': 88210,\n",
       " 'anyways': 69048,\n",
       " 'all': 67652,\n",
       " 'already': 67858,\n",
       " 'in': 106495,\n",
       " 'actuality': 66495,\n",
       " '45': 42055,\n",
       " 'extremely': 90207,\n",
       " 'many': 115341,\n",
       " 'sign': 140194,\n",
       " 'seeing': 138465,\n",
       " 'loan': 113479,\n",
       " '2034': 24538,\n",
       " 'hover': 99225,\n",
       " 'moon': 118035,\n",
       " 'minimum': 117204,\n",
       " 'four': 92954,\n",
       " 'interest': 107852,\n",
       " 'but': 75631,\n",
       " 'concern': 80031,\n",
       " 'you': 160070,\n",
       " 'kind': 110623,\n",
       " 'celebration': 77293,\n",
       " 'faster': 90976,\n",
       " 'breakfast': 74784,\n",
       " 'recipe': 133436,\n",
       " 'wheat': 157290,\n",
       " 'tortilla': 149364,\n",
       " 'slice': 140951,\n",
       " 'low': 113963,\n",
       " 'turkey': 150576,\n",
       " 'egg': 87886,\n",
       " 'white': 157466,\n",
       " '14': 14230,\n",
       " 'cup': 82241,\n",
       " 'chop': 78252,\n",
       " 'yellow': 159849,\n",
       " 'pinch': 127112,\n",
       " 'spray': 142886,\n",
       " 'cooking': 80789,\n",
       " 'oil': 122639,\n",
       " 'non': 120857,\n",
       " 'stick': 143767,\n",
       " 'omelet': 122750,\n",
       " 'pan': 124912,\n",
       " 'over': 123749,\n",
       " 'medium': 116227,\n",
       " 'flame': 92022,\n",
       " 'heat': 97766,\n",
       " 'toss': 149386,\n",
       " 'cook': 80781,\n",
       " 'stir': 143856,\n",
       " 'continually': 80601,\n",
       " 'finally': 91696,\n",
       " 'allow': 67745,\n",
       " 'flip': 92194,\n",
       " 'mixture': 117547,\n",
       " 'pico': 126938,\n",
       " 'plain': 127386,\n",
       " 'real': 133204,\n",
       " 'basic': 72039,\n",
       " 'fresh': 93242,\n",
       " 'large': 111812,\n",
       " 'any': 68986,\n",
       " 'pepper': 126016,\n",
       " 'dry': 86691,\n",
       " 'whatever': 157276,\n",
       " 'le': 112135,\n",
       " 'spicy': 142593,\n",
       " 'palatable': 124831,\n",
       " 'salt': 137041,\n",
       " 'cut': 82396,\n",
       " 'spice': 142583,\n",
       " 'chart': 77771,\n",
       " 'for': 92592,\n",
       " 'killy': 110603,\n",
       " 'giant': 94827,\n",
       " 'potato': 129646,\n",
       " 'chip': 78130,\n",
       " 'boil': 74071,\n",
       " 'blender': 73615,\n",
       " 'skin': 140699,\n",
       " 'else': 88178,\n",
       " 'chunk': 78414,\n",
       " 'painful': 124783,\n",
       " 'theres': 147877,\n",
       " 'chemical': 77933,\n",
       " 'reaction': 133157,\n",
       " 'taste': 146658,\n",
       " 'put': 131786,\n",
       " 'blend': 73613,\n",
       " 'whirl': 157435,\n",
       " 'disintegrate': 85397,\n",
       " 'stop': 143960,\n",
       " 'blending': 73618,\n",
       " 'soupy': 142171,\n",
       " 'chunky': 78415,\n",
       " 'drown': 86643,\n",
       " 'enjoy': 88663,\n",
       " 'hey': 98225,\n",
       " 'amber': 68039,\n",
       " 'life': 112784,\n",
       " 'w00t': 155852,\n",
       " 'thanks': 147502,\n",
       " 'uber1337': 150982,\n",
       " 'hax0r': 97538,\n",
       " 'copy': 80887,\n",
       " 'perhaps': 126133,\n",
       " 'background': 71442,\n",
       " 'misery': 117362,\n",
       " 'sin': 140341,\n",
       " 'human': 105027,\n",
       " 'perfect': 126093,\n",
       " 'exist': 89877,\n",
       " 'within': 158006,\n",
       " 'reality': 133222,\n",
       " 'believe': 72632,\n",
       " 'power': 129757,\n",
       " 'dormant': 86180,\n",
       " 'learning': 112208,\n",
       " 'to': 148867,\n",
       " 'observe': 122289,\n",
       " 'observation': 122283,\n",
       " 'discrepancy': 85286,\n",
       " 'consistency': 80427,\n",
       " 'uniqueness': 152692,\n",
       " 'sinful': 140368,\n",
       " '2004': 23687,\n",
       " 'guess': 96341,\n",
       " 'nickname': 120468,\n",
       " 'wow': 158482,\n",
       " 'sinful_misery': 140370,\n",
       " 'yeah': 159741,\n",
       " 'awhile': 70811,\n",
       " 'summer': 144993,\n",
       " 'great': 95919,\n",
       " 'closer': 78999,\n",
       " 'bonding': 74154,\n",
       " 'lot': 113857,\n",
       " 'pity': 127280,\n",
       " 'intend': 107775,\n",
       " 'promise': 130966,\n",
       " 'wood': 158206,\n",
       " 'sport': 142836,\n",
       " 'along': 67828,\n",
       " 'nicely': 120440,\n",
       " 'ann': 68633,\n",
       " 'arbor': 69414,\n",
       " 'change': 77635,\n",
       " 'pace': 124657,\n",
       " 'switch': 145717,\n",
       " 'network': 120229,\n",
       " 'prove': 131203,\n",
       " 'valuable': 154812,\n",
       " 'transfer': 149710,\n",
       " 'production': 130803,\n",
       " '5kbps': 48567,\n",
       " '42kbps': 41022,\n",
       " 'service': 139013,\n",
       " 'public': 131480,\n",
       " 'receive': 133400,\n",
       " 'invitation': 108245,\n",
       " 'account': 66298,\n",
       " 'luckily': 114111,\n",
       " 'gig': 94860,\n",
       " '1000': 4127,\n",
       " 'delete': 83954,\n",
       " 'message': 116593,\n",
       " 'awesome': 70793,\n",
       " 'searching': 138221,\n",
       " 'of': 122461,\n",
       " 'search': 138212,\n",
       " 'youve': 160200,\n",
       " 'simple': 140312,\n",
       " 'effective': 87830,\n",
       " 'instead': 107635,\n",
       " 'filter': 91673,\n",
       " 'hopefully': 98954,\n",
       " 'improve': 106460,\n",
       " 'report': 134432,\n",
       " 'single': 140389,\n",
       " 'crap': 81537,\n",
       " 'mail': 114902,\n",
       " 'reply': 134427,\n",
       " 'basis': 72052,\n",
       " 'normal': 121468,\n",
       " 'messy': 116608,\n",
       " 'super': 145118,\n",
       " 'convenient': 80707,\n",
       " 'very': 155172,\n",
       " 'text': 147407,\n",
       " 'relevant': 134142,\n",
       " 'hardly': 97302,\n",
       " 'notice': 121588,\n",
       " 'interfere': 107869,\n",
       " 'banner': 71812,\n",
       " 'system': 145936,\n",
       " 'primary': 130595,\n",
       " 'example': 89676,\n",
       " 'supply': 145285,\n",
       " 'demand': 84030,\n",
       " 'sometimes': 141911,\n",
       " 'invite': 108247,\n",
       " 'at': 70173,\n",
       " 'werent': 157146,\n",
       " 'pas': 125333,\n",
       " 'sell': 138574,\n",
       " '80': 56911,\n",
       " 'piece': 126972,\n",
       " 'rid': 135193,\n",
       " 'dime': 84977,\n",
       " 'rip': 135338,\n",
       " 'recently': 133407,\n",
       " 'policy': 127905,\n",
       " 'trade': 149595,\n",
       " 'profit': 130853,\n",
       " 'although': 67917,\n",
       " 'another': 68711,\n",
       " 'boring': 74356,\n",
       " 'news': 120313,\n",
       " 'article': 69782,\n",
       " 'decide': 83656,\n",
       " 'just': 109915,\n",
       " 'tonyr1988gmailcom': 149175,\n",
       " 'send': 138761,\n",
       " 'address': 66609,\n",
       " 'cool': 80796,\n",
       " 'frost': 93448,\n",
       " 'ash': 69895,\n",
       " 'insanity': 107495,\n",
       " 'eh': 87927,\n",
       " 'depress': 84249,\n",
       " 'ortho': 123338,\n",
       " 'surgery': 145367,\n",
       " 'brace': 74620,\n",
       " 'month': 117995,\n",
       " '27th': 30549,\n",
       " 'drove': 86640,\n",
       " 'matter': 115830,\n",
       " 'dad': 82824,\n",
       " 'beetle': 72503,\n",
       " 'ugh': 151018,\n",
       " 'old': 122685,\n",
       " 'care': 76747,\n",
       " 'image': 106067,\n",
       " '40something': 40179,\n",
       " 'agent': 67142,\n",
       " 'plane': 127407,\n",
       " 'olive': 122727,\n",
       " 'garden': 94272,\n",
       " 'lunch': 114198,\n",
       " 'target': 146587,\n",
       " 'navy': 119711,\n",
       " 'do': 85857,\n",
       " 'tonight': 149152,\n",
       " 'mall': 115075,\n",
       " 'may': 115903,\n",
       " 'ton': 149121,\n",
       " 'best': 72875,\n",
       " 'chronological': 78360,\n",
       " 'stuff': 144377,\n",
       " 'rehearsal': 133981,\n",
       " 'smooth': 141292,\n",
       " 'dinner': 85031,\n",
       " 'minute': 117248,\n",
       " 'somewhat': 141915,\n",
       " '3am': 38018,\n",
       " 'kindergarten': 110625,\n",
       " '19': 19953,\n",
       " 'loose': 113776,\n",
       " 'control': 80675,\n",
       " 'bladder': 73495,\n",
       " 'wake': 156336,\n",
       " 'scratch': 137964,\n",
       " 'lost': 113846,\n",
       " 'suitcase': 144915,\n",
       " 'mine': 117169,\n",
       " 'depressed': 84251,\n",
       " 'sometime': 141909,\n",
       " 'sleep': 140908,\n",
       " 'upset': 154122,\n",
       " 'fall': 90774,\n",
       " 'eventually': 89453,\n",
       " 'downstairs': 86327,\n",
       " 'surprise': 145385,\n",
       " '5ambut': 48158,\n",
       " 'amazingly': 68027,\n",
       " 'salon': 137033,\n",
       " 'hair': 96952,\n",
       " 'ya': 159607,\n",
       " 'wed': 156892,\n",
       " 'ceremony': 77437,\n",
       " 'fan': 90832,\n",
       " 'cam': 76356,\n",
       " 'amy': 68243,\n",
       " 'twice': 150727,\n",
       " 'communion': 79777,\n",
       " 'step': 143677,\n",
       " 'father': 91020,\n",
       " 'lovely': 113940,\n",
       " 'lim': 113023,\n",
       " 'however': 99240,\n",
       " 'handle': 97144,\n",
       " 'humor': 105084,\n",
       " 'reception': 133414,\n",
       " 'lake': 111621,\n",
       " 'heaven': 97784,\n",
       " 'earth': 87376,\n",
       " 'girl': 94930,\n",
       " 'cute': 82402,\n",
       " 'together': 149006,\n",
       " 'bedroom': 72451,\n",
       " 'play': 127487,\n",
       " 'room': 135835,\n",
       " 'aunt': 70528,\n",
       " 'show': 139873,\n",
       " 'hang': 97180,\n",
       " 'laid': 111609,\n",
       " 'sun': 145036,\n",
       " 'beach': 72267,\n",
       " 'brother': 75077,\n",
       " 'picnic': 126937,\n",
       " 'tutti': 150656,\n",
       " 'warehouse': 156484,\n",
       " '96': 63306,\n",
       " 'short': 139805,\n",
       " 'forever': 92722,\n",
       " 'blind': 73641,\n",
       " 'clearer': 78836,\n",
       " 'present': 130378,\n",
       " 'son': 141934,\n",
       " ...}"
      ]
     },
     "execution_count": 59,
     "metadata": {},
     "output_type": "execute_result"
    },
    {
     "name": "stdout",
     "output_type": "stream",
     "text": [
      "time: 36.6 ms (started: 2021-10-31 11:50:13 +00:00)\n"
     ]
    }
   ],
   "source": [
    "#What is there in the vocabulary\n",
    "cvect.vocabulary_"
   ]
  },
  {
   "cell_type": "code",
   "execution_count": null,
   "id": "f30dd228",
   "metadata": {
    "colab": {
     "base_uri": "https://localhost:8080/"
    },
    "id": "2tlVHVRjOPZQ",
    "outputId": "6a0c8b71-bfa5-43fd-cf08-a795708e8ee1"
   },
   "outputs": [
    {
     "name": "stdout",
     "output_type": "stream",
     "text": [
      "time: 48.8 s (started: 2021-10-31 11:50:13 +00:00)\n"
     ]
    }
   ],
   "source": [
    "#Convert Training SMS messages into Count Vectors\n",
    "X_train_ct = cvect.transform(blog_topic_train)"
   ]
  },
  {
   "cell_type": "code",
   "execution_count": null,
   "id": "31c82259",
   "metadata": {
    "colab": {
     "base_uri": "https://localhost:8080/"
    },
    "id": "3gQTE2AXOSQy",
    "outputId": "4caf5753-21c9-4c5b-88b3-47f28ab86a8b"
   },
   "outputs": [
    {
     "data": {
      "text/plain": [
       "(510963, 160634)"
      ]
     },
     "execution_count": 61,
     "metadata": {},
     "output_type": "execute_result"
    },
    {
     "name": "stdout",
     "output_type": "stream",
     "text": [
      "time: 7.35 ms (started: 2021-10-31 11:51:02 +00:00)\n"
     ]
    }
   ],
   "source": [
    "#Size of Document Term Matrix\n",
    "X_train_ct.shape"
   ]
  },
  {
   "cell_type": "code",
   "execution_count": null,
   "id": "9e2b424a",
   "metadata": {
    "colab": {
     "base_uri": "https://localhost:8080/"
    },
    "id": "Zz9hk5psOe6S",
    "outputId": "b8147f1c-4bdf-4023-e81c-b298c8056cf1"
   },
   "outputs": [
    {
     "name": "stdout",
     "output_type": "stream",
     "text": [
      "time: 16.6 s (started: 2021-10-31 11:51:02 +00:00)\n"
     ]
    }
   ],
   "source": [
    "X_test_ct = cvect.transform(blog_topic_test)"
   ]
  },
  {
   "cell_type": "code",
   "execution_count": null,
   "id": "acf2ca82",
   "metadata": {
    "colab": {
     "base_uri": "https://localhost:8080/",
     "height": 164
    },
    "id": "nKkuBST4KpWM",
    "outputId": "b085e2f3-7085-4835-fc72-c7a525b49f63"
   },
   "outputs": [
    {
     "data": {
      "application/vnd.google.colaboratory.intrinsic+json": {
       "type": "string"
      },
      "text/plain": [
       "\"             So I've been in Vancouver a few days now...in Coquitlam, actually.  It's really an interesting place; I used to think it was full of Chinese people (not that there's anything wrong with that, but Vancouver's #1 mother tongue is Mandarin/Cantonese, so you'd assume there'd be tons here).  Our area is up on a hill in a little bit of paradise, actually.  It has started to remind me of Newport in that show  urlLink The O.C.  (O.C. means Orange County).  Well, it isn't full of million dollar homes (but there are a few) but the topography is similar (hills, lots of parks, but no beach) and it's really, really white here.  I think the only Koreans I've seen have been family and Ensign Harry Kim on Star Trek: Voyager (ya, still have jetlag...watching anything that hits the screen here).  On that note, I think I'm having T.V. overload.  Well, with the kids I don't get to see too much of it, but when I do I'm boggled by the 60+ stations (and that's not even satellite!) and all, save one, of them are in ENGLISH!  Wow!  In Seoul I didn't even bother with cable so all I had was  urlLink AFN  (American Forces Network) (that guy on the homepage is their 6:30 newsanchor...the very reason I like to inline/rollerblade from 6-8PM).  Even if you have cable you only get like 2-3 other 'B' movie stations...nothing to write home about.  Truth be told, though, AFN has a pretty good lineup and I get to learn all about opsec (operational security) and that the U.S. Army in Korea is looking for E-4s and E-5s (enlisted ranks) to be MPs (Military Police).  So if you can handle the G.I. ads AFN is pretty cool.  Anyways, I didn't remember so many ads for weight-loss programs, get-rich-quick schemes and fantastic kitchen products, but there they were.  Of course in Korea most people are pretty fit and they know the best way to get rich is to marry rich or work hard--there are some ads there for kitchen and cleaning product, though, proving that some things truly are universal.  One ad that did throw me, though, was one for a 'male enhancement' pill.  What?!?!?  You take a pill for a bigger willi?  One version even had about 30 allusions to 'wood' throughout it.  I thought it was a spoof...maybe it was...it was on CNBC during  urlLink The Dennis Miller Show .   If anyone knows, please comment.  Ok, back to my time here.  We went down to the clubhouse to have a dip (ya, it's a little swanky...but the pool is outside, so it's not super-swanky) and there were some 18-something gals there sunning themselves and gabbing.  Man, this is NOT Seoul.  For one thing, no one actually tries to get a tan in Korea.  They wear Darth Vader-inspired visors to keep out all the rays they can and everyone is totally covered up.  Even when exercising Korean have pants, long-sleeves,  even suits .  Also, two of the three of them were 'plus size'.  They weighed like 2-3 TIMES that of a typical Korean gal.  (Not that that's a bad thing...it's just differences...please, no flames.)  Then you have to think...if they are 18 aren't they still in school?  By that I mean, they have not graduated from college.  An 18-year old Korean would be in the library or at a DVD bang, at least.  Most likely not at a pool (and I hear they're there everyday for hours on end)...what a different lifestyle.  Even after school is finished they'd be working or looking for a husband, or both.  Let's face it, many Koreans have little time to be idle (I must say, they do take time to drink and go to the sauna, though).  Maybe I'm becoming too Korean now, beating up these gals simply for having a little fun.  All I know is if they did that in Korea people might think they are  urlLink R.S.  (room salon, or places where men pay women to drink with them, sing with them and...uh...do other things) girls.  Maybe that's part of the Korean ideal.  Women should study and work and find a husband and if they are 'wasting' their time everyday then they must be of low moral fiber.  Hmmmm...there could be something to that.  Maybe it's part of the reason why so many Korean gals work their butts off (literally, Korean women are usually devoid of a derriere) and seem to push off their own pleasure in some Calvinist tradition.  Korean men seem to support this as it not only support the Confucius ideals that many Koreans follow but makes their place as symbolic leader of the home that much more solid (whether it is deserved or not, and we know that in many Korean homes a strong wife controls more than she advertises).         \""
      ]
     },
     "execution_count": 63,
     "metadata": {},
     "output_type": "execute_result"
    },
    {
     "name": "stdout",
     "output_type": "stream",
     "text": [
      "time: 685 ms (started: 2021-10-31 11:51:18 +00:00)\n"
     ]
    }
   ],
   "source": [
    "blog_df.iloc[19].text"
   ]
  },
  {
   "cell_type": "code",
   "execution_count": null,
   "id": "67d01f4d",
   "metadata": {
    "colab": {
     "base_uri": "https://localhost:8080/"
    },
    "id": "DIx7kkaJFyV4",
    "outputId": "1b5915fd-92c0-4a22-cf78-3717fe982ce9"
   },
   "outputs": [
    {
     "name": "stdout",
     "output_type": "stream",
     "text": [
      "  (0, 16662)\t1\n",
      "  (0, 30549)\t1\n",
      "  (0, 40179)\t1\n",
      "  (0, 67142)\t1\n",
      "  (0, 67876)\t1\n",
      "  (0, 68397)\t1\n",
      "  (0, 68711)\t1\n",
      "  (0, 71349)\t1\n",
      "  (0, 72503)\t1\n",
      "  (0, 74620)\t1\n",
      "  (0, 75631)\t2\n",
      "  (0, 76649)\t2\n",
      "  (0, 76747)\t1\n",
      "  (0, 79613)\t1\n",
      "  (0, 82824)\t1\n",
      "  (0, 83236)\t1\n",
      "  (0, 84249)\t1\n",
      "  (0, 84840)\t1\n",
      "  (0, 85857)\t1\n",
      "  (0, 85960)\t1\n",
      "  (0, 86128)\t2\n",
      "  (0, 86640)\t1\n",
      "  (0, 87927)\t1\n",
      "  (0, 89530)\t1\n",
      "  (0, 91749)\t1\n",
      "  :\t:\n",
      "  (0, 122727)\t1\n",
      "  (0, 123338)\t2\n",
      "  (0, 125988)\t2\n",
      "  (0, 127407)\t1\n",
      "  (0, 133237)\t1\n",
      "  (0, 135240)\t1\n",
      "  (0, 137454)\t4\n",
      "  (0, 144432)\t1\n",
      "  (0, 145367)\t2\n",
      "  (0, 146587)\t1\n",
      "  (0, 147737)\t1\n",
      "  (0, 147928)\t1\n",
      "  (0, 147939)\t1\n",
      "  (0, 147981)\t1\n",
      "  (0, 148159)\t1\n",
      "  (0, 148940)\t1\n",
      "  (0, 149103)\t1\n",
      "  (0, 149152)\t1\n",
      "  (0, 149849)\t1\n",
      "  (0, 151018)\t1\n",
      "  (0, 156435)\t2\n",
      "  (0, 156791)\t1\n",
      "  (0, 157050)\t1\n",
      "  (0, 159771)\t1\n",
      "  (0, 159949)\t1\n",
      "time: 9.89 ms (started: 2021-10-31 11:51:19 +00:00)\n"
     ]
    }
   ],
   "source": [
    "#What's there in sparse matrix\n",
    "print(X_train_ct[19])"
   ]
  },
  {
   "cell_type": "code",
   "execution_count": null,
   "id": "a18b1a7b",
   "metadata": {
    "colab": {
     "base_uri": "https://localhost:8080/"
    },
    "id": "WX8XRm9oOhvO",
    "outputId": "9febb0ff-3756-4c1e-b3f5-ccc61f2f917f"
   },
   "outputs": [
    {
     "data": {
      "text/plain": [
       "(170321, 160634)"
      ]
     },
     "execution_count": 65,
     "metadata": {},
     "output_type": "execute_result"
    },
    {
     "name": "stdout",
     "output_type": "stream",
     "text": [
      "time: 7.01 ms (started: 2021-10-31 11:51:19 +00:00)\n"
     ]
    }
   ],
   "source": [
    "X_test_ct.shape"
   ]
  },
  {
   "cell_type": "markdown",
   "id": "0e494a5e",
   "metadata": {
    "id": "Xvwbdk3mMOwe"
   },
   "source": [
    "  Design, train, tune and test the best text classifier for Approach #1"
   ]
  },
  {
   "cell_type": "code",
   "execution_count": null,
   "id": "dac33d8a",
   "metadata": {
    "colab": {
     "base_uri": "https://localhost:8080/"
    },
    "id": "PBc9fgzIOi7k",
    "outputId": "1ac27aaf-f8df-498c-fe5a-b4227add11fb"
   },
   "outputs": [
    {
     "name": "stdout",
     "output_type": "stream",
     "text": [
      "time: 60.3 ms (started: 2021-10-31 13:03:33 +00:00)\n"
     ]
    }
   ],
   "source": [
    "from sklearn.neighbors import KNeighborsClassifier"
   ]
  },
  {
   "cell_type": "code",
   "execution_count": null,
   "id": "3ae9dad6",
   "metadata": {
    "colab": {
     "base_uri": "https://localhost:8080/"
    },
    "id": "6v2cs1LmOkYT",
    "outputId": "3cc1a935-feba-40d1-899f-524e10cfc0bb"
   },
   "outputs": [
    {
     "data": {
      "text/plain": [
       "KNeighborsClassifier(algorithm='auto', leaf_size=30, metric='minkowski',\n",
       "                     metric_params=None, n_jobs=None, n_neighbors=5, p=2,\n",
       "                     weights='uniform')"
      ]
     },
     "execution_count": 46,
     "metadata": {},
     "output_type": "execute_result"
    },
    {
     "name": "stdout",
     "output_type": "stream",
     "text": [
      "time: 320 ms (started: 2021-10-31 13:03:33 +00:00)\n"
     ]
    }
   ],
   "source": [
    "# instantiate the model (with the default parameters)\n",
    "knn = KNeighborsClassifier()\n",
    "\n",
    "# fit the model with data (occurs in-place)\n",
    "knn.fit(X_train_ct, y_topic_train)"
   ]
  },
  {
   "cell_type": "code",
   "execution_count": null,
   "id": "fe3a48ec",
   "metadata": {
    "colab": {
     "base_uri": "https://localhost:8080/"
    },
    "id": "CW13vL3lOx7a",
    "outputId": "7ed26f50-7fba-4728-e743-63558491d287"
   },
   "outputs": [
    {
     "name": "stdout",
     "output_type": "stream",
     "text": [
      "KNN Train Accuracy 0.4512\n",
      "KNN Test Accuracy 0.2472\n",
      "time: 18.2 s (started: 2021-10-31 13:03:34 +00:00)\n"
     ]
    }
   ],
   "source": [
    "from sklearn import metrics\n",
    "### Calculate accuracy on Training Dataset\n",
    "print(\"KNN Train Accuracy\", metrics.accuracy_score(y_topic_train, knn.predict(X_train_ct)))\n",
    "#Calculate accuracy on Test Dataset\n",
    "prediction_knn = knn.predict(X_test_ct)\n",
    "print(\"KNN Test Accuracy\", metrics.accuracy_score(y_topic_test, prediction_knn))"
   ]
  },
  {
   "cell_type": "code",
   "execution_count": null,
   "id": "a6e1d47f",
   "metadata": {
    "colab": {
     "base_uri": "https://localhost:8080/"
    },
    "id": "y0BFnVrHHUSj",
    "outputId": "88b0eb20-0aaa-4f83-d484-108c5c69698a"
   },
   "outputs": [
    {
     "name": "stdout",
     "output_type": "stream",
     "text": [
      "                         precision    recall  f1-score   support\n",
      "\n",
      "                Student       0.00      0.00      0.00        11\n",
      "      InvestmentBanking       0.15      0.18      0.17        11\n",
      "                 indUnk       0.02      0.29      0.05        14\n",
      "             Non-Profit       0.00      0.00      0.00        17\n",
      "                Banking       0.05      0.02      0.03        89\n",
      "              Education       0.25      0.04      0.07        25\n",
      "            Engineering       0.00      0.00      0.00        18\n",
      "                Science       0.00      0.00      0.00        11\n",
      "   Communications-Media       0.12      0.07      0.09        41\n",
      "       BusinessServices       0.07      0.40      0.12       108\n",
      "      Sports-Recreation       0.00      0.00      0.00         8\n",
      "                   Arts       0.00      0.00      0.00        34\n",
      "               Internet       0.27      0.07      0.11       212\n",
      "      Museums-Libraries       0.04      0.01      0.02        86\n",
      "             Accounting       0.16      0.10      0.13       386\n",
      "             Technology       0.00      0.00      0.00        41\n",
      "                    Law       0.00      0.00      0.00         4\n",
      "             Consulting       0.09      0.10      0.09       213\n",
      "             Automotive       0.00      0.00      0.00        19\n",
      "               Religion       0.00      0.00      0.00        15\n",
      "                Fashion       0.08      0.04      0.05        28\n",
      "             Publishing       0.00      0.00      0.00        25\n",
      "              Marketing       0.25      0.02      0.04        41\n",
      "LawEnforcement-Security       0.00      0.00      0.00         4\n",
      "         HumanResources       0.00      0.00      0.00        15\n",
      "     Telecommunications       1.00      0.02      0.03        60\n",
      "               Military       0.00      0.00      0.00        11\n",
      "             Government       0.00      0.00      0.00         1\n",
      "         Transportation       0.29      0.10      0.15        41\n",
      "           Architecture       0.50      0.05      0.08        22\n",
      "            Advertising       0.67      0.06      0.11        32\n",
      "            Agriculture       0.22      0.16      0.19       658\n",
      "                Biotech       0.21      0.35      0.26       747\n",
      "             RealEstate       0.00      0.00      0.00         3\n",
      "          Manufacturing       0.00      0.00      0.00        12\n",
      "           Construction       0.43      0.37      0.40      1937\n",
      "\n",
      "               accuracy                           0.25      5000\n",
      "              macro avg       0.13      0.07      0.06      5000\n",
      "           weighted avg       0.28      0.25      0.25      5000\n",
      "\n",
      "time: 816 ms (started: 2021-10-31 13:03:52 +00:00)\n"
     ]
    },
    {
     "name": "stderr",
     "output_type": "stream",
     "text": [
      "UndefinedMetricWarning: Precision and F-score are ill-defined and being set to 0.0 in labels with no predicted samples. Use `zero_division` parameter to control this behavior.\n"
     ]
    }
   ],
   "source": [
    "from sklearn.metrics import classification_report\n",
    "import seaborn as sns\n",
    "import matplotlib.pyplot as plt\n",
    "\n",
    "target_names = blog_df['topic'].unique()\n",
    "cm = classification_report(y_topic_test, prediction_knn, target_names=target_names)\n",
    "print(cm)"
   ]
  },
  {
   "cell_type": "markdown",
   "id": "e4dea93a",
   "metadata": {
    "id": "FBFOa8imIjlz"
   },
   "source": [
    "  As we can see in above result, the accuracy which signifies ratio of correctly predicted observation to the total observations is at good score for single label prediction. Here we have considered topic label which is having many classes and when compared this label with text column there are more corellation between the words in the text column and the topic label and this could be one of the reason for getting good accuracy score. Precision is the ratio of correctly predicted positive observations to the total predicted positive observations, When we observe the same for Law topic it is showing high score and we can relate to this since there will be unique words which are related to law and hence the topic will be marked approriately. For this use case precision is important and should be observed closely. "
   ]
  },
  {
   "cell_type": "markdown",
   "id": "5bc315fd",
   "metadata": {
    "id": "tSyT5_iwKV5c"
   },
   "source": [
    "  Lets run the SVC on same data and check the scores"
   ]
  },
  {
   "cell_type": "code",
   "execution_count": null,
   "id": "360aef77",
   "metadata": {
    "colab": {
     "base_uri": "https://localhost:8080/"
    },
    "id": "EXUNkX6XO25j",
    "outputId": "cccab5ba-41fe-47fc-c947-5a6f353ddbbd"
   },
   "outputs": [
    {
     "name": "stdout",
     "output_type": "stream",
     "text": [
      " Accuracy on Training Dataset  0.5366\n",
      " Accuracy on Test Dataset  0.41\n",
      "time: 7min 51s (started: 2021-10-31 13:03:53 +00:00)\n"
     ]
    }
   ],
   "source": [
    "from sklearn.svm import SVC\n",
    "####Train an SVM with default parameters\n",
    "svc = SVC()\n",
    "svc.fit(X_train_ct, y_topic_train)\n",
    "### Calculate accuracy on Training Dataset\n",
    "print(\" Accuracy on Training Dataset \" , metrics.accuracy_score(y_topic_train, svc.predict(X_train_ct)))\n",
    "####Calculate accuracy on Test Dataset\n",
    "prediction = svc.predict(X_test_ct)\n",
    "print(\" Accuracy on Test Dataset \", metrics.accuracy_score(y_topic_test, prediction))"
   ]
  },
  {
   "cell_type": "code",
   "execution_count": null,
   "id": "6f6d97a5",
   "metadata": {
    "colab": {
     "base_uri": "https://localhost:8080/"
    },
    "id": "X38BIiBb9xmp",
    "outputId": "ba730376-2239-4749-edb9-f133d167ffc1"
   },
   "outputs": [
    {
     "name": "stdout",
     "output_type": "stream",
     "text": [
      "                         precision    recall  f1-score   support\n",
      "\n",
      "                Student       0.00      0.00      0.00        11\n",
      "      InvestmentBanking       0.00      0.00      0.00        11\n",
      "                 indUnk       0.00      0.00      0.00        14\n",
      "             Non-Profit       0.00      0.00      0.00        17\n",
      "                Banking       0.00      0.00      0.00        89\n",
      "              Education       1.00      0.12      0.21        25\n",
      "            Engineering       0.00      0.00      0.00        18\n",
      "                Science       0.00      0.00      0.00        11\n",
      "   Communications-Media       1.00      0.02      0.05        41\n",
      "       BusinessServices       0.00      0.00      0.00       108\n",
      "      Sports-Recreation       0.00      0.00      0.00         8\n",
      "                   Arts       0.00      0.00      0.00        34\n",
      "               Internet       1.00      0.02      0.04       212\n",
      "      Museums-Libraries       0.00      0.00      0.00        86\n",
      "             Accounting       0.94      0.12      0.21       386\n",
      "             Technology       0.00      0.00      0.00        41\n",
      "                    Law       0.00      0.00      0.00         4\n",
      "             Consulting       0.00      0.00      0.00       213\n",
      "             Automotive       0.00      0.00      0.00        19\n",
      "               Religion       0.00      0.00      0.00        15\n",
      "                Fashion       0.00      0.00      0.00        28\n",
      "             Publishing       0.00      0.00      0.00        25\n",
      "              Marketing       1.00      0.12      0.22        41\n",
      "LawEnforcement-Security       0.00      0.00      0.00         4\n",
      "         HumanResources       0.00      0.00      0.00        15\n",
      "     Telecommunications       0.00      0.00      0.00        60\n",
      "               Military       0.00      0.00      0.00        11\n",
      "             Government       0.00      0.00      0.00         1\n",
      "         Transportation       0.00      0.00      0.00        41\n",
      "           Architecture       0.00      0.00      0.00        22\n",
      "            Advertising       1.00      0.03      0.06        32\n",
      "            Agriculture       0.88      0.03      0.07       658\n",
      "                Biotech       0.88      0.05      0.09       747\n",
      "             RealEstate       0.00      0.00      0.00         3\n",
      "          Manufacturing       0.00      0.00      0.00        12\n",
      "           Construction       0.40      1.00      0.57      1937\n",
      "\n",
      "               accuracy                           0.41      5000\n",
      "              macro avg       0.22      0.04      0.04      5000\n",
      "           weighted avg       0.54      0.41      0.26      5000\n",
      "\n",
      "time: 477 ms (started: 2021-10-31 13:11:44 +00:00)\n"
     ]
    },
    {
     "name": "stderr",
     "output_type": "stream",
     "text": [
      "UndefinedMetricWarning: Precision and F-score are ill-defined and being set to 0.0 in labels with no predicted samples. Use `zero_division` parameter to control this behavior.\n"
     ]
    }
   ],
   "source": [
    "print(classification_report(y_topic_test, prediction, target_names=target_names))"
   ]
  },
  {
   "cell_type": "markdown",
   "id": "352530e3",
   "metadata": {
    "id": "nWL-YZYDKry-"
   },
   "source": [
    "  The score given by accuracy is better than knn and we can observe good results in the precision for many labels like Communications-Media, Law. Using SVC for single label classification seems provide more precise result."
   ]
  },
  {
   "cell_type": "code",
   "execution_count": null,
   "id": "3910c55e",
   "metadata": {},
   "outputs": [],
   "source": []
  },
  {
   "cell_type": "code",
   "execution_count": null,
   "id": "9145cf93",
   "metadata": {},
   "outputs": [],
   "source": []
  },
  {
   "cell_type": "markdown",
   "id": "47331e9d",
   "metadata": {
    "id": "hsx8QQL6MhIy"
   },
   "source": [
    "  TF-IDF vectorization technique will be implemented in below cells. Again, we are applying alogorithm on text against single label. This is approach #1 but with TFIDF"
   ]
  },
  {
   "cell_type": "code",
   "execution_count": null,
   "id": "fd018b87",
   "metadata": {
    "colab": {
     "base_uri": "https://localhost:8080/"
    },
    "id": "yUNNFbky9xqA",
    "outputId": "e310fce4-78f6-4759-ce14-3ef9eaf9210c"
   },
   "outputs": [
    {
     "name": "stdout",
     "output_type": "stream",
     "text": [
      "time: 14.6 s (started: 2021-10-31 11:37:17 +00:00)\n"
     ]
    }
   ],
   "source": [
    "train, test = train_test_split(blog_df, random_state=2, test_size=0.33, shuffle=True)"
   ]
  },
  {
   "cell_type": "code",
   "execution_count": null,
   "id": "03137823",
   "metadata": {
    "colab": {
     "base_uri": "https://localhost:8080/"
    },
    "id": "eFCFueQzNRQp",
    "outputId": "e579977b-81d0-4a06-d8a4-3034f4344489"
   },
   "outputs": [
    {
     "name": "stdout",
     "output_type": "stream",
     "text": [
      "(456460,)\n",
      "(224824,)\n",
      "time: 37.7 ms (started: 2021-10-31 11:37:32 +00:00)\n"
     ]
    }
   ],
   "source": [
    "X_train = train.text\n",
    "X_test = test.text\n",
    "print(X_train.shape)\n",
    "print(X_test.shape)"
   ]
  },
  {
   "cell_type": "code",
   "execution_count": null,
   "id": "53a476e8",
   "metadata": {
    "colab": {
     "base_uri": "https://localhost:8080/"
    },
    "id": "LFA5Txe29xtC",
    "outputId": "59db892c-d7c0-44db-e557-2ffdf9803dc4"
   },
   "outputs": [
    {
     "name": "stdout",
     "output_type": "stream",
     "text": [
      "time: 16.7 ms (started: 2021-10-31 11:37:32 +00:00)\n"
     ]
    }
   ],
   "source": [
    "import nltk\n",
    "from sklearn.pipeline import Pipeline\n",
    "from sklearn.feature_extraction.text import TfidfVectorizer\n",
    "from sklearn.multiclass import OneVsRestClassifier\n",
    "from sklearn.naive_bayes import MultinomialNB\n",
    "from sklearn.metrics import accuracy_score\n",
    "from sklearn.metrics import classification_report\n",
    "from sklearn.svm import LinearSVC\n",
    "from sklearn.linear_model import LogisticRegression"
   ]
  },
  {
   "cell_type": "code",
   "execution_count": null,
   "id": "98be7a03",
   "metadata": {
    "colab": {
     "base_uri": "https://localhost:8080/"
    },
    "id": "QVt0pzwSNxn8",
    "outputId": "d42ab6ca-3b03-4dee-86b7-f6492ca0a981"
   },
   "outputs": [
    {
     "name": "stdout",
     "output_type": "stream",
     "text": [
      "time: 1.93 ms (started: 2021-10-31 11:37:32 +00:00)\n"
     ]
    }
   ],
   "source": [
    "def trim(s):\n",
    "    if(s != 'age'):\n",
    "      clm_name = s[ : -3]\n",
    "    else:\n",
    "      clm_name = 'age'\n",
    "    return  clm_name "
   ]
  },
  {
   "cell_type": "code",
   "execution_count": null,
   "id": "ff4957b9",
   "metadata": {
    "colab": {
     "base_uri": "https://localhost:8080/"
    },
    "id": "RzT5nliIOSgK",
    "outputId": "1b8400b4-0c26-47d0-e2c2-d0787c7e4ea8"
   },
   "outputs": [
    {
     "name": "stdout",
     "output_type": "stream",
     "text": [
      "[nltk_data] Downloading package stopwords to /root/nltk_data...\n",
      "[nltk_data]   Package stopwords is already up-to-date!\n",
      "... Processing gender_le\n",
      "Test accuracy is 0.6884273920933708\n",
      "              precision    recall  f1-score   support\n",
      "\n",
      "        male       0.66      0.75      0.70    110795\n",
      "      female       0.72      0.63      0.67    114029\n",
      "\n",
      "    accuracy                           0.69    224824\n",
      "   macro avg       0.69      0.69      0.69    224824\n",
      "weighted avg       0.69      0.69      0.69    224824\n",
      "\n",
      "\n",
      "\n",
      "\n",
      "... Processing sign_le\n",
      "Test accuracy is 0.23025566665480554\n",
      "              precision    recall  f1-score   support\n",
      "\n",
      "         Leo       0.72      0.08      0.14     16428\n",
      "    Aquarius       0.22      0.43      0.29     21441\n",
      "       Aries       0.15      0.62      0.24     21571\n",
      "   Capricorn       0.68      0.04      0.07     16257\n",
      "      Gemini       0.65      0.07      0.12     17121\n",
      "      Cancer       0.57      0.08      0.15     17684\n",
      " Sagittarius       0.23      0.33      0.27     20692\n",
      "     Scorpio       0.59      0.11      0.19     17947\n",
      "       Libra       0.71      0.07      0.12     16452\n",
      "       Virgo       0.50      0.15      0.23     18735\n",
      "      Taurus       0.26      0.30      0.28     20720\n",
      "      Pisces       0.26      0.29      0.27     19776\n",
      "\n",
      "    accuracy                           0.23    224824\n",
      "   macro avg       0.46      0.21      0.20    224824\n",
      "weighted avg       0.44      0.23      0.20    224824\n",
      "\n",
      "\n",
      "\n",
      "\n",
      "... Processing topic_le\n",
      "Test accuracy is 0.3941838949578337\n"
     ]
    },
    {
     "name": "stderr",
     "output_type": "stream",
     "text": [
      "UndefinedMetricWarning: Precision and F-score are ill-defined and being set to 0.0 in labels with no predicted samples. Use `zero_division` parameter to control this behavior.\n"
     ]
    },
    {
     "name": "stdout",
     "output_type": "stream",
     "text": [
      "                         precision    recall  f1-score   support\n",
      "\n",
      "                Student       0.00      0.00      0.00      1252\n",
      "      InvestmentBanking       0.91      0.01      0.01      1547\n",
      "                 indUnk       0.00      0.00      0.00       403\n",
      "             Non-Profit       0.00      0.00      0.00       555\n",
      "                Banking       0.69      0.00      0.00     10658\n",
      "              Education       0.00      0.00      0.00       419\n",
      "            Engineering       0.00      0.00      0.00      1366\n",
      "                Science       0.00      0.00      0.00       737\n",
      "   Communications-Media       0.00      0.00      0.00      1481\n",
      "       BusinessServices       0.00      0.00      0.00      1348\n",
      "      Sports-Recreation       0.97      0.00      0.01      6667\n",
      "                   Arts       0.00      0.00      0.00       373\n",
      "               Internet       0.00      0.00      0.00      1962\n",
      "      Museums-Libraries       0.65      0.01      0.01      9853\n",
      "             Accounting       0.89      0.00      0.00      3836\n",
      "             Technology       0.00      0.00      0.00       177\n",
      "                    Law       1.00      0.00      0.00      1653\n",
      "             Consulting       0.85      0.01      0.01      2259\n",
      "             Automotive       0.00      0.00      0.00      1030\n",
      "               Religion       0.79      0.00      0.00      5244\n",
      "                Fashion       0.00      0.00      0.00       439\n",
      "             Publishing       1.00      0.00      0.00      2933\n",
      "              Marketing       0.00      0.00      0.00       619\n",
      "LawEnforcement-Security       0.00      0.00      0.00       745\n",
      "         HumanResources       0.00      0.00      0.00        98\n",
      "     Telecommunications       0.00      0.00      0.00      1525\n",
      "               Military       0.00      0.00      0.00      1010\n",
      "             Government       0.00      0.00      0.00      1033\n",
      "         Transportation       0.88      0.00      0.01      4841\n",
      "           Architecture       1.00      0.00      0.00      2552\n",
      "            Advertising       0.00      0.00      0.00       969\n",
      "            Agriculture       0.00      0.00      0.00      1733\n",
      "                Biotech       0.56      0.01      0.01      2319\n",
      "             RealEstate       0.00      0.00      0.00       985\n",
      "          Manufacturing       0.62      0.16      0.25     50694\n",
      "           Construction       0.74      0.01      0.03     13938\n",
      "              Chemicals       0.00      0.00      0.00      1277\n",
      "               Maritime       0.00      0.00      0.00       655\n",
      "                Tourism       0.00      0.00      0.00       754\n",
      "            Environment       0.38      0.97      0.55     82885\n",
      "\n",
      "               accuracy                           0.39    224824\n",
      "              macro avg       0.30      0.03      0.02    224824\n",
      "           weighted avg       0.52      0.39      0.26    224824\n",
      "\n",
      "\n",
      "\n",
      "\n",
      "... Processing age\n",
      "Test accuracy is 0.23858217983845142\n"
     ]
    },
    {
     "name": "stderr",
     "output_type": "stream",
     "text": [
      "UndefinedMetricWarning: Precision and F-score are ill-defined and being set to 0.0 in labels with no predicted samples. Use `zero_division` parameter to control this behavior.\n"
     ]
    },
    {
     "name": "stdout",
     "output_type": "stream",
     "text": [
      "              precision    recall  f1-score   support\n",
      "\n",
      "          15       0.92      0.01      0.01      4341\n",
      "          33       0.90      0.04      0.08      8969\n",
      "          14       0.84      0.03      0.06     13931\n",
      "          25       0.49      0.24      0.32     24046\n",
      "          17       0.25      0.73      0.37     26683\n",
      "          23       0.41      0.16      0.23     24171\n",
      "          37       0.16      0.73      0.27     26164\n",
      "          26       0.49      0.09      0.16     22199\n",
      "          24       0.73      0.06      0.11     18195\n",
      "          27       0.70      0.03      0.06     15084\n",
      "          45       1.00      0.00      0.00      5855\n",
      "          34       0.99      0.03      0.07      7161\n",
      "          41       0.95      0.02      0.03      5801\n",
      "          44       1.00      0.00      0.01      4712\n",
      "          16       1.00      0.01      0.02      3076\n",
      "          39       1.00      0.01      0.02      2466\n",
      "          35       0.00      0.00      0.00      1840\n",
      "          36       1.00      0.18      0.31      1660\n",
      "          46       0.00      0.00      0.00      1278\n",
      "          42       0.00      0.00      0.00       939\n",
      "          13       0.00      0.00      0.00      1358\n",
      "          38       0.00      0.00      0.00       688\n",
      "          43       0.00      0.00      0.00      1446\n",
      "          40       0.00      0.00      0.00       869\n",
      "          47       0.00      0.00      0.00       736\n",
      "          48       0.00      0.00      0.00      1156\n",
      "\n",
      "    accuracy                           0.24    224824\n",
      "   macro avg       0.49      0.09      0.08    224824\n",
      "weighted avg       0.54      0.24      0.18    224824\n",
      "\n",
      "\n",
      "\n",
      "\n",
      "time: 9min 40s (started: 2021-10-31 11:37:32 +00:00)\n"
     ]
    }
   ],
   "source": [
    "nltk.download('stopwords')\n",
    "stop_words = set(stopwords.words('english'))\n",
    "# Define a pipeline combining a text feature extractor with multi lable classifier\n",
    "NB_pipeline = Pipeline([\n",
    "                ('tfidf', TfidfVectorizer(stop_words=stop_words)),\n",
    "                ('clf', OneVsRestClassifier(MultinomialNB(\n",
    "                    fit_prior=True, class_prior=None), n_jobs = -1)),\n",
    "            ])\n",
    "    \n",
    "categories = ['gender_le', 'sign_le' , 'topic_le',  'age']\n",
    "for category in categories:\n",
    "    print('... Processing {}'.format(category))\n",
    "    # train the model using X_dtm & y\n",
    "    NB_pipeline.fit(X_train, train[category])\n",
    "    # compute the testing accuracy\n",
    "    prediction_C_NB_OVR = NB_pipeline.predict(X_test)\n",
    "    print('Test accuracy is {}'.format(accuracy_score(test[category], prediction_C_NB_OVR)))\n",
    "    target_names = [str(names) for names in blog_df[trim(category)].unique()] \n",
    "    cm = classification_report(test[category], prediction_C_NB_OVR, target_names=target_names)\n",
    "    print(cm)\n",
    "    print(\"\\n\\n\")"
   ]
  },
  {
   "cell_type": "markdown",
   "id": "88d63ba8",
   "metadata": {},
   "source": [
    "    When we look at classification report for individual labels we observe that the model has some room for improvement. Although it is having good precision score compared to recall, but the score are not in acceptable range. A system with high recall but low precision returns many results, but most of its predicted labels are incorrect when compared to the training labels. A system with high precision but low recall is just the opposite, returning very few results, but most of its predicted labels are correct when compared to the training labels. An ideal system with high precision and high recall will return many results, with all results labeled correctly."
   ]
  },
  {
   "cell_type": "code",
   "execution_count": null,
   "id": "9f01aa42",
   "metadata": {
    "colab": {
     "base_uri": "https://localhost:8080/"
    },
    "id": "xONzWMRHbtMr",
    "outputId": "5d4e1233-9465-4565-f414-a322905dc835"
   },
   "outputs": [
    {
     "name": "stdout",
     "output_type": "stream",
     "text": [
      "... Processing gender_le\n",
      "Test accuracy is 0.7162180194285308\n",
      "              precision    recall  f1-score   support\n",
      "\n",
      "        male       0.72      0.70      0.71    110795\n",
      "      female       0.72      0.73      0.72    114029\n",
      "\n",
      "    accuracy                           0.72    224824\n",
      "   macro avg       0.72      0.72      0.72    224824\n",
      "weighted avg       0.72      0.72      0.72    224824\n",
      "\n",
      "\n",
      "\n",
      "\n",
      "... Processing sign_le\n",
      "Test accuracy is 0.28734031953883926\n",
      "              precision    recall  f1-score   support\n",
      "\n",
      "         Leo       0.31      0.28      0.29     16428\n",
      "    Aquarius       0.29      0.35      0.31     21441\n",
      "       Aries       0.30      0.31      0.31     21571\n",
      "   Capricorn       0.27      0.24      0.26     16257\n",
      "      Gemini       0.28      0.27      0.28     17121\n",
      "      Cancer       0.28      0.27      0.28     17684\n",
      " Sagittarius       0.27      0.29      0.28     20692\n",
      "     Scorpio       0.31      0.29      0.30     17947\n",
      "       Libra       0.30      0.25      0.27     16452\n",
      "       Virgo       0.28      0.28      0.28     18735\n",
      "      Taurus       0.28      0.30      0.29     20720\n",
      "      Pisces       0.28      0.29      0.29     19776\n",
      "\n",
      "    accuracy                           0.29    224824\n",
      "   macro avg       0.29      0.29      0.29    224824\n",
      "weighted avg       0.29      0.29      0.29    224824\n",
      "\n",
      "\n",
      "\n",
      "\n",
      "... Processing topic_le\n",
      "Test accuracy is 0.46132530334839694\n",
      "                         precision    recall  f1-score   support\n",
      "\n",
      "                Student       0.40      0.16      0.23      1252\n",
      "      InvestmentBanking       0.57      0.14      0.22      1547\n",
      "                 indUnk       0.66      0.11      0.19       403\n",
      "             Non-Profit       0.39      0.08      0.13       555\n",
      "                Banking       0.45      0.20      0.28     10658\n",
      "              Education       0.24      0.03      0.05       419\n",
      "            Engineering       0.46      0.12      0.19      1366\n",
      "                Science       0.46      0.15      0.23       737\n",
      "   Communications-Media       0.68      0.18      0.29      1481\n",
      "       BusinessServices       0.32      0.07      0.12      1348\n",
      "      Sports-Recreation       0.42      0.15      0.22      6667\n",
      "                   Arts       0.64      0.12      0.20       373\n",
      "               Internet       0.48      0.10      0.16      1962\n",
      "      Museums-Libraries       0.49      0.21      0.29      9853\n",
      "             Accounting       0.51      0.18      0.27      3836\n",
      "             Technology       0.10      0.05      0.07       177\n",
      "                    Law       0.76      0.33      0.46      1653\n",
      "             Consulting       0.62      0.15      0.25      2259\n",
      "             Automotive       0.39      0.09      0.14      1030\n",
      "               Religion       0.47      0.16      0.24      5244\n",
      "                Fashion       0.69      0.09      0.15       439\n",
      "             Publishing       0.47      0.19      0.27      2933\n",
      "              Marketing       0.71      0.19      0.30       619\n",
      "LawEnforcement-Security       0.65      0.12      0.21       745\n",
      "         HumanResources       0.09      0.01      0.02        98\n",
      "     Telecommunications       0.28      0.08      0.12      1525\n",
      "               Military       0.58      0.13      0.22      1010\n",
      "             Government       0.41      0.16      0.23      1033\n",
      "         Transportation       0.39      0.13      0.20      4841\n",
      "           Architecture       0.60      0.24      0.35      2552\n",
      "            Advertising       0.55      0.18      0.28       969\n",
      "            Agriculture       0.50      0.16      0.24      1733\n",
      "                Biotech       0.34      0.10      0.16      2319\n",
      "             RealEstate       0.62      0.13      0.22       985\n",
      "          Manufacturing       0.46      0.52      0.49     50694\n",
      "           Construction       0.42      0.26      0.32     13938\n",
      "              Chemicals       0.60      0.18      0.28      1277\n",
      "               Maritime       0.65      0.23      0.34       655\n",
      "                Tourism       0.82      0.22      0.35       754\n",
      "            Environment       0.46      0.74      0.57     82885\n",
      "\n",
      "               accuracy                           0.46    224824\n",
      "              macro avg       0.50      0.17      0.24    224824\n",
      "           weighted avg       0.47      0.46      0.42    224824\n",
      "\n",
      "\n",
      "\n",
      "\n",
      "... Processing age\n",
      "Test accuracy is 0.3622389068782692\n",
      "              precision    recall  f1-score   support\n",
      "\n",
      "          15       0.52      0.33      0.40      4341\n",
      "          33       0.46      0.36      0.40      8969\n",
      "          14       0.43      0.38      0.40     13931\n",
      "          25       0.41      0.46      0.43     24046\n",
      "          17       0.41      0.51      0.45     26683\n",
      "          23       0.32      0.37      0.34     24171\n",
      "          37       0.30      0.37      0.33     26164\n",
      "          26       0.32      0.35      0.33     22199\n",
      "          24       0.32      0.31      0.31     18195\n",
      "          27       0.30      0.27      0.29     15084\n",
      "          45       0.38      0.23      0.29      5855\n",
      "          34       0.43      0.37      0.40      7161\n",
      "          41       0.36      0.25      0.30      5801\n",
      "          44       0.38      0.25      0.30      4712\n",
      "          16       0.43      0.26      0.32      3076\n",
      "          39       0.39      0.20      0.27      2466\n",
      "          35       0.35      0.16      0.22      1840\n",
      "          36       0.61      0.35      0.45      1660\n",
      "          46       0.46      0.20      0.28      1278\n",
      "          42       0.35      0.19      0.24       939\n",
      "          13       0.46      0.25      0.33      1358\n",
      "          38       0.50      0.23      0.31       688\n",
      "          43       0.43      0.25      0.32      1446\n",
      "          40       0.30      0.20      0.24       869\n",
      "          47       0.63      0.32      0.42       736\n",
      "          48       0.59      0.41      0.48      1156\n",
      "\n",
      "    accuracy                           0.36    224824\n",
      "   macro avg       0.42      0.30      0.34    224824\n",
      "weighted avg       0.37      0.36      0.36    224824\n",
      "\n",
      "\n",
      "\n",
      "\n",
      "time: 16min 6s (started: 2021-10-31 11:47:12 +00:00)\n"
     ]
    }
   ],
   "source": [
    "SVC_pipeline = Pipeline([\n",
    "                ('tfidf', TfidfVectorizer(stop_words=stop_words)),\n",
    "                ('clf', OneVsRestClassifier(LinearSVC(), n_jobs=-1)),\n",
    "            ])\n",
    "\n",
    "for category in categories:\n",
    "    print('... Processing {}'.format(category))\n",
    "    # train the model using X_dtm & y\n",
    "    SVC_pipeline.fit(X_train, train[category])\n",
    "    # compute the testing accuracy\n",
    "    prediction_C_SVC_OVR = SVC_pipeline.predict(X_test)\n",
    "    print('Test accuracy is {}'.format(accuracy_score(test[category], prediction_C_SVC_OVR)))\n",
    "    target_names = [str(names) for names in blog_df[trim(category)].unique()] \n",
    "    cm = classification_report(test[category], prediction_C_SVC_OVR, target_names=target_names)\n",
    "    print(cm)\n",
    "    print(\"\\n\\n\")"
   ]
  },
  {
   "cell_type": "markdown",
   "id": "10b96187",
   "metadata": {},
   "source": [
    "    Application of linear SVC on the data has improved when compared with MultinomialNB classifier. But lets check with LogisticRegression classifier before concluding on the final good model."
   ]
  },
  {
   "cell_type": "code",
   "execution_count": null,
   "id": "d42a3bff",
   "metadata": {
    "colab": {
     "base_uri": "https://localhost:8080/"
    },
    "id": "n_uspWDWJD__",
    "outputId": "4c5b2bd2-e296-41ef-b3ac-2826e5bccb35"
   },
   "outputs": [
    {
     "name": "stdout",
     "output_type": "stream",
     "text": [
      "... Processing gender_le\n",
      "Test accuracy is 0.7129043162651674\n",
      "              precision    recall  f1-score   support\n",
      "\n",
      "        male       0.72      0.69      0.70    110795\n",
      "      female       0.71      0.73      0.72    114029\n",
      "\n",
      "    accuracy                           0.71    224824\n",
      "   macro avg       0.71      0.71      0.71    224824\n",
      "weighted avg       0.71      0.71      0.71    224824\n",
      "\n",
      "\n",
      "\n",
      "\n",
      "... Processing sign_le\n",
      "Test accuracy is 0.2573390741202007\n",
      "              precision    recall  f1-score   support\n",
      "\n",
      "         Leo       0.30      0.22      0.26     16428\n",
      "    Aquarius       0.25      0.35      0.29     21441\n",
      "       Aries       0.26      0.31      0.28     21571\n",
      "   Capricorn       0.27      0.19      0.22     16257\n",
      "      Gemini       0.26      0.22      0.23     17121\n",
      "      Cancer       0.25      0.22      0.24     17684\n",
      " Sagittarius       0.24      0.28      0.25     20692\n",
      "     Scorpio       0.30      0.25      0.27     17947\n",
      "       Libra       0.29      0.20      0.24     16452\n",
      "       Virgo       0.25      0.24      0.25     18735\n",
      "      Taurus       0.24      0.28      0.26     20720\n",
      "      Pisces       0.25      0.28      0.26     19776\n",
      "\n",
      "    accuracy                           0.26    224824\n",
      "   macro avg       0.26      0.25      0.25    224824\n",
      "weighted avg       0.26      0.26      0.26    224824\n",
      "\n",
      "\n",
      "\n",
      "\n",
      "... Processing topic_le\n",
      "Test accuracy is 0.4410294274632601\n"
     ]
    },
    {
     "name": "stderr",
     "output_type": "stream",
     "text": [
      "UndefinedMetricWarning: Precision and F-score are ill-defined and being set to 0.0 in labels with no predicted samples. Use `zero_division` parameter to control this behavior.\n"
     ]
    },
    {
     "name": "stdout",
     "output_type": "stream",
     "text": [
      "                         precision    recall  f1-score   support\n",
      "\n",
      "                Student       0.47      0.06      0.11      1252\n",
      "      InvestmentBanking       0.90      0.02      0.05      1547\n",
      "                 indUnk       1.00      0.00      0.01       403\n",
      "             Non-Profit       0.50      0.00      0.01       555\n",
      "                Banking       0.66      0.09      0.16     10658\n",
      "              Education       0.00      0.00      0.00       419\n",
      "            Engineering       0.84      0.03      0.05      1366\n",
      "                Science       0.84      0.04      0.08       737\n",
      "   Communications-Media       0.91      0.08      0.14      1481\n",
      "       BusinessServices       0.55      0.00      0.01      1348\n",
      "      Sports-Recreation       0.65      0.04      0.08      6667\n",
      "                   Arts       1.00      0.03      0.06       373\n",
      "               Internet       0.68      0.01      0.01      1962\n",
      "      Museums-Libraries       0.66      0.09      0.15      9853\n",
      "             Accounting       0.82      0.07      0.13      3836\n",
      "             Technology       0.00      0.00      0.00       177\n",
      "                    Law       0.94      0.19      0.32      1653\n",
      "             Consulting       0.95      0.06      0.12      2259\n",
      "             Automotive       0.62      0.01      0.02      1030\n",
      "               Religion       0.66      0.06      0.10      5244\n",
      "                Fashion       1.00      0.00      0.00       439\n",
      "             Publishing       0.53      0.05      0.09      2933\n",
      "              Marketing       1.00      0.02      0.04       619\n",
      "LawEnforcement-Security       0.89      0.01      0.02       745\n",
      "         HumanResources       0.00      0.00      0.00        98\n",
      "     Telecommunications       0.61      0.02      0.04      1525\n",
      "               Military       1.00      0.02      0.04      1010\n",
      "             Government       0.60      0.05      0.10      1033\n",
      "         Transportation       0.60      0.06      0.10      4841\n",
      "           Architecture       0.89      0.11      0.19      2552\n",
      "            Advertising       0.37      0.02      0.03       969\n",
      "            Agriculture       0.44      0.05      0.08      1733\n",
      "                Biotech       0.71      0.03      0.05      2319\n",
      "             RealEstate       0.95      0.02      0.04       985\n",
      "          Manufacturing       0.48      0.46      0.47     50694\n",
      "           Construction       0.52      0.15      0.24     13938\n",
      "              Chemicals       0.93      0.06      0.11      1277\n",
      "               Maritime       0.96      0.04      0.07       655\n",
      "                Tourism       1.00      0.14      0.25       754\n",
      "            Environment       0.42      0.83      0.56     82885\n",
      "\n",
      "               accuracy                           0.44    224824\n",
      "              macro avg       0.69      0.08      0.10    224824\n",
      "           weighted avg       0.54      0.44      0.36    224824\n",
      "\n",
      "\n",
      "\n",
      "\n",
      "... Processing age\n",
      "Test accuracy is 0.3240312422161335\n",
      "              precision    recall  f1-score   support\n",
      "\n",
      "          15       0.70      0.16      0.26      4341\n",
      "          33       0.53      0.24      0.33      8969\n",
      "          14       0.45      0.28      0.35     13931\n",
      "          25       0.37      0.44      0.40     24046\n",
      "          17       0.36      0.53      0.43     26683\n",
      "          23       0.28      0.35      0.31     24171\n",
      "          37       0.24      0.42      0.30     26164\n",
      "          26       0.27      0.33      0.30     22199\n",
      "          24       0.29      0.26      0.28     18195\n",
      "          27       0.28      0.22      0.25     15084\n",
      "          45       0.53      0.12      0.20      5855\n",
      "          34       0.51      0.27      0.36      7161\n",
      "          41       0.54      0.17      0.26      5801\n",
      "          44       0.63      0.15      0.24      4712\n",
      "          16       0.63      0.12      0.21      3076\n",
      "          39       0.67      0.08      0.14      2466\n",
      "          35       0.75      0.05      0.09      1840\n",
      "          36       0.93      0.26      0.41      1660\n",
      "          46       0.84      0.03      0.06      1278\n",
      "          42       0.49      0.07      0.12       939\n",
      "          13       0.69      0.09      0.17      1358\n",
      "          38       0.77      0.05      0.09       688\n",
      "          43       0.71      0.10      0.17      1446\n",
      "          40       0.39      0.12      0.18       869\n",
      "          47       0.82      0.17      0.28       736\n",
      "          48       0.75      0.22      0.34      1156\n",
      "\n",
      "    accuracy                           0.32    224824\n",
      "   macro avg       0.55      0.20      0.25    224824\n",
      "weighted avg       0.38      0.32      0.31    224824\n",
      "\n",
      "\n",
      "\n",
      "\n",
      "time: 40min 17s (started: 2021-10-31 12:03:18 +00:00)\n"
     ]
    }
   ],
   "source": [
    "LogReg_pipeline = Pipeline([\n",
    "                ('tfidf', TfidfVectorizer(stop_words=stop_words)),\n",
    "                ('clf', OneVsRestClassifier(LogisticRegression(solver='sag'), n_jobs=1)),\n",
    "            ])\n",
    "for category in categories:\n",
    "    print('... Processing {}'.format(category))\n",
    "    # train the model using X_dtm & y\n",
    "    LogReg_pipeline.fit(X_train, train[category])\n",
    "    # compute the testing accuracy\n",
    "    prediction_C_LR_OVR = LogReg_pipeline.predict(X_test)\n",
    "    print('Test accuracy is {}'.format(accuracy_score(test[category], prediction_C_LR_OVR)))\n",
    "    target_names = [str(names) for names in blog_df[trim(category)].unique()] \n",
    "    cm = classification_report(test[category], prediction_C_LR_OVR, target_names=target_names)\n",
    "    print(cm)\n",
    "    print(\"\\n\\n\")"
   ]
  },
  {
   "cell_type": "markdown",
   "id": "f5ac3520",
   "metadata": {
    "id": "2-xP9BF9LWhd"
   },
   "source": [
    "    The above cell contains LogisticRegression classifier which is run on individual labels. For gender label, it is having 71% macro average and 71% recall. This single label classification and hence we can consider the macro avg. An ideal system with high precision and high recall will return many results, with all results labeled correctly. The sign label is having many classes and LogisticRegression has not performed well in this classification. Both recall and precision are low. The topic label is having 69% precision macro average and when we look into individual classes it has performed pretty much good, but there is lot of room for improvement. When we look into each class of the age label, we can observe that the model performance is good for this label.\n",
    "    When we apply classifier on individual labels, we observe that it is having good individual accuracy and good precision score."
   ]
  },
  {
   "cell_type": "code",
   "execution_count": null,
   "id": "780c025a",
   "metadata": {},
   "outputs": [],
   "source": []
  },
  {
   "cell_type": "code",
   "execution_count": null,
   "id": "6243cb9f",
   "metadata": {
    "id": "2-xP9BF9LWhd"
   },
   "outputs": [],
   "source": []
  },
  {
   "cell_type": "code",
   "execution_count": null,
   "id": "44c79896",
   "metadata": {
    "id": "kfGLT9-1M74F"
   },
   "outputs": [],
   "source": []
  },
  {
   "cell_type": "markdown",
   "id": "97ee3f5e",
   "metadata": {
    "id": "5uUD2Fd7OH7O"
   },
   "source": [
    "  Approach #2: In this approach a multiclass label is used prediction. The same cleansed text is used as X variable but Y variable is merged lables in the data set. Here we are merging 4 column - Gender, age, topic and sign. Upon this we are going to apply algorithm."
   ]
  },
  {
   "cell_type": "code",
   "execution_count": null,
   "id": "80775946",
   "metadata": {
    "colab": {
     "base_uri": "https://localhost:8080/",
     "height": 581
    },
    "id": "rL-Lf3LMM7-M",
    "outputId": "617ee23d-77c8-4271-a725-9f50fffcf03a"
   },
   "outputs": [
    {
     "data": {
      "text/html": [
       "<div>\n",
       "<style scoped>\n",
       "    .dataframe tbody tr th:only-of-type {\n",
       "        vertical-align: middle;\n",
       "    }\n",
       "\n",
       "    .dataframe tbody tr th {\n",
       "        vertical-align: top;\n",
       "    }\n",
       "\n",
       "    .dataframe thead th {\n",
       "        text-align: right;\n",
       "    }\n",
       "</style>\n",
       "<table border=\"1\" class=\"dataframe\">\n",
       "  <thead>\n",
       "    <tr style=\"text-align: right;\">\n",
       "      <th></th>\n",
       "      <th>id</th>\n",
       "      <th>gender</th>\n",
       "      <th>age</th>\n",
       "      <th>topic</th>\n",
       "      <th>sign</th>\n",
       "      <th>date</th>\n",
       "      <th>text</th>\n",
       "      <th>Cleaned_text</th>\n",
       "      <th>gender_le</th>\n",
       "      <th>topic_le</th>\n",
       "      <th>sign_le</th>\n",
       "      <th>label_four_column</th>\n",
       "      <th>label_three_column</th>\n",
       "    </tr>\n",
       "  </thead>\n",
       "  <tbody>\n",
       "    <tr>\n",
       "      <th>0</th>\n",
       "      <td>2059027</td>\n",
       "      <td>male</td>\n",
       "      <td>15</td>\n",
       "      <td>Student</td>\n",
       "      <td>Leo</td>\n",
       "      <td>14,May,2004</td>\n",
       "      <td>Info has been found (+/- 100 pages,...</td>\n",
       "      <td>find 100 45 now wait untill team leader</td>\n",
       "      <td>1</td>\n",
       "      <td>34</td>\n",
       "      <td>5</td>\n",
       "      <td>[male, 15, Student, Leo]</td>\n",
       "      <td>[male, Student, Leo]</td>\n",
       "    </tr>\n",
       "    <tr>\n",
       "      <th>1</th>\n",
       "      <td>2059027</td>\n",
       "      <td>male</td>\n",
       "      <td>15</td>\n",
       "      <td>Student</td>\n",
       "      <td>Leo</td>\n",
       "      <td>13,May,2004</td>\n",
       "      <td>These are the team members:   Drewe...</td>\n",
       "      <td>these team van mail mail mail</td>\n",
       "      <td>1</td>\n",
       "      <td>34</td>\n",
       "      <td>5</td>\n",
       "      <td>[male, 15, Student, Leo]</td>\n",
       "      <td>[male, Student, Leo]</td>\n",
       "    </tr>\n",
       "    <tr>\n",
       "      <th>2</th>\n",
       "      <td>2059027</td>\n",
       "      <td>male</td>\n",
       "      <td>15</td>\n",
       "      <td>Student</td>\n",
       "      <td>Leo</td>\n",
       "      <td>12,May,2004</td>\n",
       "      <td>In het kader van kernfusie op aarde...</td>\n",
       "      <td>in het van how build from subject how to build...</td>\n",
       "      <td>1</td>\n",
       "      <td>34</td>\n",
       "      <td>5</td>\n",
       "      <td>[male, 15, Student, Leo]</td>\n",
       "      <td>[male, Student, Leo]</td>\n",
       "    </tr>\n",
       "    <tr>\n",
       "      <th>3</th>\n",
       "      <td>2059027</td>\n",
       "      <td>male</td>\n",
       "      <td>15</td>\n",
       "      <td>Student</td>\n",
       "      <td>Leo</td>\n",
       "      <td>12,May,2004</td>\n",
       "      <td>testing!!!  testing!!!</td>\n",
       "      <td>test test</td>\n",
       "      <td>1</td>\n",
       "      <td>34</td>\n",
       "      <td>5</td>\n",
       "      <td>[male, 15, Student, Leo]</td>\n",
       "      <td>[male, Student, Leo]</td>\n",
       "    </tr>\n",
       "    <tr>\n",
       "      <th>4</th>\n",
       "      <td>3581210</td>\n",
       "      <td>male</td>\n",
       "      <td>33</td>\n",
       "      <td>InvestmentBanking</td>\n",
       "      <td>Aquarius</td>\n",
       "      <td>11,June,2004</td>\n",
       "      <td>Thanks to Yahoo!'s Toolbar I can ...</td>\n",
       "      <td>thanks i capture i show cool link pop audio vi...</td>\n",
       "      <td>1</td>\n",
       "      <td>20</td>\n",
       "      <td>0</td>\n",
       "      <td>[male, 33, InvestmentBanking, Aquarius]</td>\n",
       "      <td>[male, InvestmentBanking, Aquarius]</td>\n",
       "    </tr>\n",
       "    <tr>\n",
       "      <th>...</th>\n",
       "      <td>...</td>\n",
       "      <td>...</td>\n",
       "      <td>...</td>\n",
       "      <td>...</td>\n",
       "      <td>...</td>\n",
       "      <td>...</td>\n",
       "      <td>...</td>\n",
       "      <td>...</td>\n",
       "      <td>...</td>\n",
       "      <td>...</td>\n",
       "      <td>...</td>\n",
       "      <td>...</td>\n",
       "      <td>...</td>\n",
       "    </tr>\n",
       "    <tr>\n",
       "      <th>681279</th>\n",
       "      <td>1713845</td>\n",
       "      <td>male</td>\n",
       "      <td>23</td>\n",
       "      <td>Student</td>\n",
       "      <td>Taurus</td>\n",
       "      <td>01,July,2004</td>\n",
       "      <td>Dear Susan,  I could write some really ...</td>\n",
       "      <td>dear i could write really bitter diatribe dise...</td>\n",
       "      <td>1</td>\n",
       "      <td>34</td>\n",
       "      <td>10</td>\n",
       "      <td>[male, 23, Student, Taurus]</td>\n",
       "      <td>[male, Student, Taurus]</td>\n",
       "    </tr>\n",
       "    <tr>\n",
       "      <th>681280</th>\n",
       "      <td>1713845</td>\n",
       "      <td>male</td>\n",
       "      <td>23</td>\n",
       "      <td>Student</td>\n",
       "      <td>Taurus</td>\n",
       "      <td>01,July,2004</td>\n",
       "      <td>Dear Susan,  'I have the second yeast i...</td>\n",
       "      <td>dear i second yeast infection past two straigh...</td>\n",
       "      <td>1</td>\n",
       "      <td>34</td>\n",
       "      <td>10</td>\n",
       "      <td>[male, 23, Student, Taurus]</td>\n",
       "      <td>[male, Student, Taurus]</td>\n",
       "    </tr>\n",
       "    <tr>\n",
       "      <th>681281</th>\n",
       "      <td>1713845</td>\n",
       "      <td>male</td>\n",
       "      <td>23</td>\n",
       "      <td>Student</td>\n",
       "      <td>Taurus</td>\n",
       "      <td>01,July,2004</td>\n",
       "      <td>Dear Susan,  Your 'boyfriend' is fuckin...</td>\n",
       "      <td>dear your bald good luck</td>\n",
       "      <td>1</td>\n",
       "      <td>34</td>\n",
       "      <td>10</td>\n",
       "      <td>[male, 23, Student, Taurus]</td>\n",
       "      <td>[male, Student, Taurus]</td>\n",
       "    </tr>\n",
       "    <tr>\n",
       "      <th>681282</th>\n",
       "      <td>1713845</td>\n",
       "      <td>male</td>\n",
       "      <td>23</td>\n",
       "      <td>Student</td>\n",
       "      <td>Taurus</td>\n",
       "      <td>01,July,2004</td>\n",
       "      <td>Dear Susan:    Just to clarify, I am as...</td>\n",
       "      <td>dear just clarify i leave house why piss floor...</td>\n",
       "      <td>1</td>\n",
       "      <td>34</td>\n",
       "      <td>10</td>\n",
       "      <td>[male, 23, Student, Taurus]</td>\n",
       "      <td>[male, Student, Taurus]</td>\n",
       "    </tr>\n",
       "    <tr>\n",
       "      <th>681283</th>\n",
       "      <td>1713845</td>\n",
       "      <td>male</td>\n",
       "      <td>23</td>\n",
       "      <td>Student</td>\n",
       "      <td>Taurus</td>\n",
       "      <td>01,July,2004</td>\n",
       "      <td>Hey everybody...and Susan,  You might a...</td>\n",
       "      <td>hey you might already know my weird al i get t...</td>\n",
       "      <td>1</td>\n",
       "      <td>34</td>\n",
       "      <td>10</td>\n",
       "      <td>[male, 23, Student, Taurus]</td>\n",
       "      <td>[male, Student, Taurus]</td>\n",
       "    </tr>\n",
       "  </tbody>\n",
       "</table>\n",
       "<p>681284 rows x 13 columns</p>\n",
       "</div>"
      ],
      "text/plain": [
       "             id  ...                   label_three_column\n",
       "0       2059027  ...                 [male, Student, Leo]\n",
       "1       2059027  ...                 [male, Student, Leo]\n",
       "2       2059027  ...                 [male, Student, Leo]\n",
       "3       2059027  ...                 [male, Student, Leo]\n",
       "4       3581210  ...  [male, InvestmentBanking, Aquarius]\n",
       "...         ...  ...                                  ...\n",
       "681279  1713845  ...              [male, Student, Taurus]\n",
       "681280  1713845  ...              [male, Student, Taurus]\n",
       "681281  1713845  ...              [male, Student, Taurus]\n",
       "681282  1713845  ...              [male, Student, Taurus]\n",
       "681283  1713845  ...              [male, Student, Taurus]\n",
       "\n",
       "[681284 rows x 13 columns]"
      ]
     },
     "execution_count": 38,
     "metadata": {},
     "output_type": "execute_result"
    },
    {
     "name": "stdout",
     "output_type": "stream",
     "text": [
      "time: 895 ms (started: 2021-10-31 11:32:17 +00:00)\n"
     ]
    }
   ],
   "source": [
    "#check the variable creation before application of algorithm\n",
    "blog_df"
   ]
  },
  {
   "cell_type": "code",
   "execution_count": null,
   "id": "bd0f0945",
   "metadata": {
    "colab": {
     "base_uri": "https://localhost:8080/"
    },
    "id": "4YCPno8mRm0l",
    "outputId": "8de191b9-26ea-46b6-f505-e2bb67f3db36"
   },
   "outputs": [
    {
     "name": "stdout",
     "output_type": "stream",
     "text": [
      "time: 7.75 ms (started: 2021-10-31 11:52:00 +00:00)\n"
     ]
    }
   ],
   "source": [
    "X= blog_df.Cleaned_text\n",
    "y = blog_df.label_four_column"
   ]
  },
  {
   "cell_type": "code",
   "execution_count": null,
   "id": "aa549c61",
   "metadata": {
    "colab": {
     "base_uri": "https://localhost:8080/"
    },
    "id": "AiKn1HhjT6d2",
    "outputId": "d0844a58-9ed0-4e9a-d559-aec185124676"
   },
   "outputs": [
    {
     "data": {
      "text/plain": [
       "0                   find 100 45 now wait untill team leader\n",
       "1                             these team van mail mail mail\n",
       "2         in het van how build from subject how to build...\n",
       "3                                                 test test\n",
       "4         thanks i capture i show cool link pop audio vi...\n",
       "                                ...                        \n",
       "681279    dear i could write really bitter diatribe dise...\n",
       "681280    dear i second yeast infection past two straigh...\n",
       "681281                             dear your bald good luck\n",
       "681282    dear just clarify i leave house why piss floor...\n",
       "681283    hey you might already know my weird al i get t...\n",
       "Name: Cleaned_text, Length: 681284, dtype: object"
      ]
     },
     "execution_count": 45,
     "metadata": {},
     "output_type": "execute_result"
    },
    {
     "name": "stdout",
     "output_type": "stream",
     "text": [
      "time: 103 ms (started: 2021-10-31 11:52:00 +00:00)\n"
     ]
    }
   ],
   "source": [
    "#check content of variable X\n",
    "X"
   ]
  },
  {
   "cell_type": "code",
   "execution_count": null,
   "id": "4b53020a",
   "metadata": {
    "colab": {
     "base_uri": "https://localhost:8080/"
    },
    "id": "3kIaYu7BUoTm",
    "outputId": "ab8c234e-cc4a-4673-ffa7-7bfa884d8c29"
   },
   "outputs": [
    {
     "data": {
      "text/plain": [
       "0                        [male, 15, Student, Leo]\n",
       "1                        [male, 15, Student, Leo]\n",
       "2                        [male, 15, Student, Leo]\n",
       "3                        [male, 15, Student, Leo]\n",
       "4         [male, 33, InvestmentBanking, Aquarius]\n",
       "                           ...                   \n",
       "681279                [male, 23, Student, Taurus]\n",
       "681280                [male, 23, Student, Taurus]\n",
       "681281                [male, 23, Student, Taurus]\n",
       "681282                [male, 23, Student, Taurus]\n",
       "681283                [male, 23, Student, Taurus]\n",
       "Name: label_four_column, Length: 681284, dtype: object"
      ]
     },
     "execution_count": 46,
     "metadata": {},
     "output_type": "execute_result"
    },
    {
     "name": "stdout",
     "output_type": "stream",
     "text": [
      "time: 87.5 ms (started: 2021-10-31 11:52:02 +00:00)\n"
     ]
    }
   ],
   "source": [
    "#check content of variable y (label)\n",
    "y"
   ]
  },
  {
   "cell_type": "code",
   "execution_count": null,
   "id": "77c65d02",
   "metadata": {
    "colab": {
     "base_uri": "https://localhost:8080/"
    },
    "id": "MtRlah0aRskN",
    "outputId": "10a8bf86-b9a3-44fd-8504-06d37dbe76f4"
   },
   "outputs": [
    {
     "name": "stdout",
     "output_type": "stream",
     "text": [
      "time: 17 s (started: 2021-10-31 11:52:04 +00:00)\n"
     ]
    }
   ],
   "source": [
    "# split X and y into training and testing sets\n",
    "from sklearn.model_selection import train_test_split\n",
    "X_train, X_test, y_train, y_test = train_test_split(X,y, random_state=2,test_size = 0.2)"
   ]
  },
  {
   "cell_type": "code",
   "execution_count": null,
   "id": "178fc6de",
   "metadata": {
    "colab": {
     "base_uri": "https://localhost:8080/"
    },
    "id": "a4EV8PTlRvSB",
    "outputId": "b47b2213-efa6-4af4-86aa-160b3896f9db"
   },
   "outputs": [
    {
     "name": "stdout",
     "output_type": "stream",
     "text": [
      "(545027,)\n",
      "(545027,)\n",
      "(136257,)\n",
      "(136257,)\n",
      "time: 7.44 ms (started: 2021-10-31 11:52:21 +00:00)\n"
     ]
    }
   ],
   "source": [
    "print(X_train.shape)\n",
    "print(y_train.shape)\n",
    "\n",
    "print(X_test.shape)\n",
    "print(y_test.shape)"
   ]
  },
  {
   "cell_type": "code",
   "execution_count": null,
   "id": "3a217f6b",
   "metadata": {
    "colab": {
     "base_uri": "https://localhost:8080/"
    },
    "id": "COHQ1pEWM8Xo",
    "outputId": "e2e84950-10ca-4822-e396-17f3737a89b2"
   },
   "outputs": [
    {
     "name": "stdout",
     "output_type": "stream",
     "text": [
      "time: 3.22 s (started: 2021-10-31 11:52:21 +00:00)\n"
     ]
    }
   ],
   "source": [
    "label_counts=dict()\n",
    "\n",
    "for labels in blog_df.label_four_column.values:\n",
    "    for label in labels:\n",
    "        if label in label_counts:\n",
    "            label_counts[str(label)]+=1\n",
    "        else:\n",
    "            label_counts[str(label)]=1"
   ]
  },
  {
   "cell_type": "code",
   "execution_count": null,
   "id": "1ae8f5b9",
   "metadata": {
    "colab": {
     "base_uri": "https://localhost:8080/"
    },
    "id": "SkUmF2VSM-ry",
    "outputId": "f564e72f-0d9a-4610-9e3b-8edc79a5f767"
   },
   "outputs": [
    {
     "name": "stdout",
     "output_type": "stream",
     "text": [
      "time: 1.81 ms (started: 2021-10-31 11:52:24 +00:00)\n"
     ]
    }
   ],
   "source": [
    "from sklearn.preprocessing import MultiLabelBinarizer\n",
    "binarizer=MultiLabelBinarizer(classes=sorted(label_counts.keys()))"
   ]
  },
  {
   "cell_type": "code",
   "execution_count": null,
   "id": "3cabb46b",
   "metadata": {
    "colab": {
     "base_uri": "https://localhost:8080/"
    },
    "id": "h1qpowUbNGs4",
    "outputId": "ff2c223c-d015-466f-d57f-befded7037c4"
   },
   "outputs": [
    {
     "name": "stderr",
     "output_type": "stream",
     "text": [
      "UserWarning: unknown class(es) [13, 14, 15, 16, 17, 23, 24, 25, 26, 27, 33, 34, 35, 36, 37, 38, 39, 40, 41, 42, 43, 44, 45, 46, 47, 48] will be ignored\n"
     ]
    },
    {
     "name": "stdout",
     "output_type": "stream",
     "text": [
      "time: 3.27 s (started: 2021-10-31 11:52:24 +00:00)\n"
     ]
    }
   ],
   "source": [
    "y_train = binarizer.fit_transform(y_train)"
   ]
  },
  {
   "cell_type": "code",
   "execution_count": null,
   "id": "c22a5de2",
   "metadata": {
    "colab": {
     "base_uri": "https://localhost:8080/"
    },
    "id": "b3Qaimq5NJtJ",
    "outputId": "4bcccdfa-6da3-4e81-dbca-7e7eee63ae92"
   },
   "outputs": [
    {
     "name": "stdout",
     "output_type": "stream",
     "text": [
      "time: 763 ms (started: 2021-10-31 11:52:27 +00:00)\n"
     ]
    },
    {
     "name": "stderr",
     "output_type": "stream",
     "text": [
      "UserWarning: unknown class(es) [13, 14, 15, 16, 17, 23, 24, 25, 26, 27, 33, 34, 35, 36, 37, 38, 39, 40, 41, 42, 43, 44, 45, 46, 47, 48] will be ignored\n"
     ]
    }
   ],
   "source": [
    "y_test = binarizer.transform(y_test)"
   ]
  },
  {
   "cell_type": "code",
   "execution_count": null,
   "id": "3d68aefa",
   "metadata": {
    "colab": {
     "base_uri": "https://localhost:8080/"
    },
    "id": "QcSx1EqtR6K9",
    "outputId": "9fea4c3e-a470-4a7b-c261-f2174a543c32"
   },
   "outputs": [
    {
     "data": {
      "text/plain": [
       "590624                                               canada\n",
       "197519    i dont see much scan burn future sorry unless ...\n",
       "147301    ko na papa ko gusto ko na ko yesterday sa sop ...\n",
       "114077                                 u clear grave pretty\n",
       "357895    so sitting work morning go normal get work rou...\n",
       "                                ...                        \n",
       "84434     wh0ot 620 morning sister give birth 7lb 13oz b...\n",
       "437782                                            and whats\n",
       "620104    hey today long say least i get super early i d...\n",
       "203245    a week i find laughter smile fatigue i feel go...\n",
       "100879    rio 12 04 9 farewell dinner larry restaurant i...\n",
       "Name: Cleaned_text, Length: 545027, dtype: object"
      ]
     },
     "execution_count": 53,
     "metadata": {},
     "output_type": "execute_result"
    },
    {
     "name": "stdout",
     "output_type": "stream",
     "text": [
      "time: 110 ms (started: 2021-10-31 11:54:43 +00:00)\n"
     ]
    }
   ],
   "source": [
    "X_train"
   ]
  },
  {
   "cell_type": "code",
   "execution_count": null,
   "id": "041c40ee",
   "metadata": {
    "colab": {
     "base_uri": "https://localhost:8080/"
    },
    "id": "Y3Sf_yz4R9wg",
    "outputId": "928e6a23-31d4-4e8b-c4df-ba2e301850d2"
   },
   "outputs": [
    {
     "data": {
      "text/plain": [
       "array([[0, 0, 0, ..., 1, 1, 0],\n",
       "       [0, 0, 0, ..., 1, 1, 0],\n",
       "       [0, 0, 0, ..., 1, 0, 0],\n",
       "       ...,\n",
       "       [0, 0, 0, ..., 0, 0, 1],\n",
       "       [0, 0, 0, ..., 1, 0, 0],\n",
       "       [0, 0, 0, ..., 1, 0, 0]])"
      ]
     },
     "execution_count": 54,
     "metadata": {},
     "output_type": "execute_result"
    },
    {
     "name": "stdout",
     "output_type": "stream",
     "text": [
      "time: 6.41 ms (started: 2021-10-31 11:54:47 +00:00)\n"
     ]
    }
   ],
   "source": [
    "#checking the label train variable.\n",
    "y_train"
   ]
  },
  {
   "cell_type": "code",
   "execution_count": null,
   "id": "7e240a74",
   "metadata": {
    "colab": {
     "base_uri": "https://localhost:8080/"
    },
    "id": "K6WMRrkvSAPK",
    "outputId": "37c44415-90dd-41a2-ef1f-c3c92e8bf87a"
   },
   "outputs": [
    {
     "name": "stdout",
     "output_type": "stream",
     "text": [
      "(545027,)\n",
      "(545027, 80)\n",
      "(136257,)\n",
      "(136257, 80)\n",
      "time: 4.3 ms (started: 2021-10-31 11:54:48 +00:00)\n"
     ]
    }
   ],
   "source": [
    "print(X_train.shape)\n",
    "print(y_train.shape)\n",
    "print(X_test.shape)\n",
    "print(y_test.shape)"
   ]
  },
  {
   "cell_type": "code",
   "execution_count": null,
   "id": "26077270",
   "metadata": {
    "colab": {
     "base_uri": "https://localhost:8080/"
    },
    "id": "N53Ql0k2SEBY",
    "outputId": "5df10248-074a-4a23-994a-4a1173e90ef0"
   },
   "outputs": [
    {
     "name": "stdout",
     "output_type": "stream",
     "text": [
      "time: 8.94 ms (started: 2021-10-31 11:54:49 +00:00)\n"
     ]
    }
   ],
   "source": [
    "from sklearn.multiclass import OneVsRestClassifier\n",
    "from sklearn.linear_model import LogisticRegression"
   ]
  },
  {
   "cell_type": "code",
   "execution_count": null,
   "id": "7c044f4c",
   "metadata": {
    "colab": {
     "base_uri": "https://localhost:8080/"
    },
    "id": "dUpvyu9liNYn",
    "outputId": "9b1b0ed6-5c89-4107-dfe3-0f6dfca5c7df"
   },
   "outputs": [
    {
     "name": "stdout",
     "output_type": "stream",
     "text": [
      "time: 1min 2s (started: 2021-10-31 12:05:42 +00:00)\n"
     ]
    }
   ],
   "source": [
    "#Initializing Vectorization of Climate posts\n",
    "vectorizer = TfidfVectorizer(stop_words=stop_words)\n",
    "vectorised_train_documents = vectorizer.fit_transform(X_train)\n",
    "vectorised_test_documents = vectorizer.transform(X_test)\n",
    "# print(vectorised_train_documents)\n",
    "# print(vectorised_test_documents)"
   ]
  },
  {
   "cell_type": "code",
   "execution_count": null,
   "id": "f531a0ec",
   "metadata": {
    "colab": {
     "base_uri": "https://localhost:8080/"
    },
    "id": "aXSjqF2dlXGV",
    "outputId": "5c82218a-df5e-40fa-de14-5446b431a81b"
   },
   "outputs": [
    {
     "name": "stdout",
     "output_type": "stream",
     "text": [
      "  (0, 79590)\t1.0\n",
      "  (1, 79910)\t0.17057181818597883\n",
      "  (1, 118530)\t0.12588159449605357\n",
      "  (1, 122399)\t0.3234415935491709\n",
      "  (1, 133363)\t0.1448299584993193\n",
      "  (1, 162926)\t0.23118456027139778\n",
      "  (1, 96964)\t0.15932775889761905\n",
      "  (1, 99475)\t0.4190672832439514\n",
      "  (1, 154314)\t0.3792520880419818\n",
      "  (1, 152666)\t0.1247568853675155\n",
      "  (1, 125291)\t0.2823716840269498\n",
      "  (1, 138471)\t0.10278958687197529\n",
      "  (1, 72887)\t0.17302220036287563\n",
      "  (1, 158545)\t0.2178922214364242\n",
      "  (1, 147558)\t0.17958228080149802\n",
      "  (1, 97416)\t0.2030658161228118\n",
      "  (1, 78617)\t0.22485625892438985\n",
      "  (1, 142927)\t0.30197266721367716\n",
      "  (1, 123490)\t0.11148898231330266\n",
      "  (1, 143813)\t0.10294103116817388\n",
      "  (1, 89585)\t0.09823583393579922\n",
      "  (2, 114133)\t0.01519869835409899\n",
      "  (2, 156430)\t0.01914207129798274\n",
      "  (2, 98761)\t0.022588095622850957\n",
      "  (2, 103077)\t0.025983183368471875\n",
      "  :\t:\n",
      "  (545026, 84598)\t0.06013216562094178\n",
      "  (545026, 131303)\t0.04746643878376817\n",
      "  (545026, 100253)\t0.04824630396960745\n",
      "  (545026, 115420)\t0.11400508870882224\n",
      "  (545026, 102020)\t0.05280352006504346\n",
      "  (545026, 149073)\t0.050865267941689135\n",
      "  (545026, 115119)\t0.048420693953790644\n",
      "  (545026, 82909)\t0.09426342492540367\n",
      "  (545026, 151984)\t0.04128312331669412\n",
      "  (545026, 118355)\t0.03720596608575828\n",
      "  (545026, 98937)\t0.11842502934588708\n",
      "  (545026, 127783)\t0.05479509174718068\n",
      "  (545026, 101072)\t0.07424057279012258\n",
      "  (545026, 92978)\t0.03426402617923033\n",
      "  (545026, 74370)\t0.03308531760626894\n",
      "  (545026, 153597)\t0.03760831489786027\n",
      "  (545026, 99157)\t0.030037168804137964\n",
      "  (545026, 98431)\t0.02399267290815371\n",
      "  (545026, 145296)\t0.04690131318582504\n",
      "  (545026, 74542)\t0.04055282484180346\n",
      "  (545026, 101023)\t0.0459295241936285\n",
      "  (545026, 142800)\t0.09090788581324491\n",
      "  (545026, 118530)\t0.18835887576624866\n",
      "  (545026, 138471)\t0.03076117855226151\n",
      "  (545026, 143813)\t0.061613000625483735\n",
      "time: 388 ms (started: 2021-10-31 12:06:45 +00:00)\n"
     ]
    }
   ],
   "source": [
    "print(vectorised_train_documents)"
   ]
  },
  {
   "cell_type": "markdown",
   "id": "981a19e3",
   "metadata": {},
   "source": [
    "    Lets check first 50 important words in the given dataset."
   ]
  },
  {
   "cell_type": "code",
   "execution_count": null,
   "id": "7a1e7eec",
   "metadata": {
    "colab": {
     "base_uri": "https://localhost:8080/",
     "height": 440
    },
    "id": "prkxMVP9TFfC",
    "outputId": "81aee993-30b5-4988-99ee-70f0a9cee093"
   },
   "outputs": [
    {
     "name": "stderr",
     "output_type": "stream",
     "text": [
      "FutureWarning: The sklearn.metrics.classification module is  deprecated in version 0.22 and will be removed in version 0.24. The corresponding classes / functions should instead be imported from sklearn.metrics. Anything that cannot be imported from sklearn.metrics is now part of the private API.\n"
     ]
    },
    {
     "data": {
      "image/png": "[encoded data removed]",
      "text/plain": [
       "<Figure size 576x396 with 1 Axes>"
      ]
     },
     "metadata": {},
     "output_type": "display_data"
    },
    {
     "name": "stdout",
     "output_type": "stream",
     "text": [
      "time: 1.36 s (started: 2021-10-31 12:06:45 +00:00)\n"
     ]
    }
   ],
   "source": [
    "from yellowbrick.text import FreqDistVisualizer\n",
    "features = vectorizer.get_feature_names()\n",
    "visualizer = FreqDistVisualizer(features=features, orient='v')\n",
    "visualizer.fit(vectorised_train_documents)\n",
    "visualizer;"
   ]
  },
  {
   "cell_type": "markdown",
   "id": "e1318286",
   "metadata": {},
   "source": [
    "    For evaluation of the model performance, we need to shall add the score to dictionary and try to display it at once. Here we are creating different score for checking models performance but we shall create the classification report at last."
   ]
  },
  {
   "cell_type": "code",
   "execution_count": null,
   "id": "df5b2ed6",
   "metadata": {
    "colab": {
     "base_uri": "https://localhost:8080/"
    },
    "id": "JopPXoBiihMV",
    "outputId": "0042fe1f-5c1b-4962-b377-815ca7823054"
   },
   "outputs": [
    {
     "name": "stdout",
     "output_type": "stream",
     "text": [
      "time: 3.4 ms (started: 2021-10-31 12:06:46 +00:00)\n"
     ]
    }
   ],
   "source": [
    "ModelsPerformance = {}\n",
    "\n",
    "def metricsReport(modelName, test_labels, predictions):\n",
    "    macro_f1 = f1_score(test_labels, predictions, average='macro')\n",
    "    micro_f1 = f1_score(test_labels, predictions, average='micro')\n",
    "    hamLoss = hamming_loss(test_labels, predictions)\n",
    "    ModelsPerformance[modelName] = micro_f1"
   ]
  },
  {
   "cell_type": "code",
   "execution_count": null,
   "id": "d2bbbc8b",
   "metadata": {
    "colab": {
     "base_uri": "https://localhost:8080/"
    },
    "id": "XtuJ2Yk4iiVA",
    "outputId": "890949b1-e945-4258-b388-c0fc87cd955f"
   },
   "outputs": [
    {
     "name": "stdout",
     "output_type": "stream",
     "text": [
      "time: 33.2 ms (started: 2021-10-31 12:06:46 +00:00)\n"
     ]
    }
   ],
   "source": [
    "from sklearn.ensemble import BaggingClassifier\n",
    "from sklearn.multiclass import OneVsRestClassifier\n",
    "from sklearn.metrics import accuracy_score, precision_score, recall_score, f1_score, confusion_matrix, hamming_loss\n",
    "from sklearn.neighbors import KNeighborsClassifier\n",
    "from sklearn.tree import DecisionTreeClassifier\n",
    "from sklearn.ensemble import RandomForestClassifier\n",
    "from sklearn.ensemble import GradientBoostingClassifier\n",
    "from sklearn.naive_bayes import MultinomialNB\n",
    "from sklearn.svm import LinearSVC\n",
    "from sklearn.svm import LinearSVC\n",
    "from sklearn.svm import LinearSVC"
   ]
  },
  {
   "cell_type": "code",
   "execution_count": null,
   "id": "fa0a1860",
   "metadata": {
    "colab": {
     "base_uri": "https://localhost:8080/"
    },
    "id": "aTmX-OcLlNaE",
    "outputId": "c083dca3-a21f-41c2-af5d-aebb3e6f1357"
   },
   "outputs": [
    {
     "name": "stderr",
     "output_type": "stream",
     "text": [
      "UserWarning: Label not 0 is present in all training examples.\n",
      "UserWarning: Label not 1 is present in all training examples.\n",
      "UserWarning: Label not 2 is present in all training examples.\n",
      "UserWarning: Label not 3 is present in all training examples.\n",
      "UserWarning: Label not 4 is present in all training examples.\n",
      "UserWarning: Label not 5 is present in all training examples.\n",
      "UserWarning: Label not 6 is present in all training examples.\n",
      "UserWarning: Label not 7 is present in all training examples.\n",
      "UserWarning: Label not 8 is present in all training examples.\n",
      "UserWarning: Label not 9 is present in all training examples.\n",
      "UserWarning: Label not 10 is present in all training examples.\n",
      "UserWarning: Label not 11 is present in all training examples.\n",
      "UserWarning: Label not 12 is present in all training examples.\n",
      "UserWarning: Label not 13 is present in all training examples.\n",
      "UserWarning: Label not 14 is present in all training examples.\n",
      "UserWarning: Label not 15 is present in all training examples.\n",
      "UserWarning: Label not 16 is present in all training examples.\n",
      "UserWarning: Label not 17 is present in all training examples.\n",
      "UserWarning: Label not 18 is present in all training examples.\n",
      "UserWarning: Label not 19 is present in all training examples.\n",
      "UserWarning: Label not 20 is present in all training examples.\n",
      "UserWarning: Label not 21 is present in all training examples.\n",
      "UserWarning: Label not 22 is present in all training examples.\n",
      "UserWarning: Label not 23 is present in all training examples.\n",
      "UserWarning: Label not 24 is present in all training examples.\n",
      "UserWarning: Label not 25 is present in all training examples.\n",
      "UndefinedMetricWarning: F-score is ill-defined and being set to 0.0 in labels with no true nor predicted samples. Use `zero_division` parameter to control this behavior.\n"
     ]
    },
    {
     "name": "stdout",
     "output_type": "stream",
     "text": [
      "time: 33.5 s (started: 2021-10-31 12:06:46 +00:00)\n"
     ]
    }
   ],
   "source": [
    "#Model: Multinominal Naive Bayes\n",
    "nbClassifier = OneVsRestClassifier(MultinomialNB())\n",
    "nbClassifier.fit(vectorised_train_documents, y_train)\n",
    "nbPreds = nbClassifier.predict(vectorised_test_documents)\n",
    "metricsReport(nbClassifier, y_test, nbPreds)"
   ]
  },
  {
   "cell_type": "code",
   "execution_count": null,
   "id": "17576191",
   "metadata": {
    "colab": {
     "base_uri": "https://localhost:8080/"
    },
    "id": "gfmtM8DHlgdi",
    "outputId": "f3322e4e-81f3-4fcf-cd37-b17dd0ff8e3a"
   },
   "outputs": [
    {
     "data": {
      "text/plain": [
       "{OneVsRestClassifier(estimator=MultinomialNB(alpha=1.0, class_prior=None,\n",
       "                                             fit_prior=True),\n",
       "                     n_jobs=None): 0.335220166942966}"
      ]
     },
     "execution_count": 70,
     "metadata": {},
     "output_type": "execute_result"
    },
    {
     "name": "stdout",
     "output_type": "stream",
     "text": [
      "time: 7.59 ms (started: 2021-10-31 12:07:20 +00:00)\n"
     ]
    }
   ],
   "source": [
    "ModelsPerformance"
   ]
  },
  {
   "cell_type": "code",
   "execution_count": null,
   "id": "6f6edd86",
   "metadata": {
    "colab": {
     "base_uri": "https://localhost:8080/"
    },
    "id": "fFKkCw7QnSqC",
    "outputId": "704a1211-5a46-4f14-86da-e8f51f6830c5"
   },
   "outputs": [
    {
     "name": "stderr",
     "output_type": "stream",
     "text": [
      "UserWarning: A worker stopped while some jobs were given to the executor. This can be caused by a too short worker timeout or by a memory leak.\n",
      "UndefinedMetricWarning: F-score is ill-defined and being set to 0.0 in labels with no true nor predicted samples. Use `zero_division` parameter to control this behavior.\n"
     ]
    },
    {
     "name": "stdout",
     "output_type": "stream",
     "text": [
      "time: 5min 19s (started: 2021-10-31 12:07:20 +00:00)\n"
     ]
    }
   ],
   "source": [
    "#Model: Linear Support Vector Machine\n",
    "svmClassifier = OneVsRestClassifier(LinearSVC(), n_jobs=-1)\n",
    "svmClassifier.fit(vectorised_train_documents, y_train)\n",
    "svmPreds = svmClassifier.predict(vectorised_test_documents)\n",
    "metricsReport(svmClassifier, y_test, svmPreds)"
   ]
  },
  {
   "cell_type": "code",
   "execution_count": null,
   "id": "800d9224",
   "metadata": {
    "colab": {
     "base_uri": "https://localhost:8080/"
    },
    "id": "yfEdEg1inf8y",
    "outputId": "f13a3029-9200-43c3-afc5-e34b143ec40c"
   },
   "outputs": [
    {
     "data": {
      "text/plain": [
       "{OneVsRestClassifier(estimator=LinearSVC(C=1.0, class_weight=None, dual=True,\n",
       "                                         fit_intercept=True, intercept_scaling=1,\n",
       "                                         loss='squared_hinge', max_iter=1000,\n",
       "                                         multi_class='ovr', penalty='l2',\n",
       "                                         random_state=None, tol=0.0001,\n",
       "                                         verbose=0),\n",
       "                     n_jobs=-1): 0.1639066827968718,\n",
       " OneVsRestClassifier(estimator=MultinomialNB(alpha=1.0, class_prior=None,\n",
       "                                             fit_prior=True),\n",
       "                     n_jobs=None): 0.335220166942966}"
      ]
     },
     "execution_count": 72,
     "metadata": {},
     "output_type": "execute_result"
    },
    {
     "name": "stdout",
     "output_type": "stream",
     "text": [
      "time: 9.97 ms (started: 2021-10-31 12:12:39 +00:00)\n"
     ]
    }
   ],
   "source": [
    "ModelsPerformance"
   ]
  },
  {
   "cell_type": "code",
   "execution_count": null,
   "id": "909869b3",
   "metadata": {
    "colab": {
     "base_uri": "https://localhost:8080/"
    },
    "id": "PAZR63x9D34v",
    "outputId": "83da8671-d313-4576-d7ea-65dbd9bf8c7e"
   },
   "outputs": [
    {
     "name": "stderr",
     "output_type": "stream",
     "text": [
      "UndefinedMetricWarning: Precision and F-score are ill-defined and being set to 0.0 in labels with no predicted samples. Use `zero_division` parameter to control this behavior.\n",
      "UndefinedMetricWarning: Recall and F-score are ill-defined and being set to 0.0 in labels with no true samples. Use `zero_division` parameter to control this behavior.\n"
     ]
    },
    {
     "name": "stdout",
     "output_type": "stream",
     "text": [
      "              precision    recall  f1-score   support\n",
      "\n",
      "           0       0.00      0.00      0.00         0\n",
      "           1       0.00      0.00      0.00         0\n",
      "           2       0.00      0.00      0.00         0\n",
      "           3       0.00      0.00      0.00         0\n",
      "           4       0.00      0.00      0.00         0\n",
      "           5       0.00      0.00      0.00         0\n",
      "           6       0.00      0.00      0.00         0\n",
      "           7       0.00      0.00      0.00         0\n",
      "           8       0.00      0.00      0.00         0\n",
      "           9       0.00      0.00      0.00         0\n",
      "          10       0.00      0.00      0.00         0\n",
      "          11       0.00      0.00      0.00         0\n",
      "          12       0.00      0.00      0.00         0\n",
      "          13       0.00      0.00      0.00         0\n",
      "          14       0.00      0.00      0.00         0\n",
      "          15       0.00      0.00      0.00         0\n",
      "          16       0.00      0.00      0.00         0\n",
      "          17       0.00      0.00      0.00         0\n",
      "          18       0.00      0.00      0.00         0\n",
      "          19       0.00      0.00      0.00         0\n",
      "          20       0.00      0.00      0.00         0\n",
      "          21       0.00      0.00      0.00         0\n",
      "          22       0.00      0.00      0.00         0\n",
      "          23       0.00      0.00      0.00         0\n",
      "          24       0.00      0.00      0.00         0\n",
      "          25       0.00      0.00      0.00         0\n",
      "          26       0.00      0.00      0.00       765\n",
      "          27       0.00      0.00      0.00       952\n",
      "          28       0.00      0.00      0.00       236\n",
      "          29       0.11      0.00      0.00      9798\n",
      "          30       0.00      0.00      0.00       336\n",
      "          31       0.32      0.00      0.01     12996\n",
      "          32       0.14      0.00      0.00      6464\n",
      "          33       0.00      0.00      0.00       276\n",
      "          34       0.00      0.00      0.00       840\n",
      "          35       0.00      0.00      0.00       457\n",
      "          36       0.00      0.00      0.00       907\n",
      "          37       0.81      0.02      0.04     13068\n",
      "          38       0.20      0.00      0.00      9842\n",
      "          39       0.00      0.00      0.00       823\n",
      "          40       0.09      0.00      0.00      4057\n",
      "          41       0.00      0.00      0.00       217\n",
      "          42       0.00      0.00      0.00      1218\n",
      "          43       0.04      0.00      0.00      5935\n",
      "          44       0.14      0.00      0.00      2349\n",
      "          45       0.00      0.00      0.00       107\n",
      "          46       0.00      0.00      0.00      1032\n",
      "          47       0.17      0.00      0.00     10418\n",
      "          48       0.00      0.00      0.00      1383\n",
      "          49       0.12      0.00      0.00       617\n",
      "          50       0.00      0.00      0.00      3130\n",
      "          51       0.00      0.00      0.00       263\n",
      "          52       0.00      0.00      0.00      1764\n",
      "          53       0.00      0.00      0.00       390\n",
      "          54       0.30      0.00      0.01     10749\n",
      "          55       0.22      0.00      0.00     12579\n",
      "          56       0.00      0.00      0.00       452\n",
      "          57       0.00      0.00      0.00        58\n",
      "          58       0.00      0.00      0.00       948\n",
      "          59       0.00      0.00      0.00       596\n",
      "          60       0.00      0.00      0.00       626\n",
      "          61       0.04      0.00      0.00      2935\n",
      "          62       0.34      0.00      0.01     10998\n",
      "          63       0.00      0.00      0.00      1550\n",
      "          64       0.00      0.00      0.00       574\n",
      "          65       0.00      0.00      0.00      1044\n",
      "          66       0.16      0.00      0.00      9936\n",
      "          67       0.00      0.00      0.00      1405\n",
      "          68       0.21      0.00      0.00     11492\n",
      "          69       0.11      0.00      0.00       609\n",
      "          70       0.66      0.03      0.05     30671\n",
      "          71       0.75      0.01      0.03     12539\n",
      "          72       0.30      0.00      0.01      8419\n",
      "          73       0.00      0.00      0.00       814\n",
      "          74       0.00      0.00      0.00       410\n",
      "          75       0.00      0.00      0.00       456\n",
      "          76       0.53      0.01      0.01     11842\n",
      "          77       0.64      0.70      0.67     67343\n",
      "          78       0.78      0.03      0.05     50172\n",
      "          79       0.68      0.61      0.64     68914\n",
      "\n",
      "   micro avg       0.65      0.23      0.34    408771\n",
      "   macro avg       0.10      0.02      0.02    408771\n",
      "weighted avg       0.50      0.23      0.23    408771\n",
      " samples avg       0.65      0.23      0.33    408771\n",
      "\n",
      "\n",
      "\n",
      "\n",
      "time: 1.24 s (started: 2021-10-31 12:13:12 +00:00)\n"
     ]
    }
   ],
   "source": [
    "from sklearn.metrics import classification_report\n",
    "cmNB = classification_report(y_test, nbPreds)\n",
    "print(cmNB)\n",
    "print(\"\\n\\n\")"
   ]
  },
  {
   "cell_type": "markdown",
   "id": "eb2965f0",
   "metadata": {},
   "source": [
    "    In above cell, MultinomialNB classification report is shown and the model's predictions micro avergae precision is around 65% which has lot of room for improvement. A macro-average will compute the metric independently for each class and then take the average (hence treating all classes equally), whereas a micro-average will aggregate the contributions of all classes to compute the average metric. Here one thing we can observe is that the macro avgs are having low score which means the claissifer is able to classify individual labels and collectively it is not having good score."
   ]
  },
  {
   "cell_type": "code",
   "execution_count": null,
   "id": "79d3c0c8",
   "metadata": {
    "colab": {
     "base_uri": "https://localhost:8080/"
    },
    "id": "eP40cqVtEIum",
    "outputId": "45deb23e-10c6-4655-e961-f5c66bc1e6db"
   },
   "outputs": [
    {
     "name": "stdout",
     "output_type": "stream",
     "text": [
      "              precision    recall  f1-score   support\n",
      "\n",
      "           0       0.00      0.00      0.00         0\n",
      "           1       0.00      0.00      0.00         0\n",
      "           2       0.00      0.00      0.00         0\n",
      "           3       0.00      0.00      0.00         0\n",
      "           4       0.00      0.00      0.00         0\n",
      "           5       0.00      0.00      0.00         0\n",
      "           6       0.00      0.00      0.00         0\n",
      "           7       0.00      0.00      0.00         0\n",
      "           8       0.00      0.00      0.00         0\n",
      "           9       0.00      0.00      0.00         0\n",
      "          10       0.00      0.00      0.00         0\n",
      "          11       0.00      0.00      0.00         0\n",
      "          12       0.00      0.00      0.00         0\n",
      "          13       0.00      0.00      0.00         0\n",
      "          14       0.00      0.00      0.00         0\n",
      "          15       0.00      0.00      0.00         0\n",
      "          16       0.00      0.00      0.00         0\n",
      "          17       0.00      0.00      0.00         0\n",
      "          18       0.00      0.00      0.00         0\n",
      "          19       0.00      0.00      0.00         0\n",
      "          20       0.00      0.00      0.00         0\n",
      "          21       0.00      0.00      0.00         0\n",
      "          22       0.00      0.00      0.00         0\n",
      "          23       0.00      0.00      0.00         0\n",
      "          24       0.00      0.00      0.00         0\n",
      "          25       0.00      0.00      0.00         0\n",
      "          26       0.00      0.00      0.00       765\n",
      "          27       1.00      0.01      0.02       952\n",
      "          28       0.00      0.00      0.00       236\n",
      "          29       0.90      0.01      0.02      9798\n",
      "          30       0.00      0.00      0.00       336\n",
      "          31       0.79      0.01      0.02     12996\n",
      "          32       0.86      0.01      0.03      6464\n",
      "          33       0.00      0.00      0.00       276\n",
      "          34       1.00      0.01      0.02       840\n",
      "          35       1.00      0.01      0.01       457\n",
      "          36       0.75      0.01      0.01       907\n",
      "          37       0.96      0.03      0.06     13068\n",
      "          38       0.92      0.00      0.01      9842\n",
      "          39       0.75      0.00      0.01       823\n",
      "          40       0.86      0.00      0.01      4057\n",
      "          41       0.00      0.00      0.00       217\n",
      "          42       1.00      0.00      0.00      1218\n",
      "          43       0.96      0.01      0.03      5935\n",
      "          44       0.52      0.00      0.01      2349\n",
      "          45       1.00      0.03      0.05       107\n",
      "          46       0.76      0.02      0.05      1032\n",
      "          47       0.87      0.01      0.02     10418\n",
      "          48       1.00      0.04      0.08      1383\n",
      "          49       1.00      0.00      0.00       617\n",
      "          50       0.95      0.01      0.01      3130\n",
      "          51       0.00      0.00      0.00       263\n",
      "          52       0.83      0.00      0.01      1764\n",
      "          53       1.00      0.01      0.01       390\n",
      "          54       0.96      0.01      0.02     10749\n",
      "          55       0.76      0.00      0.01     12579\n",
      "          56       0.00      0.00      0.00       452\n",
      "          57       0.00      0.00      0.00        58\n",
      "          58       1.00      0.01      0.03       948\n",
      "          59       1.00      0.00      0.00       596\n",
      "          60       1.00      0.00      0.01       626\n",
      "          61       0.85      0.00      0.01      2935\n",
      "          62       0.85      0.01      0.03     10998\n",
      "          63       0.96      0.04      0.08      1550\n",
      "          64       1.00      0.02      0.03       574\n",
      "          65       0.80      0.00      0.01      1044\n",
      "          66       0.88      0.01      0.01      9936\n",
      "          67       0.50      0.00      0.00      1405\n",
      "          68       0.86      0.01      0.01     11492\n",
      "          69       0.60      0.00      0.01       609\n",
      "          70       0.81      0.03      0.05     30671\n",
      "          71       0.96      0.02      0.05     12539\n",
      "          72       0.88      0.01      0.02      8419\n",
      "          73       1.00      0.02      0.04       814\n",
      "          74       1.00      0.00      0.00       410\n",
      "          75       0.94      0.10      0.19       456\n",
      "          76       0.91      0.01      0.03     11842\n",
      "          77       0.83      0.24      0.37     67343\n",
      "          78       0.79      0.03      0.06     50172\n",
      "          79       0.82      0.24      0.37     68914\n",
      "\n",
      "   micro avg       0.83      0.09      0.16    408771\n",
      "   macro avg       0.51      0.01      0.02    408771\n",
      "weighted avg       0.84      0.09      0.15    408771\n",
      " samples avg       0.24      0.09      0.13    408771\n",
      "\n",
      "\n",
      "\n",
      "\n",
      "time: 1.16 s (started: 2021-10-31 12:13:22 +00:00)\n"
     ]
    },
    {
     "name": "stderr",
     "output_type": "stream",
     "text": [
      "UndefinedMetricWarning: Precision and F-score are ill-defined and being set to 0.0 in labels with no predicted samples. Use `zero_division` parameter to control this behavior.\n",
      "UndefinedMetricWarning: Recall and F-score are ill-defined and being set to 0.0 in labels with no true samples. Use `zero_division` parameter to control this behavior.\n",
      "UndefinedMetricWarning: Precision and F-score are ill-defined and being set to 0.0 in samples with no predicted labels. Use `zero_division` parameter to control this behavior.\n"
     ]
    }
   ],
   "source": [
    "cmSVM = classification_report(y_test, svmPreds)\n",
    "print(cmSVM)\n",
    "print(\"\\n\\n\")"
   ]
  },
  {
   "cell_type": "markdown",
   "id": "99d1c5bb",
   "metadata": {},
   "source": [
    "**Observations**: \n",
    "\n",
    "    In above cell, SVM classification reprot is shown and the model's predictions are goos in terms of precision, all samples classified as the positive class are truly positive. Micro-averaging will put more emphasis on the common classes in the data set. A macro-average will compute the metric independently for each class and then take the average (hence treating all classes equally), whereas a micro-average will aggregate the contributions of all classes to compute the average metric. \n",
    "    \n",
    "    In a multi-class classification setup, micro-average is are observed  more than macro averages. If we take precision for individual class the score is in acceptable range. The areas of improvement would be to use some other vectorizer or to use only three labels and exclude the age label from the multilabel. Here we are observing a system with high precision but low recall , returning very few results, but most of its predicted labels are correct when compared to the training labels. Since this  use case is a digital conntent, we can look at precision and evaluate the model."
   ]
  },
  {
   "cell_type": "code",
   "execution_count": null,
   "id": "ea012103",
   "metadata": {
    "colab": {
     "base_uri": "https://localhost:8080/"
    },
    "id": "zFB1-yd12MOc",
    "outputId": "197ab0a0-891a-4e8c-d1c9-2955dcb27b91"
   },
   "outputs": [
    {
     "name": "stdout",
     "output_type": "stream",
     "text": [
      " model prediction : ('Taurus', 'female', 'indUnk')\n",
      " model true label :  ('Taurus', 'female', 'indUnk')\n",
      "\n",
      " model prediction : ('Student', 'Virgo', 'female')\n",
      " model true label :  ('Student', 'Virgo', 'female')\n",
      "\n",
      " model prediction : ('Cancer', 'female', 'indUnk')\n",
      " model true label :  ('Cancer', 'female', 'indUnk')\n",
      "\n",
      " model prediction : ('Aries', 'female', 'indUnk')\n",
      " model true label :  ('Aries', 'female', 'indUnk')\n",
      "\n",
      " model prediction : ('Cancer', 'female', 'indUnk')\n",
      " model true label :  ('Cancer', 'female', 'indUnk')\n",
      "\n",
      " model prediction : ('Government', 'Taurus', 'male')\n",
      " model true label :  ('Government', 'Taurus', 'male')\n",
      "\n",
      " model prediction : ('Leo', 'female', 'indUnk')\n",
      " model true label :  ('Leo', 'female', 'indUnk')\n",
      "\n",
      "time: 10.3 s (started: 2021-10-31 12:57:08 +00:00)\n"
     ]
    }
   ],
   "source": [
    "for i in [1016,1078,1361,1466,1659,1704,1744]:\n",
    "  print(\" model prediction :\", (binarizer.inverse_transform(svmPreds)[i]))\n",
    "  print(\" model true label : \", (binarizer.inverse_transform(y_test)[i]))\n",
    "  print()"
   ]
  },
  {
   "cell_type": "markdown",
   "id": "51daa332",
   "metadata": {
    "id": "8ww1t1AYlzPs"
   },
   "source": [
    "**Observation**:\n",
    "    \n",
    "    As we can observe from above, there are many instances which are predicted by the model correctly. One few examples are shown above as mentioned in the task list. In this notebook, we have tried and test several models and with different data preprocessing methods. While building model and reading data, modin is used for prepration of dataframe instead of pandas. Modin run on the dask framework and it helps us to process the data in parallel. Modin uses Ray or Dask to provide an effortless way to speed up your pandas notebooks, scripts, and libraries. In this notebook, we have produced classification report which shows model performance. A system with high recall but low precision returns many results, but most of its predicted labels are incorrect when compared to the training labels. A system with high precision but low recall is just the opposite, returning very few results, but most of its predicted labels are correct when compared to the training labels. An ideal system with high precision and high recall will return many results, with all results labeled correctly.\n",
    "    \n",
    "    At first we tried with single label with count vectorizers method for data preprocessing. But Count vectorizer is unable to find the most important and less important word for analysis. As the name says, it just count the word occurance, although it works for few cases it has disadvantage as mentioned above.\n",
    "    \n",
    "    We tried with another vectorizer method - TF-IDF. TF-IDF enables us to gives us a way to associate each word in a document with a number that represents how relevant each word is in that document. This has improved model performance a bit and here we tried to classify for only one label at a time. The accruacy and precision for the model were calculated for each label [topic, age, gender, sign] individually.  Precision is one indicator of a machine learning model's performance – the quality of a positive prediction made by the model.  The precision for all the labels are in acceptable range, although accuracy has room for improvement. This is not the main model, as mentioned in the task list we need to merge the labels and then use multiclass classification to predict the labels.\n",
    "    \n",
    "    Finally, in this notebook, a multiclass classification algorithm is applied with logistic regression and SVM. Here SVM is having good score when compare with the  logistic regression. SVM is having 83%  micro avg precision and support is 408771 which is quite a good number. Support is the number of actual occurrences of the class in the specified dataset. The  macro avg is aroung 51% and weighted avg is 84%. Macro avg takes the average of the precision and recall of the system on different sets. Macro-average method can be used when you want to know how the system performs overall across the sets of data. Weighted-averaged, in here each classes's contribution to the average is weighted by its size. We can conclude that SVM is best classifier by far with all the observation stated above.\n",
    "\n"
   ]
  },
  {
   "cell_type": "code",
   "execution_count": null,
   "id": "13d25424",
   "metadata": {},
   "outputs": [],
   "source": []
  },
  {
   "cell_type": "code",
   "execution_count": null,
   "id": "50608ddd",
   "metadata": {
    "id": "8ww1t1AYlzPs"
   },
   "outputs": [],
   "source": []
  },
  {
   "cell_type": "markdown",
   "id": "b26adced",
   "metadata": {},
   "source": [
    "## Part 2 - Chatbot project for customer support"
   ]
  },
  {
   "cell_type": "markdown",
   "id": "e9e82a60",
   "metadata": {},
   "source": [
    "**DOMAIN:**\n",
    "Customer support\n",
    "\n",
    "**CONTEXT:** \n",
    "\n",
    "Great Learning has a an academic support department which receives numerous support requests every day throughout the \n",
    "year. Teams are spread across geographies and try to provide support round the year. Sometimes there are circumstances where due to  heavy workload certain request resolutions are delayed, impacting company’s business. Some of the requests are very generic where a  proper resolution procedure delivered to the user can solve the problem. Company is looking forward to design an automation which can  interact with the user, understand the problem and display the resolution procedure [ if found as a generic request ] or redirect the request  to an actual human support executive if the request is complex or not in it’s database.\n",
    "\n",
    "**DATA DESCRIPTION:**\n",
    "\n",
    "A sample corpus is attached for your reference. Please enhance/add more data to the corpus using your linguistics \n",
    "skills.\n",
    "\n",
    "**PROJECT OBJECTIVE:**\n",
    "\n",
    "Design a python based interactive semi - rule based chatbot which can do the following: \n",
    "    \n",
    "    1. Start chat session with greetings and ask what the user is looking for.\n",
    "    2. Accept dynamic text based questions from the user. Reply back with relevant answer from the designed corpus. \n",
    "    3. End the chat session only if the user requests to end else ask what the user is looking for. Loop continues till the user asks to end it.\n",
    "\n",
    "**EVALUATION:**\n",
    "\n",
    "GL evaluator will use linguistics to twist and turn sentences to ask questions on the topics described in DATA DESCRIPTION \n",
    "and check if the bot is giving relevant replies.\n",
    "\n",
    "**Hint:** There are a lot of techniques using which one can clean and prepare the data which can be used to train a ML/DL classifier. Hence, it might require you to experiment, \n",
    "research, self learn and implement the above classifier. There might be many iterations between hand building the corpus and designing the best fit text classifier. As the quality \n",
    "and quantity of corpus increases the model’s performance i.e. ability to answer right questions also increases. \n",
    "Reference: https://www.mygreatlearning.com/blog/basics-of-building-an-artificial-intelligence-chatbot/"
   ]
  },
  {
   "cell_type": "markdown",
   "id": "6511faf3",
   "metadata": {},
   "source": [
    "###### Importing required libraries"
   ]
  },
  {
   "cell_type": "code",
   "execution_count": 1,
   "id": "4b9635eb",
   "metadata": {},
   "outputs": [],
   "source": [
    "import numpy as np\n",
    "from sklearn.feature_extraction.text import TfidfVectorizer\n",
    "from nltk.corpus import stopwords\n",
    "import pandas as pd\n",
    "import nltk\n",
    "from nltk.chat.util import Chat, reflections"
   ]
  },
  {
   "cell_type": "markdown",
   "id": "632ab202",
   "metadata": {},
   "source": [
    "###### reading from JSON file"
   ]
  },
  {
   "cell_type": "code",
   "execution_count": 2,
   "id": "cb49901a",
   "metadata": {},
   "outputs": [
    {
     "data": {
      "text/html": [
       "<div>\n",
       "<style scoped>\n",
       "    .dataframe tbody tr th:only-of-type {\n",
       "        vertical-align: middle;\n",
       "    }\n",
       "\n",
       "    .dataframe tbody tr th {\n",
       "        vertical-align: top;\n",
       "    }\n",
       "\n",
       "    .dataframe thead th {\n",
       "        text-align: right;\n",
       "    }\n",
       "</style>\n",
       "<table border=\"1\" class=\"dataframe\">\n",
       "  <thead>\n",
       "    <tr style=\"text-align: right;\">\n",
       "      <th></th>\n",
       "      <th>intents</th>\n",
       "    </tr>\n",
       "  </thead>\n",
       "  <tbody>\n",
       "    <tr>\n",
       "      <th>0</th>\n",
       "      <td>{'tag': 'Intro', 'patterns': ['hi', 'how are y...</td>\n",
       "    </tr>\n",
       "    <tr>\n",
       "      <th>1</th>\n",
       "      <td>{'tag': 'Exit', 'patterns': ['thank you', 'tha...</td>\n",
       "    </tr>\n",
       "    <tr>\n",
       "      <th>2</th>\n",
       "      <td>{'tag': 'Olympus', 'patterns': ['olympus', 'ex...</td>\n",
       "    </tr>\n",
       "    <tr>\n",
       "      <th>3</th>\n",
       "      <td>{'tag': 'SL', 'patterns': ['i am not able to u...</td>\n",
       "    </tr>\n",
       "    <tr>\n",
       "      <th>4</th>\n",
       "      <td>{'tag': 'NN', 'patterns': ['what is deep learn...</td>\n",
       "    </tr>\n",
       "    <tr>\n",
       "      <th>5</th>\n",
       "      <td>{'tag': 'Bot', 'patterns': ['what is your name...</td>\n",
       "    </tr>\n",
       "    <tr>\n",
       "      <th>6</th>\n",
       "      <td>{'tag': 'Profane', 'patterns': ['what the hell...</td>\n",
       "    </tr>\n",
       "    <tr>\n",
       "      <th>7</th>\n",
       "      <td>{'tag': 'Ticket', 'patterns': ['my problem is ...</td>\n",
       "    </tr>\n",
       "  </tbody>\n",
       "</table>\n",
       "</div>"
      ],
      "text/plain": [
       "                                             intents\n",
       "0  {'tag': 'Intro', 'patterns': ['hi', 'how are y...\n",
       "1  {'tag': 'Exit', 'patterns': ['thank you', 'tha...\n",
       "2  {'tag': 'Olympus', 'patterns': ['olympus', 'ex...\n",
       "3  {'tag': 'SL', 'patterns': ['i am not able to u...\n",
       "4  {'tag': 'NN', 'patterns': ['what is deep learn...\n",
       "5  {'tag': 'Bot', 'patterns': ['what is your name...\n",
       "6  {'tag': 'Profane', 'patterns': ['what the hell...\n",
       "7  {'tag': 'Ticket', 'patterns': ['my problem is ..."
      ]
     },
     "execution_count": 2,
     "metadata": {},
     "output_type": "execute_result"
    }
   ],
   "source": [
    "# import pandas as pd\n",
    "cb_df = pd.read_json('./GL_Bot.json')\n",
    "cb_df.head(100)"
   ]
  },
  {
   "cell_type": "markdown",
   "id": "208d40ea",
   "metadata": {},
   "source": [
    "    There are only 8 records, Here we need to map the intent of the users with responses. It is best to read the data in plain JSON format and then split the data based on tags in the JSON file.\n",
    "    For simple rule based chatbot we can utilize the  nltk.chat.util   utility to easy up process of building the chatbot. This needs data in certain format which we can plan to prepare."
   ]
  },
  {
   "cell_type": "code",
   "execution_count": 3,
   "id": "8a148763",
   "metadata": {},
   "outputs": [],
   "source": [
    "dic_cb = cb_df.to_dict()"
   ]
  },
  {
   "cell_type": "code",
   "execution_count": 4,
   "id": "cf6f4131",
   "metadata": {},
   "outputs": [],
   "source": [
    "def get_recursively(search_dict, field):\n",
    "    \"\"\"\n",
    "    Takes a dict with nested lists and dicts,\n",
    "    and searches all dicts for a key of the field\n",
    "    provided.\n",
    "    \"\"\"\n",
    "    fields_found = []\n",
    "\n",
    "    for key, value in search_dict.items():\n",
    "\n",
    "        if key == field:\n",
    "            fields_found.append(value)\n",
    "\n",
    "        elif isinstance(value, dict):\n",
    "            results = get_recursively(value, field)\n",
    "            for result in results:\n",
    "                fields_found.append(result)\n",
    "\n",
    "        elif isinstance(value, list):\n",
    "            for item in value:\n",
    "                if isinstance(item, dict):\n",
    "                    more_results = get_recursively(item, field)\n",
    "                    for another_result in more_results:\n",
    "                        fields_found.append(another_result)\n",
    "\n",
    "    return tuple(fields_found)\n"
   ]
  },
  {
   "cell_type": "code",
   "execution_count": 5,
   "id": "d8f69f02",
   "metadata": {},
   "outputs": [],
   "source": [
    "list_of_patterns = get_recursively(dic_cb,\"patterns\")\n",
    "list_of_responses = get_recursively(dic_cb,\"responses\")\n",
    "\n",
    "chatBot_list=[]\n",
    "for i in range(0,len(list_of_patterns)):\n",
    "    listToStr_prefix='r\"'\n",
    "    listToStr=''\n",
    "    for j in list_of_patterns[i]:\n",
    "        listToStr = ''.join([str(elem) for elem in j])\n",
    "        listToStr_prefix =   listToStr_prefix + \"|\" + listToStr\n",
    "    listToStr_prefix = listToStr_prefix  + '\"'\n",
    "    list_temp = [listToStr_prefix,list_of_responses[i]]\n",
    "    chatBot_list.append(list_temp)"
   ]
  },
  {
   "cell_type": "code",
   "execution_count": 6,
   "id": "80cfac73",
   "metadata": {},
   "outputs": [
    {
     "name": "stdout",
     "output_type": "stream",
     "text": [
      "Hi! I am a chatbot assistant from great learning\n",
      ">hi\n",
      "Hello! how can i help you ?\n",
      ">How are you\n",
      "Hello! how can i help you ?\n",
      ">what is your name\n",
      "I am your virtual learning assistant\n",
      ">hours of working\n",
      "None\n",
      ">neural network\n",
      "None\n",
      ">artificial intelligence\n",
      "Link: Neural Nets wiki\n",
      ">softmax\n",
      "Link: Neural Nets wiki\n",
      ">ada boosting\n",
      "Link: Machine Learning wiki \n",
      ">supervised learning\n",
      "Link: Machine Learning wiki \n",
      ">no link visible on olympus\n",
      "Link: Olympus wiki\n",
      ">have a Good day\n",
      "I hope I was able to assist you, Good Bye\n",
      ">not helping\n",
      "None\n",
      ">my problem is not solved\n",
      "Tarnsferring the request to your PM\n",
      ">you are stupid\n",
      "Hello! how can i help you ?\n",
      ">you are a joke\n",
      "Hello! how can i help you ?\n",
      ">quit\n",
      "None\n"
     ]
    }
   ],
   "source": [
    "def chat():\n",
    "    print(\"Hi! I am a chatbot assistant from great learning\")\n",
    "    chat = Chat(chatBot_list, reflections)\n",
    "    chat.converse()\n",
    "#initiate the conversation\n",
    "if __name__ == \"__main__\":\n",
    "    chat()"
   ]
  },
  {
   "cell_type": "markdown",
   "id": "dbe90c83",
   "metadata": {},
   "source": [
    "    As we can observe this is a basic set up and needs a lot of improvement. This chat bot matches exact pattern in the intent and throws responses. There is no generalization involved in these chatbot and needs machine learning to be applied to improve performance. We can apply a simple neural network and check if the chatbot is giving  appropriate response after generalization."
   ]
  },
  {
   "cell_type": "markdown",
   "id": "45f7134d",
   "metadata": {},
   "source": [
    "    lets create content using json file, we shall divide the data as X and Y variable for training purpose. Here we will have use the intent as X variable and Y as tags. From tags we will reterive the response. "
   ]
  },
  {
   "cell_type": "code",
   "execution_count": 7,
   "id": "3788ec07",
   "metadata": {},
   "outputs": [],
   "source": [
    "import json\n",
    "\n",
    "with open('./GL_Bot.json') as f:\n",
    "    data = json.load(f)"
   ]
  },
  {
   "cell_type": "code",
   "execution_count": 8,
   "id": "4a0429a7",
   "metadata": {},
   "outputs": [],
   "source": [
    "Word_list=[]\n",
    "Lable_list=[]\n",
    "\n",
    "doc_Xtrain = []\n",
    "doc_Ytrain = []\n",
    "\n",
    "for intent in data['intents']:\n",
    "    for patterns in intent['patterns']:\n",
    "        word_temp = nltk.word_tokenize(patterns)\n",
    "        Word_list.extend(word_temp)\n",
    "        doc_Xtrain.append(word_temp)\n",
    "        doc_Ytrain.append(intent['tag'])\n",
    "        \n",
    "    if intent['tag'] not in Lable_list:\n",
    "        Lable_list.append(intent['tag'])"
   ]
  },
  {
   "cell_type": "code",
   "execution_count": 9,
   "id": "748b1f92",
   "metadata": {},
   "outputs": [],
   "source": [
    "ps = nltk.porter.PorterStemmer()\n",
    "# W = [ps.stem(w.lower()) for w in Word_list if w != \"?\"]\n",
    "Word_list = [w.lower() for w in Word_list if w != \"?\"]\n",
    "Word_list = sorted(list(set(Word_list)))\n",
    "Lable_list = sorted(Lable_list)"
   ]
  },
  {
   "cell_type": "code",
   "execution_count": 10,
   "id": "8ce28224",
   "metadata": {},
   "outputs": [
    {
     "data": {
      "text/plain": [
       "8"
      ]
     },
     "execution_count": 10,
     "metadata": {},
     "output_type": "execute_result"
    }
   ],
   "source": [
    "len(Lable_list)"
   ]
  },
  {
   "cell_type": "markdown",
   "id": "e9a1a2f6",
   "metadata": {},
   "source": [
    "    Creating Bag Of Words for the input words"
   ]
  },
  {
   "cell_type": "code",
   "execution_count": 11,
   "id": "6c2230cb",
   "metadata": {},
   "outputs": [],
   "source": [
    "Train = []\n",
    "Target = []\n",
    "\n",
    "out_array_zero = [0 for _ in range(len(Lable_list))]\n",
    "\n",
    "for x,doc in enumerate(doc_Xtrain):\n",
    "    bag=[]\n",
    "    w_temp = [w.lower() for w in doc]\n",
    "#     w_temp = [ps.stem(w.lower()) for w in doc]\n",
    "    \n",
    "    for w in Word_list:\n",
    "        if w in w_temp:\n",
    "            bag.append(1)\n",
    "        else:\n",
    "            bag.append(0)\n",
    "            \n",
    "    output_row = out_array_zero[:]\n",
    "    output_row[Lable_list.index(doc_Ytrain[x])] = 1\n",
    "    \n",
    "    Train.append(bag)\n",
    "    Target.append(output_row)"
   ]
  },
  {
   "cell_type": "code",
   "execution_count": 12,
   "id": "38611f1f",
   "metadata": {},
   "outputs": [
    {
     "name": "stdout",
     "output_type": "stream",
     "text": [
      "(128, 160)\n",
      "(128, 8)\n"
     ]
    }
   ],
   "source": [
    "bow_xtrain = np.asarray(Train)\n",
    "bow_ytrain = np.asarray(Target)\n",
    "print(bow_xtrain.shape)\n",
    "print(bow_ytrain.shape)"
   ]
  },
  {
   "cell_type": "code",
   "execution_count": 13,
   "id": "bd5ec8bb",
   "metadata": {},
   "outputs": [
    {
     "name": "stdout",
     "output_type": "stream",
     "text": [
      "Test accuracy is 1.0\n"
     ]
    }
   ],
   "source": [
    "from sklearn.svm import LinearSVC\n",
    "from sklearn.pipeline import Pipeline\n",
    "from sklearn.multiclass import OneVsRestClassifier\n",
    "from sklearn.metrics import accuracy_score\n",
    "\n",
    "SVC_pipeline = Pipeline([\n",
    "                ('clf', OneVsRestClassifier(LinearSVC(), n_jobs=-1)),\n",
    "            ])\n",
    "\n",
    "SVC_pipeline.fit(bow_xtrain, bow_ytrain)\n",
    "# compute the testing accuracy\n",
    "prediction = SVC_pipeline.predict(bow_xtrain)\n",
    "print('Test accuracy is {}'.format(accuracy_score(bow_ytrain, prediction)))"
   ]
  },
  {
   "cell_type": "markdown",
   "id": "a98af036",
   "metadata": {},
   "source": [
    "    This model looks like it is a overfitting one and hence we have to try with Neural network model."
   ]
  },
  {
   "cell_type": "code",
   "execution_count": 14,
   "id": "925303f1",
   "metadata": {},
   "outputs": [
    {
     "name": "stderr",
     "output_type": "stream",
     "text": [
      "D:\\anaconda\\envs\\modin\\lib\\site-packages\\tensorflow\\python\\framework\\dtypes.py:516: FutureWarning: Passing (type, 1) or '1type' as a synonym of type is deprecated; in a future version of numpy, it will be understood as (type, (1,)) / '(1,)type'.\n",
      "  _np_qint8 = np.dtype([(\"qint8\", np.int8, 1)])\n",
      "D:\\anaconda\\envs\\modin\\lib\\site-packages\\tensorflow\\python\\framework\\dtypes.py:517: FutureWarning: Passing (type, 1) or '1type' as a synonym of type is deprecated; in a future version of numpy, it will be understood as (type, (1,)) / '(1,)type'.\n",
      "  _np_quint8 = np.dtype([(\"quint8\", np.uint8, 1)])\n",
      "D:\\anaconda\\envs\\modin\\lib\\site-packages\\tensorflow\\python\\framework\\dtypes.py:518: FutureWarning: Passing (type, 1) or '1type' as a synonym of type is deprecated; in a future version of numpy, it will be understood as (type, (1,)) / '(1,)type'.\n",
      "  _np_qint16 = np.dtype([(\"qint16\", np.int16, 1)])\n",
      "D:\\anaconda\\envs\\modin\\lib\\site-packages\\tensorflow\\python\\framework\\dtypes.py:519: FutureWarning: Passing (type, 1) or '1type' as a synonym of type is deprecated; in a future version of numpy, it will be understood as (type, (1,)) / '(1,)type'.\n",
      "  _np_quint16 = np.dtype([(\"quint16\", np.uint16, 1)])\n",
      "D:\\anaconda\\envs\\modin\\lib\\site-packages\\tensorflow\\python\\framework\\dtypes.py:520: FutureWarning: Passing (type, 1) or '1type' as a synonym of type is deprecated; in a future version of numpy, it will be understood as (type, (1,)) / '(1,)type'.\n",
      "  _np_qint32 = np.dtype([(\"qint32\", np.int32, 1)])\n",
      "D:\\anaconda\\envs\\modin\\lib\\site-packages\\tensorflow\\python\\framework\\dtypes.py:525: FutureWarning: Passing (type, 1) or '1type' as a synonym of type is deprecated; in a future version of numpy, it will be understood as (type, (1,)) / '(1,)type'.\n",
      "  np_resource = np.dtype([(\"resource\", np.ubyte, 1)])\n",
      "D:\\anaconda\\envs\\modin\\lib\\site-packages\\tensorboard\\compat\\tensorflow_stub\\dtypes.py:541: FutureWarning: Passing (type, 1) or '1type' as a synonym of type is deprecated; in a future version of numpy, it will be understood as (type, (1,)) / '(1,)type'.\n",
      "  _np_qint8 = np.dtype([(\"qint8\", np.int8, 1)])\n",
      "D:\\anaconda\\envs\\modin\\lib\\site-packages\\tensorboard\\compat\\tensorflow_stub\\dtypes.py:542: FutureWarning: Passing (type, 1) or '1type' as a synonym of type is deprecated; in a future version of numpy, it will be understood as (type, (1,)) / '(1,)type'.\n",
      "  _np_quint8 = np.dtype([(\"quint8\", np.uint8, 1)])\n",
      "D:\\anaconda\\envs\\modin\\lib\\site-packages\\tensorboard\\compat\\tensorflow_stub\\dtypes.py:543: FutureWarning: Passing (type, 1) or '1type' as a synonym of type is deprecated; in a future version of numpy, it will be understood as (type, (1,)) / '(1,)type'.\n",
      "  _np_qint16 = np.dtype([(\"qint16\", np.int16, 1)])\n",
      "D:\\anaconda\\envs\\modin\\lib\\site-packages\\tensorboard\\compat\\tensorflow_stub\\dtypes.py:544: FutureWarning: Passing (type, 1) or '1type' as a synonym of type is deprecated; in a future version of numpy, it will be understood as (type, (1,)) / '(1,)type'.\n",
      "  _np_quint16 = np.dtype([(\"quint16\", np.uint16, 1)])\n",
      "D:\\anaconda\\envs\\modin\\lib\\site-packages\\tensorboard\\compat\\tensorflow_stub\\dtypes.py:545: FutureWarning: Passing (type, 1) or '1type' as a synonym of type is deprecated; in a future version of numpy, it will be understood as (type, (1,)) / '(1,)type'.\n",
      "  _np_qint32 = np.dtype([(\"qint32\", np.int32, 1)])\n",
      "D:\\anaconda\\envs\\modin\\lib\\site-packages\\tensorboard\\compat\\tensorflow_stub\\dtypes.py:550: FutureWarning: Passing (type, 1) or '1type' as a synonym of type is deprecated; in a future version of numpy, it will be understood as (type, (1,)) / '(1,)type'.\n",
      "  np_resource = np.dtype([(\"resource\", np.ubyte, 1)])\n"
     ]
    },
    {
     "name": "stdout",
     "output_type": "stream",
     "text": [
      "WARNING:tensorflow:From D:\\anaconda\\envs\\modin\\lib\\site-packages\\tensorflow\\python\\ops\\init_ops.py:1251: calling VarianceScaling.__init__ (from tensorflow.python.ops.init_ops) with dtype is deprecated and will be removed in a future version.\n",
      "Instructions for updating:\n",
      "Call initializer instance with the dtype argument instead of passing it to the constructor\n",
      "Model: \"sequential\"\n",
      "_________________________________________________________________\n",
      "Layer (type)                 Output Shape              Param #   \n",
      "=================================================================\n",
      "dense (Dense)                (None, 160)               25760     \n",
      "_________________________________________________________________\n",
      "dropout (Dropout)            (None, 160)               0         \n",
      "_________________________________________________________________\n",
      "dense_1 (Dense)              (None, 50)                8050      \n",
      "_________________________________________________________________\n",
      "dropout_1 (Dropout)          (None, 50)                0         \n",
      "_________________________________________________________________\n",
      "dense_2 (Dense)              (None, 8)                 408       \n",
      "=================================================================\n",
      "Total params: 34,218\n",
      "Trainable params: 34,218\n",
      "Non-trainable params: 0\n",
      "_________________________________________________________________\n",
      "Epoch 1/60\n",
      "128/128 [==============================] - 0s 2ms/sample - loss: 2.0928 - acc: 0.1328\n",
      "Epoch 2/60\n",
      "128/128 [==============================] - 0s 125us/sample - loss: 2.0625 - acc: 0.1484\n",
      "Epoch 3/60\n",
      "128/128 [==============================] - 0s 203us/sample - loss: 2.0514 - acc: 0.1641\n",
      "Epoch 4/60\n",
      "128/128 [==============================] - 0s 203us/sample - loss: 2.0222 - acc: 0.2266\n",
      "Epoch 5/60\n",
      "128/128 [==============================] - 0s 148us/sample - loss: 1.9986 - acc: 0.2266\n",
      "Epoch 6/60\n",
      "128/128 [==============================] - 0s 148us/sample - loss: 1.9735 - acc: 0.3047\n",
      "Epoch 7/60\n",
      "128/128 [==============================] - 0s 242us/sample - loss: 1.9165 - acc: 0.4375\n",
      "Epoch 8/60\n",
      "128/128 [==============================] - 0s 211us/sample - loss: 1.9223 - acc: 0.3203\n",
      "Epoch 9/60\n",
      "128/128 [==============================] - 0s 180us/sample - loss: 1.8686 - acc: 0.4141\n",
      "Epoch 10/60\n",
      "128/128 [==============================] - 0s 250us/sample - loss: 1.8498 - acc: 0.4141\n",
      "Epoch 11/60\n",
      "128/128 [==============================] - 0s 188us/sample - loss: 1.7992 - acc: 0.4531\n",
      "Epoch 12/60\n",
      "128/128 [==============================] - 0s 180us/sample - loss: 1.7555 - acc: 0.4609\n",
      "Epoch 13/60\n",
      "128/128 [==============================] - 0s 125us/sample - loss: 1.7313 - acc: 0.4375\n",
      "Epoch 14/60\n",
      "128/128 [==============================] - 0s 133us/sample - loss: 1.7270 - acc: 0.4844\n",
      "Epoch 15/60\n",
      "128/128 [==============================] - 0s 102us/sample - loss: 1.6686 - acc: 0.4844\n",
      "Epoch 16/60\n",
      "128/128 [==============================] - 0s 180us/sample - loss: 1.6266 - acc: 0.5625\n",
      "Epoch 17/60\n",
      "128/128 [==============================] - 0s 94us/sample - loss: 1.5886 - acc: 0.5156\n",
      "Epoch 18/60\n",
      "128/128 [==============================] - 0s 164us/sample - loss: 1.5846 - acc: 0.5469\n",
      "Epoch 19/60\n",
      "128/128 [==============================] - 0s 133us/sample - loss: 1.4940 - acc: 0.6094\n",
      "Epoch 20/60\n",
      "128/128 [==============================] - 0s 125us/sample - loss: 1.4583 - acc: 0.6484\n",
      "Epoch 21/60\n",
      "128/128 [==============================] - 0s 126us/sample - loss: 1.4099 - acc: 0.6562\n",
      "Epoch 22/60\n",
      "128/128 [==============================] - 0s 148us/sample - loss: 1.3369 - acc: 0.7188\n",
      "Epoch 23/60\n",
      "128/128 [==============================] - 0s 172us/sample - loss: 1.3281 - acc: 0.6328\n",
      "Epoch 24/60\n",
      "128/128 [==============================] - 0s 211us/sample - loss: 1.2074 - acc: 0.7188\n",
      "Epoch 25/60\n",
      "128/128 [==============================] - 0s 187us/sample - loss: 1.1818 - acc: 0.7344\n",
      "Epoch 26/60\n",
      "128/128 [==============================] - 0s 203us/sample - loss: 1.1080 - acc: 0.7500\n",
      "Epoch 27/60\n",
      "128/128 [==============================] - 0s 219us/sample - loss: 1.0985 - acc: 0.7812\n",
      "Epoch 28/60\n",
      "128/128 [==============================] - 0s 148us/sample - loss: 1.0691 - acc: 0.7734\n",
      "Epoch 29/60\n",
      "128/128 [==============================] - 0s 133us/sample - loss: 0.9927 - acc: 0.8438\n",
      "Epoch 30/60\n",
      "128/128 [==============================] - 0s 148us/sample - loss: 0.9691 - acc: 0.7891\n",
      "Epoch 31/60\n",
      "128/128 [==============================] - 0s 117us/sample - loss: 0.9404 - acc: 0.8125\n",
      "Epoch 32/60\n",
      "128/128 [==============================] - 0s 102us/sample - loss: 0.8035 - acc: 0.8438\n",
      "Epoch 33/60\n",
      "128/128 [==============================] - 0s 102us/sample - loss: 0.8144 - acc: 0.8359\n",
      "Epoch 34/60\n",
      "128/128 [==============================] - 0s 172us/sample - loss: 0.7931 - acc: 0.8672\n",
      "Epoch 35/60\n",
      "128/128 [==============================] - 0s 125us/sample - loss: 0.7393 - acc: 0.8750\n",
      "Epoch 36/60\n",
      "128/128 [==============================] - 0s 141us/sample - loss: 0.6461 - acc: 0.9375\n",
      "Epoch 37/60\n",
      "128/128 [==============================] - 0s 133us/sample - loss: 0.6458 - acc: 0.9219\n",
      "Epoch 38/60\n",
      "128/128 [==============================] - 0s 117us/sample - loss: 0.5820 - acc: 0.9297\n",
      "Epoch 39/60\n",
      "128/128 [==============================] - 0s 164us/sample - loss: 0.5894 - acc: 0.8828\n",
      "Epoch 40/60\n",
      "128/128 [==============================] - 0s 141us/sample - loss: 0.4966 - acc: 0.9141\n",
      "Epoch 41/60\n",
      "128/128 [==============================] - 0s 172us/sample - loss: 0.5374 - acc: 0.8750\n",
      "Epoch 42/60\n",
      "128/128 [==============================] - 0s 289us/sample - loss: 0.5056 - acc: 0.9141\n",
      "Epoch 43/60\n",
      "128/128 [==============================] - 0s 266us/sample - loss: 0.4873 - acc: 0.9297\n",
      "Epoch 44/60\n",
      "128/128 [==============================] - 0s 132us/sample - loss: 0.4573 - acc: 0.9297\n",
      "Epoch 45/60\n",
      "128/128 [==============================] - 0s 234us/sample - loss: 0.4159 - acc: 0.9531\n",
      "Epoch 46/60\n",
      "128/128 [==============================] - 0s 180us/sample - loss: 0.3672 - acc: 0.9531\n",
      "Epoch 47/60\n",
      "128/128 [==============================] - 0s 219us/sample - loss: 0.3049 - acc: 0.9688\n",
      "Epoch 48/60\n",
      "128/128 [==============================] - 0s 164us/sample - loss: 0.3264 - acc: 0.9609\n",
      "Epoch 49/60\n",
      "128/128 [==============================] - 0s 164us/sample - loss: 0.3324 - acc: 0.9609\n",
      "Epoch 50/60\n",
      "128/128 [==============================] - 0s 187us/sample - loss: 0.3249 - acc: 0.9375\n",
      "Epoch 51/60\n",
      "128/128 [==============================] - 0s 180us/sample - loss: 0.2349 - acc: 0.9766\n",
      "Epoch 52/60\n",
      "128/128 [==============================] - 0s 172us/sample - loss: 0.2987 - acc: 0.9297\n",
      "Epoch 53/60\n",
      "128/128 [==============================] - 0s 133us/sample - loss: 0.2155 - acc: 0.9766\n",
      "Epoch 54/60\n",
      "128/128 [==============================] - 0s 187us/sample - loss: 0.2712 - acc: 0.9766\n",
      "Epoch 55/60\n",
      "128/128 [==============================] - 0s 203us/sample - loss: 0.2174 - acc: 0.9844\n",
      "Epoch 56/60\n",
      "128/128 [==============================] - 0s 141us/sample - loss: 0.2175 - acc: 0.9766\n",
      "Epoch 57/60\n",
      "128/128 [==============================] - 0s 180us/sample - loss: 0.1502 - acc: 1.0000\n",
      "Epoch 58/60\n",
      "128/128 [==============================] - 0s 164us/sample - loss: 0.1976 - acc: 0.9844\n",
      "Epoch 59/60\n",
      "128/128 [==============================] - 0s 117us/sample - loss: 0.1731 - acc: 0.9609\n",
      "Epoch 60/60\n",
      "128/128 [==============================] - 0s 117us/sample - loss: 0.1841 - acc: 0.9766\n"
     ]
    },
    {
     "data": {
      "text/plain": [
       "<tensorflow.python.keras.callbacks.History at 0x173ac6f45c0>"
      ]
     },
     "execution_count": 14,
     "metadata": {},
     "output_type": "execute_result"
    }
   ],
   "source": [
    "import tensorflow as tf\n",
    "#Start building a Keras Sequential Model\n",
    "tf.keras.backend.clear_session()\n",
    "model = tf.keras.Sequential()\n",
    "\n",
    "#Add hidden layers\n",
    "model.add(tf.keras.layers.Dense(160, activation='relu',input_shape =(160, )))\n",
    "model.add(tf.keras.layers.Dropout(0.4))\n",
    "model.add(tf.keras.layers.Dense(50, activation='relu'))\n",
    "model.add(tf.keras.layers.Dropout(0.4))\n",
    "\n",
    "#Add Output layer\n",
    "model.add(tf.keras.layers.Dense(8, activation='softmax'))\n",
    "\n",
    "#Compile the model\n",
    "model.compile(optimizer='adam', loss='categorical_crossentropy', metrics=['accuracy'])\n",
    "\n",
    "model.summary()\n",
    "\n",
    "model.fit(bow_xtrain, bow_ytrain,epochs=60, batch_size=32)"
   ]
  },
  {
   "cell_type": "markdown",
   "id": "638940d5",
   "metadata": {},
   "source": [
    "    Here the model is loss is reducing but the accuracy is close to 100%, so lets check the model performance with real data."
   ]
  },
  {
   "cell_type": "markdown",
   "id": "f8da64b2",
   "metadata": {},
   "source": [
    "    Using BOW to create a vector which will be used to create model and we shall also check performance."
   ]
  },
  {
   "cell_type": "code",
   "execution_count": 15,
   "id": "b3e7a73b",
   "metadata": {},
   "outputs": [],
   "source": [
    "def bag_of_words(inp,W):\n",
    "    w_temp1 = [ps.stem(w.lower()) for w in inp]\n",
    "    bag=[]\n",
    "    for w in W:\n",
    "        if w in w_temp1:\n",
    "            bag.append(1)\n",
    "        else:\n",
    "            bag.append(0)\n",
    "    return np.asarray(bag)"
   ]
  },
  {
   "cell_type": "code",
   "execution_count": 16,
   "id": "25418dd4",
   "metadata": {},
   "outputs": [
    {
     "name": "stdout",
     "output_type": "stream",
     "text": [
      "First preferred tag for intent :: ['Whats up']  is  NN\n",
      "First preferred tag for intent :: ['Help']  is  Ticket\n",
      "First preferred tag for intent :: ['hi']  is  Intro\n",
      "First preferred tag for intent :: ['how are you']  is  NN\n",
      "First preferred tag for intent :: ['is anyone there']  is  NN\n",
      "First preferred tag for intent :: ['hello']  is  Intro\n",
      "First preferred tag for intent :: ['whats up']  is  NN\n",
      "First preferred tag for intent :: ['hey']  is  Intro\n",
      "First preferred tag for intent :: ['yo']  is  Intro\n",
      "First preferred tag for intent :: ['listen']  is  Intro\n",
      "First preferred tag for intent :: ['please help me']  is  NN\n",
      "First preferred tag for intent :: ['i am learner from']  is  NN\n",
      "First preferred tag for intent :: ['i belong to']  is  NN\n",
      "First preferred tag for intent :: ['aiml batch']  is  NN\n",
      "First preferred tag for intent :: ['aifl batch']  is  NN\n",
      "First preferred tag for intent :: ['i am from']  is  NN\n",
      "First preferred tag for intent :: ['my pm is']  is  NN\n",
      "First preferred tag for intent :: ['blended']  is  NN\n",
      "First preferred tag for intent :: ['online']  is  NN\n",
      "First preferred tag for intent :: ['i am from']  is  NN\n",
      "First preferred tag for intent :: ['hey ya']  is  NN\n",
      "First preferred tag for intent :: ['talking to you for first time']  is  NN\n"
     ]
    }
   ],
   "source": [
    "for i in [[\"Whats up\"],[\"Help\"],[\"hi\"] ,[\"how are you\"] ,[\"is anyone there\"] ,[\"hello\"] ,[\"whats up\"],[\"hey\"],[\"yo\"],[\"listen\"] ,[\"please help me\"],[\"i am learner from\"],[\"i belong to\"],[\"aiml batch\"],[\"aifl batch\"],[\"i am from\"],[\"my pm is\"],[\"blended\"],[\"online\"] ,[\"i am from\"],[\"hey ya\"],[\"talking to you for first time\"]]:\n",
    "    input_as_bow = np.asarray(bag_of_words(i,Word_list))\n",
    "    input_as_bow_reshaped = input_as_bow.reshape(1,160)\n",
    "    prediction = model.predict(input_as_bow_reshaped)\n",
    "    #below code can be used to check second preference of the bot\n",
    "    #flat=model.predict(input_as_bow_reshaped).flatten()\n",
    "    #flat.sort()\n",
    "    #print(\"Second preferred tag for intent :: \", i , \" is \", Lable_list[int(np.where(prediction==flat[-2])[1])])\n",
    "    print(\"First preferred tag for intent ::\", i , \" is \" , Lable_list[np.argmax(model.predict(input_as_bow_reshaped))])"
   ]
  },
  {
   "cell_type": "markdown",
   "id": "238e5673",
   "metadata": {},
   "source": [
    "    The model seems to be working fine but we can improvise by trying different vectorization mechanism. We shall use TFIDF and one-hot encoding on the tag to get better result. Bag of words seems to be very basic way and TF-IDF may help us imprvise the chabot system."
   ]
  },
  {
   "cell_type": "code",
   "execution_count": 20,
   "id": "83bd9aa5",
   "metadata": {},
   "outputs": [
    {
     "name": "stdout",
     "output_type": "stream",
     "text": [
      "[[0. 0. 1. ... 0. 0. 0.]\n",
      " [0. 0. 1. ... 0. 0. 0.]\n",
      " [0. 0. 1. ... 0. 0. 0.]\n",
      " ...\n",
      " [0. 0. 0. ... 0. 0. 1.]\n",
      " [0. 0. 0. ... 0. 0. 1.]\n",
      " [0. 0. 0. ... 0. 0. 1.]]\n"
     ]
    }
   ],
   "source": [
    "#One hot encoding the input vector - tag\n",
    "from sklearn.preprocessing import OneHotEncoder\n",
    "from sklearn import preprocessing\n",
    "encoder = preprocessing.OneHotEncoder(handle_unknown='ignore')\n",
    "y = np.array(doc_Ytrain)\n",
    "y = y.reshape(-1,1)\n",
    "encoder.fit(y)\n",
    "y_oh = encoder.transform(y).toarray()\n",
    "print(y_oh)"
   ]
  },
  {
   "cell_type": "code",
   "execution_count": 32,
   "id": "b4520759",
   "metadata": {},
   "outputs": [
    {
     "name": "stdout",
     "output_type": "stream",
     "text": [
      "['hi', 'how are you', 'is anyone there', 'hello', 'whats up', 'hey', 'yo', 'listen', 'please help me', 'i am learner from', 'i belong to', 'aiml batch', 'aifl batch', 'i am from', 'my pm is', 'blended', 'online', 'i am from', 'hey ya', 'talking to you for first time', 'thank you', 'thanks', 'cya', 'see you', 'later', 'see you later', 'goodbye', 'i am leaving', 'have a Good day', 'you helped me', 'thanks a lot', 'thanks a ton', 'you are the best', 'great help', 'too good', 'you are a good learning buddy', 'olympus', 'explain me how olympus works', 'I am not able to understand olympus', 'olympus window not working', 'no access to olympus', 'unable to see link in olympus', 'no link visible on olympus', 'whom to contact for olympus', 'lot of problem with olympus', 'olypus is not a good tool', 'lot of problems with olympus', 'how to use olympus', 'teach me olympus', 'i am not able to understand svm', 'explain me how machine learning works', 'i am not able to understand naive bayes', 'i am not able to understand logistic regression', 'i am not able to understand ensemble techb=niques', 'i am not able to understand knn', 'i am not able to understand knn imputer', 'i am not able to understand cross validation', 'i am not able to understand boosting', 'i am not able to understand random forest', 'i am not able to understand ada boosting', 'i am not able to understand gradient boosting', 'machine learning', 'ML', 'SL', 'supervised learning', 'knn', 'logistic regression', 'regression', 'classification', 'naive bayes', 'nb', 'ensemble techniques', 'bagging', 'boosting', 'ada boosting', 'ada', 'gradient boosting', 'hyper parameters', 'what is deep learning', 'unable to understand deep learning', 'explain me how deep learning works', 'i am not able to understand deep learning', 'not able to understand neural nets', 'very diffult to understand neural nets', 'unable to understand neural nets', 'ann', 'artificial intelligence', 'artificial neural networks', 'weights', 'activation function', 'hidden layers', 'softmax', 'sigmoid', 'relu', 'otimizer', 'forward propagation', 'backward propagation', 'epochs', 'epoch', 'what is an epoch', 'adam', 'sgd', 'what is your name', 'who are you', 'name please', 'when are your hours of opertions', 'what are your working hours', 'hours of operation', 'working hours', 'hours', 'what the hell', 'bloody stupid bot', 'do you think you are very smart', 'screw you', 'i hate you', 'you are stupid', 'jerk', 'you are a joke', 'useless piece of shit', 'my problem is not solved', 'you did not help me', 'not a good solution', 'bad solution', 'not good solution', 'no help', 'wasted my time', 'useless bot', 'create a ticket']\n"
     ]
    }
   ],
   "source": [
    "#creating corpus in below cell\n",
    "cr = []\n",
    "for i in doc_Xtrain:\n",
    "    a = ' '.join([str(elem) for elem in i]) \n",
    "    cr.append(a)\n",
    "    \n",
    "print(cr)"
   ]
  },
  {
   "cell_type": "code",
   "execution_count": 22,
   "id": "ba926de7",
   "metadata": {},
   "outputs": [
    {
     "name": "stdout",
     "output_type": "stream",
     "text": [
      "(128, 159)\n"
     ]
    }
   ],
   "source": [
    "#vectorizing the corpus\n",
    "from sklearn.feature_extraction.text import TfidfVectorizer\n",
    "corpus = cr\n",
    "\n",
    "vectorizer = TfidfVectorizer()\n",
    "iX = vectorizer.fit_transform(corpus)\n",
    "print(iX.shape)"
   ]
  },
  {
   "cell_type": "code",
   "execution_count": 23,
   "id": "e3632cb3",
   "metadata": {},
   "outputs": [
    {
     "name": "stdout",
     "output_type": "stream",
     "text": [
      "  (0, 157)\t0.4960467936046329\n",
      "  (0, 59)\t0.6536437985925223\n",
      "  (0, 11)\t0.5715657119842836\n"
     ]
    }
   ],
   "source": [
    "#checking the exa\n",
    "inpX = vectorizer.transform([\"how are you\"])\n",
    "print(inpX)"
   ]
  },
  {
   "cell_type": "code",
   "execution_count": 24,
   "id": "eca50114",
   "metadata": {},
   "outputs": [
    {
     "name": "stdout",
     "output_type": "stream",
     "text": [
      "Model: \"sequential\"\n",
      "_________________________________________________________________\n",
      "Layer (type)                 Output Shape              Param #   \n",
      "=================================================================\n",
      "dense (Dense)                (None, 159)               25440     \n",
      "_________________________________________________________________\n",
      "dropout (Dropout)            (None, 159)               0         \n",
      "_________________________________________________________________\n",
      "dense_1 (Dense)              (None, 50)                8000      \n",
      "_________________________________________________________________\n",
      "dropout_1 (Dropout)          (None, 50)                0         \n",
      "_________________________________________________________________\n",
      "dense_2 (Dense)              (None, 8)                 408       \n",
      "=================================================================\n",
      "Total params: 33,848\n",
      "Trainable params: 33,848\n",
      "Non-trainable params: 0\n",
      "_________________________________________________________________\n",
      "Epoch 1/40\n",
      "128/128 [==============================] - 0s 1ms/sample - loss: 2.0786 - acc: 0.1953\n",
      "Epoch 2/40\n",
      "128/128 [==============================] - 0s 141us/sample - loss: 2.0674 - acc: 0.1562\n",
      "Epoch 3/40\n",
      "128/128 [==============================] - 0s 180us/sample - loss: 2.0423 - acc: 0.2500\n",
      "Epoch 4/40\n",
      "128/128 [==============================] - 0s 172us/sample - loss: 2.0285 - acc: 0.1797\n",
      "Epoch 5/40\n",
      "128/128 [==============================] - 0s 164us/sample - loss: 2.0152 - acc: 0.2500\n",
      "Epoch 6/40\n",
      "128/128 [==============================] - 0s 242us/sample - loss: 1.9830 - acc: 0.2812\n",
      "Epoch 7/40\n",
      "128/128 [==============================] - 0s 164us/sample - loss: 1.9589 - acc: 0.3047\n",
      "Epoch 8/40\n",
      "128/128 [==============================] - 0s 195us/sample - loss: 1.9498 - acc: 0.2812\n",
      "Epoch 9/40\n",
      "128/128 [==============================] - 0s 188us/sample - loss: 1.8932 - acc: 0.3125\n",
      "Epoch 10/40\n",
      "128/128 [==============================] - 0s 148us/sample - loss: 1.8937 - acc: 0.3359\n",
      "Epoch 11/40\n",
      "128/128 [==============================] - 0s 211us/sample - loss: 1.8646 - acc: 0.3516\n",
      "Epoch 12/40\n",
      "128/128 [==============================] - 0s 180us/sample - loss: 1.8251 - acc: 0.3516\n",
      "Epoch 13/40\n",
      "128/128 [==============================] - 0s 133us/sample - loss: 1.8185 - acc: 0.3750\n",
      "Epoch 14/40\n",
      "128/128 [==============================] - 0s 133us/sample - loss: 1.7611 - acc: 0.4141\n",
      "Epoch 15/40\n",
      "128/128 [==============================] - 0s 148us/sample - loss: 1.7410 - acc: 0.3984\n",
      "Epoch 16/40\n",
      "128/128 [==============================] - 0s 156us/sample - loss: 1.6964 - acc: 0.3750\n",
      "Epoch 17/40\n",
      "128/128 [==============================] - 0s 187us/sample - loss: 1.6665 - acc: 0.4375\n",
      "Epoch 18/40\n",
      "128/128 [==============================] - 0s 141us/sample - loss: 1.6370 - acc: 0.4375\n",
      "Epoch 19/40\n",
      "128/128 [==============================] - 0s 242us/sample - loss: 1.5775 - acc: 0.4688\n",
      "Epoch 20/40\n",
      "128/128 [==============================] - 0s 187us/sample - loss: 1.5286 - acc: 0.5547\n",
      "Epoch 21/40\n",
      "128/128 [==============================] - 0s 203us/sample - loss: 1.5283 - acc: 0.5156\n",
      "Epoch 22/40\n",
      "128/128 [==============================] - 0s 148us/sample - loss: 1.4733 - acc: 0.5625\n",
      "Epoch 23/40\n",
      "128/128 [==============================] - 0s 164us/sample - loss: 1.4070 - acc: 0.5781\n",
      "Epoch 24/40\n",
      "128/128 [==============================] - 0s 203us/sample - loss: 1.3576 - acc: 0.6406\n",
      "Epoch 25/40\n",
      "128/128 [==============================] - 0s 156us/sample - loss: 1.2842 - acc: 0.7266\n",
      "Epoch 26/40\n",
      "128/128 [==============================] - 0s 156us/sample - loss: 1.2427 - acc: 0.6484\n",
      "Epoch 27/40\n",
      "128/128 [==============================] - 0s 180us/sample - loss: 1.1792 - acc: 0.7109\n",
      "Epoch 28/40\n",
      "128/128 [==============================] - 0s 172us/sample - loss: 1.1757 - acc: 0.7266\n",
      "Epoch 29/40\n",
      "128/128 [==============================] - 0s 172us/sample - loss: 1.1222 - acc: 0.7656\n",
      "Epoch 30/40\n",
      "128/128 [==============================] - 0s 164us/sample - loss: 1.0663 - acc: 0.7344\n",
      "Epoch 31/40\n",
      "128/128 [==============================] - 0s 188us/sample - loss: 0.9728 - acc: 0.8203\n",
      "Epoch 32/40\n",
      "128/128 [==============================] - 0s 172us/sample - loss: 0.8970 - acc: 0.8516\n",
      "Epoch 33/40\n",
      "128/128 [==============================] - 0s 180us/sample - loss: 0.9039 - acc: 0.8125\n",
      "Epoch 34/40\n",
      "128/128 [==============================] - 0s 195us/sample - loss: 0.8929 - acc: 0.8359\n",
      "Epoch 35/40\n",
      "128/128 [==============================] - 0s 172us/sample - loss: 0.7776 - acc: 0.8828\n",
      "Epoch 36/40\n",
      "128/128 [==============================] - 0s 156us/sample - loss: 0.7171 - acc: 0.8984\n",
      "Epoch 37/40\n",
      "128/128 [==============================] - 0s 180us/sample - loss: 0.6690 - acc: 0.8906\n",
      "Epoch 38/40\n",
      "128/128 [==============================] - 0s 164us/sample - loss: 0.7065 - acc: 0.8828\n",
      "Epoch 39/40\n",
      "128/128 [==============================] - 0s 188us/sample - loss: 0.5542 - acc: 0.9297\n",
      "Epoch 40/40\n",
      "128/128 [==============================] - 0s 188us/sample - loss: 0.5712 - acc: 0.9062\n"
     ]
    },
    {
     "data": {
      "text/plain": [
       "<tensorflow.python.keras.callbacks.History at 0x173aab76b70>"
      ]
     },
     "execution_count": 24,
     "metadata": {},
     "output_type": "execute_result"
    }
   ],
   "source": [
    "import tensorflow as tf\n",
    "#building a Keras Sequential Model\n",
    "tf.keras.backend.clear_session()\n",
    "model1 = tf.keras.Sequential()\n",
    "\n",
    "#Add hidden layers\n",
    "model1.add(tf.keras.layers.Dense(159, activation='relu',input_shape =(159, )))\n",
    "model1.add(tf.keras.layers.Dropout(0.4))\n",
    "model1.add(tf.keras.layers.Dense(50, activation='relu'))\n",
    "model1.add(tf.keras.layers.Dropout(0.4))\n",
    "\n",
    "#Add Output layer\n",
    "model1.add(tf.keras.layers.Dense(8, activation='softmax'))\n",
    "\n",
    "#Compile the model\n",
    "model1.compile(optimizer='adam', loss='categorical_crossentropy', metrics=['accuracy'])\n",
    "\n",
    "model1.summary()\n",
    "\n",
    "model1.fit(iX,y_oh,epochs=40, batch_size=32)"
   ]
  },
  {
   "cell_type": "markdown",
   "id": "9a5ae282",
   "metadata": {},
   "source": [
    "    This model is having good accuracy and the loss is also decreasing. Observing both loss and accuracy, the model would perform better than rule based model."
   ]
  },
  {
   "cell_type": "code",
   "execution_count": 25,
   "id": "ec95bf81",
   "metadata": {},
   "outputs": [],
   "source": [
    "#getting responses for the tag\n",
    "def reply_responses(pred_tag):\n",
    "    for tg in data[\"intents\"]:\n",
    "        if tg['tag'] == pred_tag:\n",
    "            responses = tg['responses']\n",
    "            return responses"
   ]
  },
  {
   "cell_type": "code",
   "execution_count": 26,
   "id": "5fce2c5e",
   "metadata": {},
   "outputs": [
    {
     "name": "stdout",
     "output_type": "stream",
     "text": [
      "Input ::  ['thank you']\n",
      "Predicted tag :: Exit\n",
      "Response ::  ['I hope I was able to assist you, Good Bye']\n"
     ]
    }
   ],
   "source": [
    "#Check for single input\n",
    "inp1=[\"thank you\"]\n",
    "inpX = vectorizer.transform(inp1)\n",
    "pred_tag = (Lable_list[np.argmax(model1.predict(inpX))])\n",
    "        \n",
    "print(\"Input :: \", inp1)\n",
    "print(\"Predicted tag ::\", pred_tag)\n",
    "print(\"Response :: \", reply_responses(pred_tag))"
   ]
  },
  {
   "cell_type": "markdown",
   "id": "d9abaa9a",
   "metadata": {},
   "source": [
    "    Checking model performance for multiple input in below few cells"
   ]
  },
  {
   "cell_type": "code",
   "execution_count": 27,
   "id": "775cfca4",
   "metadata": {},
   "outputs": [
    {
     "name": "stdout",
     "output_type": "stream",
     "text": [
      "For intent  ['Whats up'] , tag is  Intro  and Response ::  ['Hello! how can i help you ?']\n",
      "For intent  ['Help'] , tag is  Ticket  and Response ::  ['Tarnsferring the request to your PM']\n",
      "For intent  ['hi'] , tag is  Intro  and Response ::  ['Hello! how can i help you ?']\n",
      "For intent  ['how are you'] , tag is  Profane  and Response ::  ['Please use respectful words']\n",
      "For intent  ['is anyone there'] , tag is  Intro  and Response ::  ['Hello! how can i help you ?']\n",
      "For intent  ['hello'] , tag is  Intro  and Response ::  ['Hello! how can i help you ?']\n",
      "For intent  ['whats up'] , tag is  Intro  and Response ::  ['Hello! how can i help you ?']\n",
      "For intent  ['hey'] , tag is  Intro  and Response ::  ['Hello! how can i help you ?']\n",
      "For intent  ['yo'] , tag is  Intro  and Response ::  ['Hello! how can i help you ?']\n",
      "For intent  ['listen'] , tag is  Intro  and Response ::  ['Hello! how can i help you ?']\n",
      "For intent  ['please help me'] , tag is  Intro  and Response ::  ['Hello! how can i help you ?']\n",
      "For intent  ['i am learner from'] , tag is  Intro  and Response ::  ['Hello! how can i help you ?']\n",
      "For intent  ['i belong to'] , tag is  Intro  and Response ::  ['Hello! how can i help you ?']\n",
      "For intent  ['aiml batch'] , tag is  Intro  and Response ::  ['Hello! how can i help you ?']\n",
      "For intent  ['aifl batch'] , tag is  Intro  and Response ::  ['Hello! how can i help you ?']\n",
      "For intent  ['i am from'] , tag is  Intro  and Response ::  ['Hello! how can i help you ?']\n",
      "For intent  ['my pm is'] , tag is  Intro  and Response ::  ['Hello! how can i help you ?']\n",
      "For intent  ['blended'] , tag is  Intro  and Response ::  ['Hello! how can i help you ?']\n",
      "For intent  ['online'] , tag is  Intro  and Response ::  ['Hello! how can i help you ?']\n",
      "For intent  ['i am from'] , tag is  Intro  and Response ::  ['Hello! how can i help you ?']\n",
      "For intent  ['hey ya'] , tag is  Intro  and Response ::  ['Hello! how can i help you ?']\n",
      "For intent  ['talking to you for first time'] , tag is  Intro  and Response ::  ['Hello! how can i help you ?']\n"
     ]
    }
   ],
   "source": [
    "for i in [[\"Whats up\"],[\"Help\"],[\"hi\"] ,[\"how are you\"] ,[\"is anyone there\"] ,[\"hello\"] ,[\"whats up\"],[\"hey\"],[\"yo\"],[\"listen\"] ,[\"please help me\"],[\"i am learner from\"],[\"i belong to\"],[\"aiml batch\"],[\"aifl batch\"],[\"i am from\"],[\"my pm is\"],[\"blended\"],[\"online\"] ,[\"i am from\"],[\"hey ya\"],[\"talking to you for first time\"]]:\n",
    "    inpX = vectorizer.transform(i)\n",
    "    pred_tag = Lable_list[np.argmax(model1.predict(inpX))]\n",
    "    print(\"For intent \", i ,\", tag is \" , pred_tag, \" and Response :: \", reply_responses(pred_tag))"
   ]
  },
  {
   "cell_type": "code",
   "execution_count": 28,
   "id": "78e5da6a",
   "metadata": {},
   "outputs": [
    {
     "name": "stdout",
     "output_type": "stream",
     "text": [
      "For intent  ['thank you'] , tag is  Exit  and Response ::  ['I hope I was able to assist you, Good Bye']\n",
      "For intent  ['thanks'] , tag is  Exit  and Response ::  ['I hope I was able to assist you, Good Bye']\n",
      "For intent  ['cya'] , tag is  Exit  and Response ::  ['I hope I was able to assist you, Good Bye']\n",
      "For intent  ['see you'] , tag is  Exit  and Response ::  ['I hope I was able to assist you, Good Bye']\n",
      "For intent  ['later'] , tag is  Exit  and Response ::  ['I hope I was able to assist you, Good Bye']\n",
      "For intent  ['see you later'] , tag is  Exit  and Response ::  ['I hope I was able to assist you, Good Bye']\n",
      "For intent  ['goodbye'] , tag is  Exit  and Response ::  ['I hope I was able to assist you, Good Bye']\n",
      "For intent  ['i am leaving'] , tag is  Exit  and Response ::  ['I hope I was able to assist you, Good Bye']\n",
      "For intent  ['have a Good day'] , tag is  Exit  and Response ::  ['I hope I was able to assist you, Good Bye']\n",
      "For intent  ['you helped me'] , tag is  Exit  and Response ::  ['I hope I was able to assist you, Good Bye']\n",
      "For intent  ['thanks a lot'] , tag is  Exit  and Response ::  ['I hope I was able to assist you, Good Bye']\n",
      "For intent  ['thanks'] , tag is  Exit  and Response ::  ['I hope I was able to assist you, Good Bye']\n",
      "For intent  ['you are the best'] , tag is  Exit  and Response ::  ['I hope I was able to assist you, Good Bye']\n",
      "For intent  ['great help'] , tag is  Exit  and Response ::  ['I hope I was able to assist you, Good Bye']\n",
      "For intent  ['too good'] , tag is  Exit  and Response ::  ['I hope I was able to assist you, Good Bye']\n",
      "For intent  ['you are a good learning buddy'] , tag is  Exit  and Response ::  ['I hope I was able to assist you, Good Bye']\n"
     ]
    }
   ],
   "source": [
    "for i in [[\"thank you\"] ,[\"thanks\"] ,[\"cya\"],[\"see you\"],[\"later\"] ,[\"see you later\"] ,[\"goodbye\"] ,[\"i am leaving\"] ,[\"have a Good day\"],[\"you helped me\"],[\"thanks a lot\"],[\"thanks\"],[\"you are the best\"],[\"great help\"],[\"too good\"],[\"you are a good learning buddy\"]]:\n",
    "    inpX = vectorizer.transform(i)\n",
    "    pred_tag = Lable_list[np.argmax(model1.predict(inpX))]\n",
    "    print(\"For intent \", i ,\", tag is \" , pred_tag , \" and Response :: \", reply_responses(pred_tag))"
   ]
  },
  {
   "cell_type": "code",
   "execution_count": 29,
   "id": "dd341f4a",
   "metadata": {},
   "outputs": [
    {
     "name": "stdout",
     "output_type": "stream",
     "text": [
      "For intent  ['explain me how olympus works'] , tag is  Olympus  and Response ::  ['Link: Olympus wiki']  \n",
      "\n",
      "For intent  ['I am not able to understand olympus'] , tag is  SL  and Response ::  ['Link: Machine Learning wiki ']  \n",
      "\n",
      "For intent  ['olympus window not working'] , tag is  Olympus  and Response ::  ['Link: Olympus wiki']  \n",
      "\n",
      "For intent  ['no access to olympus'] , tag is  Olympus  and Response ::  ['Link: Olympus wiki']  \n",
      "\n",
      "For intent  ['unable to see link in olympus'] , tag is  Olympus  and Response ::  ['Link: Olympus wiki']  \n",
      "\n",
      "For intent  ['no link visible on olympus'] , tag is  Olympus  and Response ::  ['Link: Olympus wiki']  \n",
      "\n",
      "For intent  ['whom to contact for olympus'] , tag is  Olympus  and Response ::  ['Link: Olympus wiki']  \n",
      "\n",
      "For intent  ['lot of problem with olympus'] , tag is  Olympus  and Response ::  ['Link: Olympus wiki']  \n",
      "\n",
      "For intent  ['olypus is not a good tool'] , tag is  Olympus  and Response ::  ['Link: Olympus wiki']  \n",
      "\n",
      "For intent  ['lot of problems with olympus'] , tag is  Olympus  and Response ::  ['Link: Olympus wiki']  \n",
      "\n",
      "For intent  ['how to use olympus'] , tag is  Olympus  and Response ::  ['Link: Olympus wiki']  \n",
      "\n",
      "For intent  ['teach me olympus'] , tag is  Olympus  and Response ::  ['Link: Olympus wiki']  \n",
      "\n",
      "For intent  ['thank you'] , tag is  Exit  and Response ::  ['I hope I was able to assist you, Good Bye']  \n",
      "\n",
      "For intent  ['thanks'] , tag is  Exit  and Response ::  ['I hope I was able to assist you, Good Bye']  \n",
      "\n",
      "For intent  ['cya'] , tag is  Exit  and Response ::  ['I hope I was able to assist you, Good Bye']  \n",
      "\n",
      "For intent  ['see you'] , tag is  Exit  and Response ::  ['I hope I was able to assist you, Good Bye']  \n",
      "\n",
      "For intent  ['later'] , tag is  Exit  and Response ::  ['I hope I was able to assist you, Good Bye']  \n",
      "\n",
      "For intent  ['see you later'] , tag is  Exit  and Response ::  ['I hope I was able to assist you, Good Bye']  \n",
      "\n",
      "For intent  ['goodbye'] , tag is  Exit  and Response ::  ['I hope I was able to assist you, Good Bye']  \n",
      "\n",
      "For intent  ['i am leaving'] , tag is  Exit  and Response ::  ['I hope I was able to assist you, Good Bye']  \n",
      "\n",
      "For intent  ['have a Good day'] , tag is  Exit  and Response ::  ['I hope I was able to assist you, Good Bye']  \n",
      "\n",
      "For intent  ['you helped me'] , tag is  Exit  and Response ::  ['I hope I was able to assist you, Good Bye']  \n",
      "\n",
      "For intent  ['thanks a lot'] , tag is  Exit  and Response ::  ['I hope I was able to assist you, Good Bye']  \n",
      "\n",
      "For intent  ['thanks a ton'] , tag is  Exit  and Response ::  ['I hope I was able to assist you, Good Bye']  \n",
      "\n",
      "For intent  ['you are the best'] , tag is  Exit  and Response ::  ['I hope I was able to assist you, Good Bye']  \n",
      "\n",
      "For intent  ['great help'] , tag is  Exit  and Response ::  ['I hope I was able to assist you, Good Bye']  \n",
      "\n",
      "For intent  ['too good'] , tag is  Exit  and Response ::  ['I hope I was able to assist you, Good Bye']  \n",
      "\n",
      "For intent  ['you are a good learning buddy'] , tag is  Exit  and Response ::  ['I hope I was able to assist you, Good Bye']  \n",
      "\n"
     ]
    }
   ],
   "source": [
    "for i in [[\"explain me how olympus works\"],[\"I am not able to understand olympus\"],[\"olympus window not working\"],[\"no access to olympus\"],[\"unable to see link in olympus\"],[\"no link visible on olympus\"],[\"whom to contact for olympus\"],[\"lot of problem with olympus\"],[\"olypus is not a good tool\"],[\"lot of problems with olympus\"],[\"how to use olympus\"],[\"teach me olympus\"],[\"thank you\"] ,[\"thanks\"] ,[\"cya\"],[\"see you\"],[\"later\"] ,[\"see you later\"] ,[\"goodbye\"] ,[\"i am leaving\"] ,[\"have a Good day\"],[\"you helped me\"],[\"thanks a lot\"],[\"thanks a ton\"],[\"you are the best\"],[\"great help\"],[\"too good\"],[\"you are a good learning buddy\"]]:\n",
    "    inpX = vectorizer.transform(i)\n",
    "    pred_tag = Lable_list[np.argmax(model1.predict(inpX))]\n",
    "    print(\"For intent \", i ,\", tag is \" ,pred_tag , \" and Response :: \", reply_responses(pred_tag) , \" \\n\")"
   ]
  },
  {
   "cell_type": "markdown",
   "id": "3c8c166e",
   "metadata": {},
   "source": [
    "    Building a chat bot in below cell and checking few inputs."
   ]
  },
  {
   "cell_type": "code",
   "execution_count": 31,
   "id": "407e64cb",
   "metadata": {},
   "outputs": [
    {
     "name": "stdout",
     "output_type": "stream",
     "text": [
      "Hi! I am a chatbot assistant from great learning with Trained model\n",
      "hello\n",
      "['Hello! how can i help you ?']\n",
      "create a ticket\n",
      "['Tarnsferring the request to your PM']\n",
      "adam\n",
      "['Link: Neural Nets wiki']\n",
      "sigmoid\n",
      "['Link: Neural Nets wiki']\n",
      "adaboost\n",
      "['Link: Neural Nets wiki']\n",
      "ada\n",
      "['Link: Machine Learning wiki ']\n",
      "bagging\n",
      "['Link: Machine Learning wiki ']\n",
      "you are a joke\n",
      "['Please use respectful words']\n",
      "what is the meaning of deep learning\n",
      "['Link: Neural Nets wiki']\n",
      "how deep learning is linked to AI\n",
      "['Link: Neural Nets wiki']\n",
      "you are a joke\n",
      "['Please use respectful words']\n",
      "quit\n"
     ]
    }
   ],
   "source": [
    "def chat():\n",
    "    print(\"Hi! I am a chatbot assistant from great learning with Trained model\")\n",
    "    while True:\n",
    "        user_input = input()\n",
    "        if user_input == \"quit\":\n",
    "            break\n",
    "        # output\n",
    "        inpX = vectorizer.transform([user_input])\n",
    "        pred_tag = Lable_list[np.argmax(model1.predict(inpX))]\n",
    "        print(reply_responses(pred_tag))\n",
    "    \n",
    "#initiate the conversation\n",
    "if __name__ == \"__main__\":\n",
    "    chat()"
   ]
  },
  {
   "cell_type": "markdown",
   "id": "c2b10e4a",
   "metadata": {},
   "source": [
    "    This model is having pretty good performance and the responses which are received after changing sentence are coming as per expectation. The chatbot responses can be improved by application of sequence to sequence model. For developing Seq2Seq AI Chatbot, We can look into encoder-decoder attention mechanism architecture. This encoder-decoder is using Recurrent Neural Network with LSTM (Long-Short-Term-Memory) cells.\n",
    "    \n",
    "    We can also look into the Generative models which are quite intelligent. They generate a response, word by word based on the query. These models are difficult to train, as they need to learn the proper sentence structure by themselves. But once trained it can give an impression of talking with a human for the user.    "
   ]
  },
  {
   "cell_type": "code",
   "execution_count": null,
   "id": "6fa6eba9",
   "metadata": {},
   "outputs": [],
   "source": []
  },
  {
   "cell_type": "code",
   "execution_count": null,
   "id": "3d025a93",
   "metadata": {},
   "outputs": [],
   "source": []
  }
 ],
 "metadata": {
  "kernelspec": {
   "display_name": "Python 3",
   "language": "python",
   "name": "python3"
  },
  "language_info": {
   "codemirror_mode": {
    "name": "ipython",
    "version": 3
   },
   "file_extension": ".py",
   "mimetype": "text/x-python",
   "name": "python",
   "nbconvert_exporter": "python",
   "pygments_lexer": "ipython3",
   "version": "3.6.13"
  }
 },
 "nbformat": 4,
 "nbformat_minor": 5
}
